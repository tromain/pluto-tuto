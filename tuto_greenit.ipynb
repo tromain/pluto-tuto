{
 "cells": [
  {
   "cell_type": "markdown",
   "id": "371254df-a3b4-4f3e-b34f-3c3db06828ba",
   "metadata": {},
   "source": [
    "# Reading rasters with rasterio\n"
   ]
  },
  {
   "cell_type": "markdown",
   "id": "fb2fcaf9-5b7b-4f37-b457-6e01e5035fbf",
   "metadata": {},
   "source": [
    "# Downscaling rasters thanks to dask\n",
    "\n",
    "In this notebook we will look at a concrete case of data aggregation, with the example of changing the resolution using dask.\n",
    "\n",
    "Dask is a Python library that enables calculations to be parallelized and large quantities of data to be handled in a scalable way, using available resources (CPU, memory, etc.). Unlike tools such as Pandas or NumPy, Dask allows you to work on data sets that exceed the available RAM memory by chunking the data into smaller pieces (chunks) and parallelizing calculations.\n",
    "Dask works with lazy computation: instead of executing immediately, it builds a task graph. Calculations are only executed when the final result is explicitly requested (for example, by calling .compute()).\n",
    "\n",
    "Dask offers a wide range of [modules](https://docs.dask.org/en/stable/#how-to-use-dask) (dask dataframe...) that can be used to distribute calculations. In this notebook we will focus on the use of [dask-arrays](https://docs.dask.org/en/stable/array.html) to manipulate raster data.\n",
    "\n",
    "In order to change the resolution, we will look at two possible methods. One of them will prove less effective than the other, which will allow us to establish some general principles to follow for optimal use of Dask. The first one will use [map_blocks](https://docs.dask.org/en/stable/generated/dask.array.map_blocks.html) and the second one only [dask.array.mean](https://docs.dask.org/en/stable/generated/dask.array.mean.html)\n",
    "\n",
    "For this tutorial, we will use a Sentinel-2 acquisition stored on the local disk. We will target the storage directory under the variable ``sentinel_2_dir``. Users can modify this directory and the associated paths.\n",
    "\n",
    "## Python scripts\n",
    "\n",
    "### Import libraries\n",
    "\n",
    "First let's import libraries needed for this tutorial and create our dask [LocalCluster](https://docs.dask.org/en/stable/deploying-python.html#localcluster) which allow us to create workers and use [dask's dashboard](https://docs.dask.org/en/latest/dashboard.html).\n"
   ]
  },
  {
   "cell_type": "code",
   "execution_count": 2,
   "id": "f89bb471-bf40-404a-82e1-ce4e77b14e21",
   "metadata": {
    "tags": []
   },
   "outputs": [
    {
     "name": "stderr",
     "output_type": "stream",
     "text": [
      "/usr/local/lib/python3.10/dist-packages/distributed/node.py:182: UserWarning: Port 8787 is already in use.\n",
      "Perhaps you already have a cluster running?\n",
      "Hosting the HTTP server on port 37319 instead\n",
      "  warnings.warn(\n"
     ]
    },
    {
     "name": "stdout",
     "output_type": "stream",
     "text": [
      "Dask Dashboard:  http://127.0.0.1:37319/status\n"
     ]
    },
    {
     "data": {
      "text/html": [
       "<div>\n",
       "    <div style=\"width: 24px; height: 24px; background-color: #e1e1e1; border: 3px solid #9D9D9D; border-radius: 5px; position: absolute;\"> </div>\n",
       "    <div style=\"margin-left: 48px;\">\n",
       "        <h3 style=\"margin-bottom: 0px;\">Client</h3>\n",
       "        <p style=\"color: #9D9D9D; margin-bottom: 0px;\">Client-d925221f-9c1b-11ef-af09-00001029fe80</p>\n",
       "        <table style=\"width: 100%; text-align: left;\">\n",
       "\n",
       "        <tr>\n",
       "        \n",
       "            <td style=\"text-align: left;\"><strong>Connection method:</strong> Cluster object</td>\n",
       "            <td style=\"text-align: left;\"><strong>Cluster type:</strong> distributed.LocalCluster</td>\n",
       "        \n",
       "        </tr>\n",
       "\n",
       "        \n",
       "            <tr>\n",
       "                <td style=\"text-align: left;\">\n",
       "                    <strong>Dashboard: </strong> <a href=\"http://127.0.0.1:37319/status\" target=\"_blank\">http://127.0.0.1:37319/status</a>\n",
       "                </td>\n",
       "                <td style=\"text-align: left;\"></td>\n",
       "            </tr>\n",
       "        \n",
       "\n",
       "        </table>\n",
       "\n",
       "        \n",
       "\n",
       "        \n",
       "            <details>\n",
       "            <summary style=\"margin-bottom: 20px;\"><h3 style=\"display: inline;\">Cluster Info</h3></summary>\n",
       "            <div class=\"jp-RenderedHTMLCommon jp-RenderedHTML jp-mod-trusted jp-OutputArea-output\">\n",
       "    <div style=\"width: 24px; height: 24px; background-color: #e1e1e1; border: 3px solid #9D9D9D; border-radius: 5px; position: absolute;\">\n",
       "    </div>\n",
       "    <div style=\"margin-left: 48px;\">\n",
       "        <h3 style=\"margin-bottom: 0px; margin-top: 0px;\">LocalCluster</h3>\n",
       "        <p style=\"color: #9D9D9D; margin-bottom: 0px;\">c8311a55</p>\n",
       "        <table style=\"width: 100%; text-align: left;\">\n",
       "            <tr>\n",
       "                <td style=\"text-align: left;\">\n",
       "                    <strong>Dashboard:</strong> <a href=\"http://127.0.0.1:37319/status\" target=\"_blank\">http://127.0.0.1:37319/status</a>\n",
       "                </td>\n",
       "                <td style=\"text-align: left;\">\n",
       "                    <strong>Workers:</strong> 1\n",
       "                </td>\n",
       "            </tr>\n",
       "            <tr>\n",
       "                <td style=\"text-align: left;\">\n",
       "                    <strong>Total threads:</strong> 1\n",
       "                </td>\n",
       "                <td style=\"text-align: left;\">\n",
       "                    <strong>Total memory:</strong> 0.98 TiB\n",
       "                </td>\n",
       "            </tr>\n",
       "            \n",
       "            <tr>\n",
       "    <td style=\"text-align: left;\"><strong>Status:</strong> running</td>\n",
       "    <td style=\"text-align: left;\"><strong>Using processes:</strong> True</td>\n",
       "</tr>\n",
       "\n",
       "            \n",
       "        </table>\n",
       "\n",
       "        <details>\n",
       "            <summary style=\"margin-bottom: 20px;\">\n",
       "                <h3 style=\"display: inline;\">Scheduler Info</h3>\n",
       "            </summary>\n",
       "\n",
       "            <div style=\"\">\n",
       "    <div>\n",
       "        <div style=\"width: 24px; height: 24px; background-color: #FFF7E5; border: 3px solid #FF6132; border-radius: 5px; position: absolute;\"> </div>\n",
       "        <div style=\"margin-left: 48px;\">\n",
       "            <h3 style=\"margin-bottom: 0px;\">Scheduler</h3>\n",
       "            <p style=\"color: #9D9D9D; margin-bottom: 0px;\">Scheduler-94223597-08d7-4d25-b3dc-e1eb43105923</p>\n",
       "            <table style=\"width: 100%; text-align: left;\">\n",
       "                <tr>\n",
       "                    <td style=\"text-align: left;\">\n",
       "                        <strong>Comm:</strong> tcp://127.0.0.1:41157\n",
       "                    </td>\n",
       "                    <td style=\"text-align: left;\">\n",
       "                        <strong>Workers:</strong> 1\n",
       "                    </td>\n",
       "                </tr>\n",
       "                <tr>\n",
       "                    <td style=\"text-align: left;\">\n",
       "                        <strong>Dashboard:</strong> <a href=\"http://127.0.0.1:37319/status\" target=\"_blank\">http://127.0.0.1:37319/status</a>\n",
       "                    </td>\n",
       "                    <td style=\"text-align: left;\">\n",
       "                        <strong>Total threads:</strong> 1\n",
       "                    </td>\n",
       "                </tr>\n",
       "                <tr>\n",
       "                    <td style=\"text-align: left;\">\n",
       "                        <strong>Started:</strong> Just now\n",
       "                    </td>\n",
       "                    <td style=\"text-align: left;\">\n",
       "                        <strong>Total memory:</strong> 0.98 TiB\n",
       "                    </td>\n",
       "                </tr>\n",
       "            </table>\n",
       "        </div>\n",
       "    </div>\n",
       "\n",
       "    <details style=\"margin-left: 48px;\">\n",
       "        <summary style=\"margin-bottom: 20px;\">\n",
       "            <h3 style=\"display: inline;\">Workers</h3>\n",
       "        </summary>\n",
       "\n",
       "        \n",
       "        <div style=\"margin-bottom: 20px;\">\n",
       "            <div style=\"width: 24px; height: 24px; background-color: #DBF5FF; border: 3px solid #4CC9FF; border-radius: 5px; position: absolute;\"> </div>\n",
       "            <div style=\"margin-left: 48px;\">\n",
       "            <details>\n",
       "                <summary>\n",
       "                    <h4 style=\"margin-bottom: 0px; display: inline;\">Worker: 0</h4>\n",
       "                </summary>\n",
       "                <table style=\"width: 100%; text-align: left;\">\n",
       "                    <tr>\n",
       "                        <td style=\"text-align: left;\">\n",
       "                            <strong>Comm: </strong> tcp://127.0.0.1:44851\n",
       "                        </td>\n",
       "                        <td style=\"text-align: left;\">\n",
       "                            <strong>Total threads: </strong> 1\n",
       "                        </td>\n",
       "                    </tr>\n",
       "                    <tr>\n",
       "                        <td style=\"text-align: left;\">\n",
       "                            <strong>Dashboard: </strong> <a href=\"http://127.0.0.1:38405/status\" target=\"_blank\">http://127.0.0.1:38405/status</a>\n",
       "                        </td>\n",
       "                        <td style=\"text-align: left;\">\n",
       "                            <strong>Memory: </strong> 0.98 TiB\n",
       "                        </td>\n",
       "                    </tr>\n",
       "                    <tr>\n",
       "                        <td style=\"text-align: left;\">\n",
       "                            <strong>Nanny: </strong> tcp://127.0.0.1:46553\n",
       "                        </td>\n",
       "                        <td style=\"text-align: left;\"></td>\n",
       "                    </tr>\n",
       "                    <tr>\n",
       "                        <td colspan=\"2\" style=\"text-align: left;\">\n",
       "                            <strong>Local directory: </strong> /tmp/slurm-25873630/dask-worker-space/worker-uw4h_qgs\n",
       "                        </td>\n",
       "                    </tr>\n",
       "\n",
       "                    \n",
       "\n",
       "                    \n",
       "\n",
       "                </table>\n",
       "            </details>\n",
       "            </div>\n",
       "        </div>\n",
       "        \n",
       "\n",
       "    </details>\n",
       "</div>\n",
       "\n",
       "        </details>\n",
       "    </div>\n",
       "</div>\n",
       "            </details>\n",
       "        \n",
       "\n",
       "    </div>\n",
       "</div>"
      ],
      "text/plain": [
       "<Client: 'tcp://127.0.0.1:41157' processes=1 threads=1, memory=0.98 TiB>"
      ]
     },
     "execution_count": 2,
     "metadata": {},
     "output_type": "execute_result"
    }
   ],
   "source": [
    "from pathlib import Path\n",
    "\n",
    "from typing import List, Tuple, Union, Dict\n",
    "import dask.array as da\n",
    "import numpy as np\n",
    "import rasterio\n",
    "import rioxarray as rxr\n",
    "from dask import delayed\n",
    "from dask.distributed import Client, LocalCluster\n",
    "from rasterio.transform import Affine\n",
    "\n",
    "from utils import create_map_with_rasters\n",
    "\n",
    "cluster = LocalCluster()\n",
    "client = Client(cluster)\n",
    "\n",
    "print(\"Dask Dashboard: \", client.dashboard_link)\n",
    "client"
   ]
  },
  {
   "cell_type": "markdown",
   "id": "2a86c2ad-975b-4ed5-a8b0-8add6c8714d4",
   "metadata": {},
   "source": [
    "Dask return an url where the dashboard is availaible (usually http://127.0.0.1:8787/status). This is not a tutorial on how to use this dashboard, but we recommend using it in a separate window while using this notebook.\n",
    "\n",
    "### Open raster thanks to rioxarray\n",
    "\n",
    "Here we are going to open the raster data required for this tutorial, the RGB bands from a Sentinel-2 acquisition. To do this, we're going to use rioxarray and, more specifically, the [open_rasterio](https://corteva.github.io/rioxarray/html/rioxarray.html#rioxarray-open-rasterio) method, which opens the images lazily (without loading data into memory) and returns a `dask.array` object. \n",
    "From this method we will use the ``chunks`` and ``lock`` arguments, which respectively set a chunk size and limit access to the data to one thread at a time to avoid read problems. Here ``chunks`` is set to ``True`` to allow dask to automatically size chunks.\n"
   ]
  },
  {
   "cell_type": "markdown",
   "id": "0e86755c-f505-4d6b-830e-396485e12054",
   "metadata": {},
   "source": [
    "## Calculation of the Average NDVI with dask\n",
    "\n",
    "In this example, we will use what we have learned to: \n",
    "\n",
    "1. Read the data from the disk and stack them.\n",
    "2. Calculate the associated NDVI, which combines multi-band information into a single band.\n",
    "3. Reduce the information by calculating the average NDVI within a window.\n",
    "4. Write the resulting image to the disk.\n",
    "\n",
    "First, let's read the data we need to perform the NDVI."
   ]
  },
  {
   "cell_type": "code",
   "execution_count": 3,
   "id": "5e0c156e-01ef-4c1d-b300-e2c639fd87a9",
   "metadata": {
    "tags": []
   },
   "outputs": [],
   "source": [
    "def open_raster_and_get_metadata(raster_paths: List[str], chunks: Union[int, Tuple, Dict, None]):\n",
    "    \"\"\"\n",
    "    Opens multiple raster files, extracts shared geospatial metadata, \n",
    "    and returns the concatenated data along with resolution and CRS info.\n",
    "\n",
    "    Parameters:\n",
    "    -----------\n",
    "    raster_paths : List[str]\n",
    "        Paths to the raster files.\n",
    "    chunks : Union[int, Tuple, Dict, bool, None]\n",
    "        Chunk sizes for Dask (bands, height, width).\n",
    "\n",
    "    Returns:\n",
    "    --------\n",
    "    Tuple[dask.array.Array, float, float, float, float, Union[str, CRS]]\n",
    "        Concatenated raster data, x and y resolution, top-left coordinates, and CRS.\n",
    "    \"\"\"\n",
    "    results = []\n",
    "    for raster_path in raster_paths:\n",
    "        with rxr.open_rasterio(raster_path, chunks=chunks, lock=True) as tif:\n",
    "            reprojection = tif\n",
    "            transform = reprojection.rio.transform()\n",
    "            crs = reprojection.rio.crs\n",
    "            x_res = transform[0]\n",
    "            y_res = -transform[4]\n",
    "            top_left_x = transform[2]\n",
    "            top_left_y = transform[5]\n",
    "            results.append(reprojection)\n",
    "\n",
    "    return da.concatenate(results), x_res, y_res, top_left_x, top_left_y, crs\n",
    "\n",
    "# Paths to RGB Sentinel-2 bands\n",
    "sentinel_2_dir = \"/work/scratch/data/romaint/\" # change it for your own directory\n",
    "\n",
    "s2_1 = f\"{sentinel_2_dir}/SENTINEL2A_20210415-105852-555_L2A_T31TCJ_C_V3-0_FRE_STACK.tif\"\n",
    "s2_2 = f\"{sentinel_2_dir}/SENTINEL2B_20210407-104900-035_L2A_T31TCJ_C_V3-0/SENTINEL2B_20210407-104900-035_L2A_T31TCJ_C_V3-0_FRE_STACK.tif\"\n",
    "s2_b4 = f\"{sentinel_2_dir}/SENTINEL2B_20240822-105857-973_L2A_T31TCJ_C_V3-1/SENTINEL2B_20240822-105857-973_L2A_T31TCJ_C_V3-1_FRE_B4.tif\"\n",
    "s2_b8 = f\"{sentinel_2_dir}/SENTINEL2B_20240822-105857-973_L2A_T31TCJ_C_V3-1/SENTINEL2B_20240822-105857-973_L2A_T31TCJ_C_V3-1_FRE_B8.tif\"\n",
    "reading_chunks = True\n",
    "#(-1,2200,2200)\n",
    "input_data_array, x_res, y_res, top_left_x, top_left_y, crs = open_raster_and_get_metadata([s2_b4,s2_b8], reading_chunks)"
   ]
  },
  {
   "cell_type": "markdown",
   "id": "fc56a7e0-edb5-4635-b5a2-0b274d08ce38",
   "metadata": {},
   "source": [
    "When the data is read, we can express the NDVI calculation as if it were a numpy array. We add ``[None, :, :]`` to keep the shape as ``(bands, rows, cols)``. Then we can apply reduction on the dask.array and use ``compute()`` on it to triger the computation."
   ]
  },
  {
   "cell_type": "code",
   "execution_count": 4,
   "id": "71481af7-7b8b-4f09-8a02-fd3bc2ec3f8f",
   "metadata": {
    "tags": []
   },
   "outputs": [
    {
     "data": {
      "text/html": [
       "<table>\n",
       "    <tr>\n",
       "        <td>\n",
       "            <table style=\"border-collapse: collapse;\">\n",
       "                <thead>\n",
       "                    <tr>\n",
       "                        <td> </td>\n",
       "                        <th> Array </th>\n",
       "                        <th> Chunk </th>\n",
       "                    </tr>\n",
       "                </thead>\n",
       "                <tbody>\n",
       "                    \n",
       "                    <tr>\n",
       "                        <th> Bytes </th>\n",
       "                        <td> 459.90 MiB </td>\n",
       "                        <td> 127.98 MiB </td>\n",
       "                    </tr>\n",
       "                    \n",
       "                    <tr>\n",
       "                        <th> Shape </th>\n",
       "                        <td> (2, 10980, 10980) </td>\n",
       "                        <td> (1, 6111, 10980) </td>\n",
       "                    </tr>\n",
       "                    <tr>\n",
       "                        <th> Dask graph </th>\n",
       "                        <td colspan=\"2\"> 4 chunks in 5 graph layers </td>\n",
       "                    </tr>\n",
       "                    <tr>\n",
       "                        <th> Data type </th>\n",
       "                        <td colspan=\"2\"> int16 numpy.ndarray </td>\n",
       "                    </tr>\n",
       "                </tbody>\n",
       "            </table>\n",
       "        </td>\n",
       "        <td>\n",
       "        <svg width=\"194\" height=\"184\" style=\"stroke:rgb(0,0,0);stroke-width:1\" >\n",
       "\n",
       "  <!-- Horizontal lines -->\n",
       "  <line x1=\"10\" y1=\"0\" x2=\"24\" y2=\"14\" style=\"stroke-width:2\" />\n",
       "  <line x1=\"10\" y1=\"66\" x2=\"24\" y2=\"81\" />\n",
       "  <line x1=\"10\" y1=\"120\" x2=\"24\" y2=\"134\" style=\"stroke-width:2\" />\n",
       "\n",
       "  <!-- Vertical lines -->\n",
       "  <line x1=\"10\" y1=\"0\" x2=\"10\" y2=\"120\" style=\"stroke-width:2\" />\n",
       "  <line x1=\"17\" y1=\"7\" x2=\"17\" y2=\"127\" />\n",
       "  <line x1=\"24\" y1=\"14\" x2=\"24\" y2=\"134\" style=\"stroke-width:2\" />\n",
       "\n",
       "  <!-- Colored Rectangle -->\n",
       "  <polygon points=\"10.0,0.0 24.9485979497544,14.948597949754403 24.9485979497544,134.9485979497544 10.0,120.0\" style=\"fill:#ECB172A0;stroke-width:0\"/>\n",
       "\n",
       "  <!-- Horizontal lines -->\n",
       "  <line x1=\"10\" y1=\"0\" x2=\"130\" y2=\"0\" style=\"stroke-width:2\" />\n",
       "  <line x1=\"17\" y1=\"7\" x2=\"137\" y2=\"7\" />\n",
       "  <line x1=\"24\" y1=\"14\" x2=\"144\" y2=\"14\" style=\"stroke-width:2\" />\n",
       "\n",
       "  <!-- Vertical lines -->\n",
       "  <line x1=\"10\" y1=\"0\" x2=\"24\" y2=\"14\" style=\"stroke-width:2\" />\n",
       "  <line x1=\"130\" y1=\"0\" x2=\"144\" y2=\"14\" style=\"stroke-width:2\" />\n",
       "\n",
       "  <!-- Colored Rectangle -->\n",
       "  <polygon points=\"10.0,0.0 130.0,0.0 144.9485979497544,14.948597949754403 24.9485979497544,14.948597949754403\" style=\"fill:#ECB172A0;stroke-width:0\"/>\n",
       "\n",
       "  <!-- Horizontal lines -->\n",
       "  <line x1=\"24\" y1=\"14\" x2=\"144\" y2=\"14\" style=\"stroke-width:2\" />\n",
       "  <line x1=\"24\" y1=\"81\" x2=\"144\" y2=\"81\" />\n",
       "  <line x1=\"24\" y1=\"134\" x2=\"144\" y2=\"134\" style=\"stroke-width:2\" />\n",
       "\n",
       "  <!-- Vertical lines -->\n",
       "  <line x1=\"24\" y1=\"14\" x2=\"24\" y2=\"134\" style=\"stroke-width:2\" />\n",
       "  <line x1=\"144\" y1=\"14\" x2=\"144\" y2=\"134\" style=\"stroke-width:2\" />\n",
       "\n",
       "  <!-- Colored Rectangle -->\n",
       "  <polygon points=\"24.9485979497544,14.948597949754403 144.9485979497544,14.948597949754403 144.9485979497544,134.9485979497544 24.9485979497544,134.9485979497544\" style=\"fill:#ECB172A0;stroke-width:0\"/>\n",
       "\n",
       "  <!-- Text -->\n",
       "  <text x=\"84.948598\" y=\"154.948598\" font-size=\"1.0rem\" font-weight=\"100\" text-anchor=\"middle\" >10980</text>\n",
       "  <text x=\"164.948598\" y=\"74.948598\" font-size=\"1.0rem\" font-weight=\"100\" text-anchor=\"middle\" transform=\"rotate(-90,164.948598,74.948598)\">10980</text>\n",
       "  <text x=\"7.474299\" y=\"147.474299\" font-size=\"1.0rem\" font-weight=\"100\" text-anchor=\"middle\" transform=\"rotate(45,7.474299,147.474299)\">2</text>\n",
       "</svg>\n",
       "        </td>\n",
       "    </tr>\n",
       "</table>"
      ],
      "text/plain": [
       "dask.array<concatenate, shape=(2, 10980, 10980), dtype=int16, chunksize=(1, 6111, 10980), chunktype=numpy.ndarray>"
      ]
     },
     "execution_count": 4,
     "metadata": {},
     "output_type": "execute_result"
    }
   ],
   "source": [
    "input_data_array"
   ]
  },
  {
   "cell_type": "code",
   "execution_count": 5,
   "id": "2dad7fe0-23bc-40b2-b27e-4c7cb0f8dc0e",
   "metadata": {
    "tags": []
   },
   "outputs": [
    {
     "name": "stdout",
     "output_type": "stream",
     "text": [
      "(2, 10980, 10980)\n"
     ]
    }
   ],
   "source": [
    "print(input_data_array.shape)\n",
    "ndvi_array = (input_data_array[1] - input_data_array[0]) / (input_data_array[1] + input_data_array[0])[None, :, :]"
   ]
  },
  {
   "cell_type": "code",
   "execution_count": 6,
   "id": "19fc2fce-4aca-4b7a-abd6-6baba3b5c464",
   "metadata": {
    "tags": []
   },
   "outputs": [
    {
     "name": "stdout",
     "output_type": "stream",
     "text": [
      "CPU times: user 165 ms, sys: 455 ms, total: 619 ms\n",
      "Wall time: 2.06 s\n"
     ]
    }
   ],
   "source": [
    "%%time\n",
    "\n",
    "mean_ndvi = ndvi_array.compute()"
   ]
  },
  {
   "cell_type": "code",
   "execution_count": 7,
   "id": "c4f6ae3e-4511-448f-97d8-ff85172dea6c",
   "metadata": {
    "tags": []
   },
   "outputs": [],
   "source": [
    "def create_raster(data: np.ndarray, output_file: Path, x_res, y_res, top_left_x, top_left_y, crs):\n",
    "    transform = Affine.translation(top_left_x, top_left_y) * Affine.scale(x_res, -y_res)\n",
    "    with rasterio.open(\n",
    "            output_file, \"w\",\n",
    "            driver=\"GTiff\",\n",
    "            height=data.shape[1],\n",
    "            width=data.shape[2],\n",
    "            count=data.shape[0],\n",
    "            dtype=data.dtype,\n",
    "            crs=crs,\n",
    "            transform=transform\n",
    "    ) as dst:\n",
    "        dst.write(data)\n",
    "\n",
    "crs=\"EPSG:4326\"\n",
    "output_file = Path(\"ndvi_dask.tif\")\n",
    "quicklook_img = f\"{sentinel_2_dir}/SENTINEL2B_20240822-105857-973_L2A_T31TCJ_C_V3-1/SENTINEL2B_20240822-105857-973_L2A_T31TCJ_C_V3-1_QKL_ALL.jpg\"\n",
    "create_raster(ndvi_array, output_file, x_res , y_res,\n",
    "                  top_left_x, top_left_y, crs)"
   ]
  },
  {
   "cell_type": "markdown",
   "id": "7f5d09f0-cf39-4e3b-afcb-6db0bccc877a",
   "metadata": {},
   "source": [
    "# Calculate NDVI With OTB in python"
   ]
  },
  {
   "cell_type": "code",
   "execution_count": 16,
   "id": "d83fde75-d936-4372-b7c6-412c9b2d5bf7",
   "metadata": {
    "tags": []
   },
   "outputs": [
    {
     "name": "stderr",
     "output_type": "stream",
     "text": [
      "Warning 1: Invalid value for NUM_THREADS: \n"
     ]
    },
    {
     "name": "stdout",
     "output_type": "stream",
     "text": [
      "Writing /work/scratch/data/romaint/img_ndvi_otb.tif...: 100% [**************************************************] (7s)\n"
     ]
    },
    {
     "data": {
      "text/plain": [
       "0"
      ]
     },
     "execution_count": 16,
     "metadata": {},
     "output_type": "execute_result"
    }
   ],
   "source": [
    "import otbApplication as otb\n",
    "\n",
    "sentinel_2_dir = \"/work/scratch/data/romaint\"\n",
    "s2_b4 = f\"{sentinel_2_dir}/SENTINEL2B_20240822-105857-973_L2A_T31TCJ_C_V3-1/SENTINEL2B_20240822-105857-973_L2A_T31TCJ_C_V3-1_FRE_B4.tif\"\n",
    "s2_b8 = f\"{sentinel_2_dir}/SENTINEL2B_20240822-105857-973_L2A_T31TCJ_C_V3-1/SENTINEL2B_20240822-105857-973_L2A_T31TCJ_C_V3-1_FRE_B8.tif\"\n",
    "out_ndvi_otb_py=\"/work/scratch/data/romaint/img_ndvi_otb.tif\"\n",
    "#Compute NDVI with OTB in python\n",
    "app_ndvi_otb = otb.Registry.CreateApplication(\"BandMath\")\n",
    "app_ndvi_otb.SetParameterStringList(\"il\",[s2_b4,s2_b8])\n",
    "app_ndvi_otb.SetParameterString(\"exp\",\"(im2b1-im1b1)/(im2b1+im1b1)\")\n",
    "app_ndvi_otb.SetParameterString(\"out\",out_ndvi_otb_py)\n",
    "app_ndvi_otb.ExecuteAndWriteOutput()\n"
   ]
  },
  {
   "cell_type": "markdown",
   "id": "c030e442-871e-4d59-8cb6-1310b5867df1",
   "metadata": {},
   "source": [
    "# Calculate NDVI with OTB in C++\n",
    "This part will call BandMath with the otb CLI to compare performances with the python swig interface"
   ]
  },
  {
   "cell_type": "code",
   "execution_count": 23,
   "id": "73a731cf-a534-4b49-9a6d-425b58d87e45",
   "metadata": {
    "tags": []
   },
   "outputs": [
    {
     "name": "stderr",
     "output_type": "stream",
     "text": [
      "Warning 1: Invalid value for NUM_THREADS: \n"
     ]
    },
    {
     "name": "stdout",
     "output_type": "stream",
     "text": [
      "Writing /work/scratch/data/romaint/img_ndvi_otb_cpp.tif...: 100% [**************************************************] (5s)\n"
     ]
    }
   ],
   "source": [
    "%%bash\n",
    "otbcli_BandMath -il \"/work/scratch/data/romaint/SENTINEL2B_20240822-105857-973_L2A_T31TCJ_C_V3-1/SENTINEL2B_20240822-105857-973_L2A_T31TCJ_C_V3-1_FRE_B4.tif\" \"/work/scratch/data/romaint/SENTINEL2B_20240822-105857-973_L2A_T31TCJ_C_V3-1/SENTINEL2B_20240822-105857-973_L2A_T31TCJ_C_V3-1_FRE_B8.tif\" -exp \"( im2b1 - im1b1 ) / ( im2b1 + im1b1 )\" -out \"/work/scratch/data/romaint/img_ndvi_otb_cpp.tif\" "
   ]
  },
  {
   "cell_type": "markdown",
   "id": "7966cdad-a3d7-467d-bd1a-d207bc85bde0",
   "metadata": {},
   "source": [
    "# Compute SuperImpose with OTB\n",
    "\n",
    "Superimpose does a resampling then a crop to have a new raster that has the same resolution as the reference input image. This app is using multithreading a lot, it is interesting to compare it with a solution like dask and full python / rasterio"
   ]
  },
  {
   "cell_type": "code",
   "execution_count": null,
   "id": "71d9a855-86f3-48aa-a9eb-32a1dc853649",
   "metadata": {},
   "outputs": [],
   "source": [
    "import otbApplication as otb\n",
    "\n",
    "product_dir = \"/work/scratch/data/romaint\"\n",
    "appSI = otb.Registry.CreateApplication(\"Superimpose\")\n",
    "\n",
    "appSI.SetParameterString(\"inr\", \"QB_Toulouse_Ortho_PAN.tif\")\n",
    "appSI.SetParameterString(\"inm\", \"QB_Toulouse_Ortho_XS.tif\")\n",
    "appSI.SetParameterString(\"out\", \"SuperimposedXS_to_PAN.tif\")\n",
    "\n",
    "appSI.ExecuteAndWriteOutput()"
   ]
  }
 ],
 "metadata": {
  "kernelspec": {
   "display_name": "Python 3 (ipykernel)",
   "language": "python",
   "name": "python3"
  },
  "language_info": {
   "codemirror_mode": {
    "name": "ipython",
    "version": 3
   },
   "file_extension": ".py",
   "mimetype": "text/x-python",
   "name": "python",
   "nbconvert_exporter": "python",
   "pygments_lexer": "ipython3",
   "version": "3.10.12"
  }
 },
 "nbformat": 4,
 "nbformat_minor": 5
}
