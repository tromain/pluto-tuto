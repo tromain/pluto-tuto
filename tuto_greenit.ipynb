{
 "cells": [
  {
   "cell_type": "markdown",
   "id": "371254df-a3b4-4f3e-b34f-3c3db06828ba",
   "metadata": {},
   "source": [
    "# Reading rasters with rasterio\n"
   ]
  },
  {
   "cell_type": "markdown",
   "id": "fb2fcaf9-5b7b-4f37-b457-6e01e5035fbf",
   "metadata": {},
   "source": [
    "# Downscaling rasters thanks to dask\n",
    "\n",
    "In this notebook we will look at a concrete case of data aggregation, with the example of changing the resolution using dask.\n",
    "\n",
    "Dask is a Python library that enables calculations to be parallelized and large quantities of data to be handled in a scalable way, using available resources (CPU, memory, etc.). Unlike tools such as Pandas or NumPy, Dask allows you to work on data sets that exceed the available RAM memory by chunking the data into smaller pieces (chunks) and parallelizing calculations.\n",
    "Dask works with lazy computation: instead of executing immediately, it builds a task graph. Calculations are only executed when the final result is explicitly requested (for example, by calling .compute()).\n",
    "\n",
    "Dask offers a wide range of [modules](https://docs.dask.org/en/stable/#how-to-use-dask) (dask dataframe...) that can be used to distribute calculations. In this notebook we will focus on the use of [dask-arrays](https://docs.dask.org/en/stable/array.html) to manipulate raster data.\n",
    "\n",
    "In order to change the resolution, we will look at two possible methods. One of them will prove less effective than the other, which will allow us to establish some general principles to follow for optimal use of Dask. The first one will use [map_blocks](https://docs.dask.org/en/stable/generated/dask.array.map_blocks.html) and the second one only [dask.array.mean](https://docs.dask.org/en/stable/generated/dask.array.mean.html)\n",
    "\n",
    "For this tutorial, we will use a Sentinel-2 acquisition stored on the local disk. We will target the storage directory under the variable ``sentinel_2_dir``. Users can modify this directory and the associated paths.\n",
    "\n",
    "## Python scripts\n",
    "\n",
    "### Import libraries\n",
    "\n",
    "First let's import libraries needed for this tutorial and create our dask [LocalCluster](https://docs.dask.org/en/stable/deploying-python.html#localcluster) which allow us to create workers and use [dask's dashboard](https://docs.dask.org/en/latest/dashboard.html).\n"
   ]
  },
  {
   "cell_type": "code",
   "execution_count": 53,
   "id": "f89bb471-bf40-404a-82e1-ce4e77b14e21",
   "metadata": {
    "tags": []
   },
   "outputs": [
    {
     "name": "stderr",
     "output_type": "stream",
     "text": [
      "/home/tromain/Apps/miniconda3/envs/env_greenit_2/lib/python3.11/site-packages/distributed/node.py:187: UserWarning: Port 8787 is already in use.\n",
      "Perhaps you already have a cluster running?\n",
      "Hosting the HTTP server on port 37043 instead\n",
      "  warnings.warn(\n"
     ]
    },
    {
     "name": "stdout",
     "output_type": "stream",
     "text": [
      "Dask Dashboard:  http://127.0.0.1:37043/status\n"
     ]
    },
    {
     "data": {
      "text/html": [
       "<div>\n",
       "    <div style=\"width: 24px; height: 24px; background-color: #e1e1e1; border: 3px solid #9D9D9D; border-radius: 5px; position: absolute;\"> </div>\n",
       "    <div style=\"margin-left: 48px;\">\n",
       "        <h3 style=\"margin-bottom: 0px;\">Client</h3>\n",
       "        <p style=\"color: #9D9D9D; margin-bottom: 0px;\">Client-9723ed70-9de5-11ef-863d-589671ac823c</p>\n",
       "        <table style=\"width: 100%; text-align: left;\">\n",
       "\n",
       "        <tr>\n",
       "        \n",
       "            <td style=\"text-align: left;\"><strong>Connection method:</strong> Cluster object</td>\n",
       "            <td style=\"text-align: left;\"><strong>Cluster type:</strong> distributed.LocalCluster</td>\n",
       "        \n",
       "        </tr>\n",
       "\n",
       "        \n",
       "            <tr>\n",
       "                <td style=\"text-align: left;\">\n",
       "                    <strong>Dashboard: </strong> <a href=\"http://127.0.0.1:37043/status\" target=\"_blank\">http://127.0.0.1:37043/status</a>\n",
       "                </td>\n",
       "                <td style=\"text-align: left;\"></td>\n",
       "            </tr>\n",
       "        \n",
       "\n",
       "        </table>\n",
       "\n",
       "        \n",
       "\n",
       "        \n",
       "            <details>\n",
       "            <summary style=\"margin-bottom: 20px;\"><h3 style=\"display: inline;\">Cluster Info</h3></summary>\n",
       "            <div class=\"jp-RenderedHTMLCommon jp-RenderedHTML jp-mod-trusted jp-OutputArea-output\">\n",
       "    <div style=\"width: 24px; height: 24px; background-color: #e1e1e1; border: 3px solid #9D9D9D; border-radius: 5px; position: absolute;\">\n",
       "    </div>\n",
       "    <div style=\"margin-left: 48px;\">\n",
       "        <h3 style=\"margin-bottom: 0px; margin-top: 0px;\">LocalCluster</h3>\n",
       "        <p style=\"color: #9D9D9D; margin-bottom: 0px;\">a20598c6</p>\n",
       "        <table style=\"width: 100%; text-align: left;\">\n",
       "            <tr>\n",
       "                <td style=\"text-align: left;\">\n",
       "                    <strong>Dashboard:</strong> <a href=\"http://127.0.0.1:37043/status\" target=\"_blank\">http://127.0.0.1:37043/status</a>\n",
       "                </td>\n",
       "                <td style=\"text-align: left;\">\n",
       "                    <strong>Workers:</strong> 4\n",
       "                </td>\n",
       "            </tr>\n",
       "            <tr>\n",
       "                <td style=\"text-align: left;\">\n",
       "                    <strong>Total threads:</strong> 16\n",
       "                </td>\n",
       "                <td style=\"text-align: left;\">\n",
       "                    <strong>Total memory:</strong> 30.63 GiB\n",
       "                </td>\n",
       "            </tr>\n",
       "            \n",
       "            <tr>\n",
       "    <td style=\"text-align: left;\"><strong>Status:</strong> running</td>\n",
       "    <td style=\"text-align: left;\"><strong>Using processes:</strong> True</td>\n",
       "</tr>\n",
       "\n",
       "            \n",
       "        </table>\n",
       "\n",
       "        <details>\n",
       "            <summary style=\"margin-bottom: 20px;\">\n",
       "                <h3 style=\"display: inline;\">Scheduler Info</h3>\n",
       "            </summary>\n",
       "\n",
       "            <div style=\"\">\n",
       "    <div>\n",
       "        <div style=\"width: 24px; height: 24px; background-color: #FFF7E5; border: 3px solid #FF6132; border-radius: 5px; position: absolute;\"> </div>\n",
       "        <div style=\"margin-left: 48px;\">\n",
       "            <h3 style=\"margin-bottom: 0px;\">Scheduler</h3>\n",
       "            <p style=\"color: #9D9D9D; margin-bottom: 0px;\">Scheduler-3665a499-b764-4923-9552-72773bafd7f6</p>\n",
       "            <table style=\"width: 100%; text-align: left;\">\n",
       "                <tr>\n",
       "                    <td style=\"text-align: left;\">\n",
       "                        <strong>Comm:</strong> tcp://127.0.0.1:41837\n",
       "                    </td>\n",
       "                    <td style=\"text-align: left;\">\n",
       "                        <strong>Workers:</strong> 4\n",
       "                    </td>\n",
       "                </tr>\n",
       "                <tr>\n",
       "                    <td style=\"text-align: left;\">\n",
       "                        <strong>Dashboard:</strong> <a href=\"http://127.0.0.1:37043/status\" target=\"_blank\">http://127.0.0.1:37043/status</a>\n",
       "                    </td>\n",
       "                    <td style=\"text-align: left;\">\n",
       "                        <strong>Total threads:</strong> 16\n",
       "                    </td>\n",
       "                </tr>\n",
       "                <tr>\n",
       "                    <td style=\"text-align: left;\">\n",
       "                        <strong>Started:</strong> Just now\n",
       "                    </td>\n",
       "                    <td style=\"text-align: left;\">\n",
       "                        <strong>Total memory:</strong> 30.63 GiB\n",
       "                    </td>\n",
       "                </tr>\n",
       "            </table>\n",
       "        </div>\n",
       "    </div>\n",
       "\n",
       "    <details style=\"margin-left: 48px;\">\n",
       "        <summary style=\"margin-bottom: 20px;\">\n",
       "            <h3 style=\"display: inline;\">Workers</h3>\n",
       "        </summary>\n",
       "\n",
       "        \n",
       "        <div style=\"margin-bottom: 20px;\">\n",
       "            <div style=\"width: 24px; height: 24px; background-color: #DBF5FF; border: 3px solid #4CC9FF; border-radius: 5px; position: absolute;\"> </div>\n",
       "            <div style=\"margin-left: 48px;\">\n",
       "            <details>\n",
       "                <summary>\n",
       "                    <h4 style=\"margin-bottom: 0px; display: inline;\">Worker: 0</h4>\n",
       "                </summary>\n",
       "                <table style=\"width: 100%; text-align: left;\">\n",
       "                    <tr>\n",
       "                        <td style=\"text-align: left;\">\n",
       "                            <strong>Comm: </strong> tcp://127.0.0.1:39503\n",
       "                        </td>\n",
       "                        <td style=\"text-align: left;\">\n",
       "                            <strong>Total threads: </strong> 4\n",
       "                        </td>\n",
       "                    </tr>\n",
       "                    <tr>\n",
       "                        <td style=\"text-align: left;\">\n",
       "                            <strong>Dashboard: </strong> <a href=\"http://127.0.0.1:40587/status\" target=\"_blank\">http://127.0.0.1:40587/status</a>\n",
       "                        </td>\n",
       "                        <td style=\"text-align: left;\">\n",
       "                            <strong>Memory: </strong> 7.66 GiB\n",
       "                        </td>\n",
       "                    </tr>\n",
       "                    <tr>\n",
       "                        <td style=\"text-align: left;\">\n",
       "                            <strong>Nanny: </strong> tcp://127.0.0.1:42947\n",
       "                        </td>\n",
       "                        <td style=\"text-align: left;\"></td>\n",
       "                    </tr>\n",
       "                    <tr>\n",
       "                        <td colspan=\"2\" style=\"text-align: left;\">\n",
       "                            <strong>Local directory: </strong> /tmp/dask-scratch-space/worker-3of2mpm6\n",
       "                        </td>\n",
       "                    </tr>\n",
       "\n",
       "                    \n",
       "\n",
       "                    \n",
       "\n",
       "                </table>\n",
       "            </details>\n",
       "            </div>\n",
       "        </div>\n",
       "        \n",
       "        <div style=\"margin-bottom: 20px;\">\n",
       "            <div style=\"width: 24px; height: 24px; background-color: #DBF5FF; border: 3px solid #4CC9FF; border-radius: 5px; position: absolute;\"> </div>\n",
       "            <div style=\"margin-left: 48px;\">\n",
       "            <details>\n",
       "                <summary>\n",
       "                    <h4 style=\"margin-bottom: 0px; display: inline;\">Worker: 1</h4>\n",
       "                </summary>\n",
       "                <table style=\"width: 100%; text-align: left;\">\n",
       "                    <tr>\n",
       "                        <td style=\"text-align: left;\">\n",
       "                            <strong>Comm: </strong> tcp://127.0.0.1:33637\n",
       "                        </td>\n",
       "                        <td style=\"text-align: left;\">\n",
       "                            <strong>Total threads: </strong> 4\n",
       "                        </td>\n",
       "                    </tr>\n",
       "                    <tr>\n",
       "                        <td style=\"text-align: left;\">\n",
       "                            <strong>Dashboard: </strong> <a href=\"http://127.0.0.1:46855/status\" target=\"_blank\">http://127.0.0.1:46855/status</a>\n",
       "                        </td>\n",
       "                        <td style=\"text-align: left;\">\n",
       "                            <strong>Memory: </strong> 7.66 GiB\n",
       "                        </td>\n",
       "                    </tr>\n",
       "                    <tr>\n",
       "                        <td style=\"text-align: left;\">\n",
       "                            <strong>Nanny: </strong> tcp://127.0.0.1:34317\n",
       "                        </td>\n",
       "                        <td style=\"text-align: left;\"></td>\n",
       "                    </tr>\n",
       "                    <tr>\n",
       "                        <td colspan=\"2\" style=\"text-align: left;\">\n",
       "                            <strong>Local directory: </strong> /tmp/dask-scratch-space/worker-5wbyfhxh\n",
       "                        </td>\n",
       "                    </tr>\n",
       "\n",
       "                    \n",
       "\n",
       "                    \n",
       "\n",
       "                </table>\n",
       "            </details>\n",
       "            </div>\n",
       "        </div>\n",
       "        \n",
       "        <div style=\"margin-bottom: 20px;\">\n",
       "            <div style=\"width: 24px; height: 24px; background-color: #DBF5FF; border: 3px solid #4CC9FF; border-radius: 5px; position: absolute;\"> </div>\n",
       "            <div style=\"margin-left: 48px;\">\n",
       "            <details>\n",
       "                <summary>\n",
       "                    <h4 style=\"margin-bottom: 0px; display: inline;\">Worker: 2</h4>\n",
       "                </summary>\n",
       "                <table style=\"width: 100%; text-align: left;\">\n",
       "                    <tr>\n",
       "                        <td style=\"text-align: left;\">\n",
       "                            <strong>Comm: </strong> tcp://127.0.0.1:40539\n",
       "                        </td>\n",
       "                        <td style=\"text-align: left;\">\n",
       "                            <strong>Total threads: </strong> 4\n",
       "                        </td>\n",
       "                    </tr>\n",
       "                    <tr>\n",
       "                        <td style=\"text-align: left;\">\n",
       "                            <strong>Dashboard: </strong> <a href=\"http://127.0.0.1:45731/status\" target=\"_blank\">http://127.0.0.1:45731/status</a>\n",
       "                        </td>\n",
       "                        <td style=\"text-align: left;\">\n",
       "                            <strong>Memory: </strong> 7.66 GiB\n",
       "                        </td>\n",
       "                    </tr>\n",
       "                    <tr>\n",
       "                        <td style=\"text-align: left;\">\n",
       "                            <strong>Nanny: </strong> tcp://127.0.0.1:37707\n",
       "                        </td>\n",
       "                        <td style=\"text-align: left;\"></td>\n",
       "                    </tr>\n",
       "                    <tr>\n",
       "                        <td colspan=\"2\" style=\"text-align: left;\">\n",
       "                            <strong>Local directory: </strong> /tmp/dask-scratch-space/worker-_e6spiif\n",
       "                        </td>\n",
       "                    </tr>\n",
       "\n",
       "                    \n",
       "\n",
       "                    \n",
       "\n",
       "                </table>\n",
       "            </details>\n",
       "            </div>\n",
       "        </div>\n",
       "        \n",
       "        <div style=\"margin-bottom: 20px;\">\n",
       "            <div style=\"width: 24px; height: 24px; background-color: #DBF5FF; border: 3px solid #4CC9FF; border-radius: 5px; position: absolute;\"> </div>\n",
       "            <div style=\"margin-left: 48px;\">\n",
       "            <details>\n",
       "                <summary>\n",
       "                    <h4 style=\"margin-bottom: 0px; display: inline;\">Worker: 3</h4>\n",
       "                </summary>\n",
       "                <table style=\"width: 100%; text-align: left;\">\n",
       "                    <tr>\n",
       "                        <td style=\"text-align: left;\">\n",
       "                            <strong>Comm: </strong> tcp://127.0.0.1:32929\n",
       "                        </td>\n",
       "                        <td style=\"text-align: left;\">\n",
       "                            <strong>Total threads: </strong> 4\n",
       "                        </td>\n",
       "                    </tr>\n",
       "                    <tr>\n",
       "                        <td style=\"text-align: left;\">\n",
       "                            <strong>Dashboard: </strong> <a href=\"http://127.0.0.1:38331/status\" target=\"_blank\">http://127.0.0.1:38331/status</a>\n",
       "                        </td>\n",
       "                        <td style=\"text-align: left;\">\n",
       "                            <strong>Memory: </strong> 7.66 GiB\n",
       "                        </td>\n",
       "                    </tr>\n",
       "                    <tr>\n",
       "                        <td style=\"text-align: left;\">\n",
       "                            <strong>Nanny: </strong> tcp://127.0.0.1:46609\n",
       "                        </td>\n",
       "                        <td style=\"text-align: left;\"></td>\n",
       "                    </tr>\n",
       "                    <tr>\n",
       "                        <td colspan=\"2\" style=\"text-align: left;\">\n",
       "                            <strong>Local directory: </strong> /tmp/dask-scratch-space/worker-u77lvci7\n",
       "                        </td>\n",
       "                    </tr>\n",
       "\n",
       "                    \n",
       "\n",
       "                    \n",
       "\n",
       "                </table>\n",
       "            </details>\n",
       "            </div>\n",
       "        </div>\n",
       "        \n",
       "\n",
       "    </details>\n",
       "</div>\n",
       "\n",
       "        </details>\n",
       "    </div>\n",
       "</div>\n",
       "            </details>\n",
       "        \n",
       "\n",
       "    </div>\n",
       "</div>"
      ],
      "text/plain": [
       "<Client: 'tcp://127.0.0.1:41837' processes=4 threads=16, memory=30.63 GiB>"
      ]
     },
     "execution_count": 53,
     "metadata": {},
     "output_type": "execute_result"
    }
   ],
   "source": [
    "from pathlib import Path\n",
    "\n",
    "from typing import List, Tuple, Union, Dict\n",
    "import dask.array as da\n",
    "import numpy as np\n",
    "import rasterio\n",
    "import rioxarray as rxr\n",
    "from dask import delayed\n",
    "from dask.distributed import Client, LocalCluster\n",
    "from rasterio.transform import Affine\n",
    "\n",
    "from utils import create_map_with_rasters\n",
    "\n",
    "cluster = LocalCluster()\n",
    "client = Client(cluster)\n",
    "\n",
    "print(\"Dask Dashboard: \", client.dashboard_link)\n",
    "client"
   ]
  },
  {
   "cell_type": "markdown",
   "id": "2a86c2ad-975b-4ed5-a8b0-8add6c8714d4",
   "metadata": {},
   "source": [
    "Dask return an url where the dashboard is availaible (usually http://127.0.0.1:8787/status). This is not a tutorial on how to use this dashboard, but we recommend using it in a separate window while using this notebook.\n",
    "\n",
    "### Open raster thanks to rioxarray\n",
    "\n",
    "Here we are going to open the raster data required for this tutorial, the RGB bands from a Sentinel-2 acquisition. To do this, we're going to use rioxarray and, more specifically, the [open_rasterio](https://corteva.github.io/rioxarray/html/rioxarray.html#rioxarray-open-rasterio) method, which opens the images lazily (without loading data into memory) and returns a `dask.array` object. \n",
    "From this method we will use the ``chunks`` and ``lock`` arguments, which respectively set a chunk size and limit access to the data to one thread at a time to avoid read problems. Here ``chunks`` is set to ``True`` to allow dask to automatically size chunks.\n"
   ]
  },
  {
   "cell_type": "markdown",
   "id": "0e86755c-f505-4d6b-830e-396485e12054",
   "metadata": {},
   "source": [
    "## Calculation of the Average NDVI with dask\n",
    "\n",
    "In this example, we will use what we have learned to: \n",
    "\n",
    "1. Read the data from the disk and stack them.\n",
    "2. Calculate the associated NDVI, which combines multi-band information into a single band.\n",
    "3. Reduce the information by calculating the average NDVI within a window.\n",
    "4. Write the resulting image to the disk.\n",
    "\n",
    "First, let's read the data we need to perform the NDVI."
   ]
  },
  {
   "cell_type": "code",
   "execution_count": 74,
   "id": "219cc690-5c64-4c56-8ba5-ce8333bc6c62",
   "metadata": {
    "tags": []
   },
   "outputs": [],
   "source": [
    "def open_raster_and_get_metadata(raster_paths: List[str], chunks: Union[int, Tuple, Dict, None]):\n",
    "    \"\"\"\n",
    "    Opens multiple raster files, extracts shared geospatial metadata, \n",
    "    and returns the concatenated data along with resolution and CRS info.\n",
    "\n",
    "    Parameters:\n",
    "    -----------\n",
    "    raster_paths : List[str]\n",
    "        Paths to the raster files.\n",
    "    chunks : Union[int, Tuple, Dict, bool, None]\n",
    "        Chunk sizes for Dask (bands, height, width).\n",
    "\n",
    "    Returns:\n",
    "    --------\n",
    "    Tuple[dask.array.Array, float, float, float, float, Union[str, CRS]]\n",
    "        Concatenated raster data, x and y resolution, top-left coordinates, and CRS.\n",
    "    \"\"\"\n",
    "    results = []\n",
    "    for raster_path in raster_paths:\n",
    "        with rxr.open_rasterio(raster_path, chunks=chunks, lock=True) as tif:\n",
    "            reprojection = tif\n",
    "            transform = reprojection.rio.transform()\n",
    "            crs = reprojection.rio.crs\n",
    "            x_res = transform[0]\n",
    "            y_res = -transform[4]\n",
    "            top_left_x = transform[2]\n",
    "            top_left_y = transform[5]\n",
    "            results.append(reprojection)\n",
    "\n",
    "    return da.concatenate(results), x_res, y_res, top_left_x, top_left_y, crs\n",
    "\n",
    "# Paths to RGB Sentinel-2 bands\n",
    "sentinel_2_dir = \"/home/tromain/Data/S2\"\n",
    "s2_b4 = f\"{sentinel_2_dir}/SENTINEL2B_20240822-105857-973_L2A_T31TCJ_C_V3-1/SENTINEL2B_20240822-105857-973_L2A_T31TCJ_C_V3-1_FRE_B4.tif\"\n",
    "s2_b8 = f\"{sentinel_2_dir}/SENTINEL2B_20240822-105857-973_L2A_T31TCJ_C_V3-1/SENTINEL2B_20240822-105857-973_L2A_T31TCJ_C_V3-1_FRE_B8.tif\"\n",
    "#reading_chunks = (-1,2200,2200)\n",
    "reading_chunks = True\n",
    "input_data_array, x_res, y_res, top_left_x, top_left_y, crs = open_raster_and_get_metadata([s2_b4,s2_b8], reading_chunks)"
   ]
  },
  {
   "cell_type": "markdown",
   "id": "fc56a7e0-edb5-4635-b5a2-0b274d08ce38",
   "metadata": {},
   "source": [
    "When the data is read, we can express the NDVI calculation as if it were a numpy array. We add ``[None, :, :]`` to keep the shape as ``(bands, rows, cols)``. Then we can apply reduction on the dask.array and use ``compute()`` on it to triger the computation."
   ]
  },
  {
   "cell_type": "code",
   "execution_count": 75,
   "id": "71481af7-7b8b-4f09-8a02-fd3bc2ec3f8f",
   "metadata": {
    "tags": []
   },
   "outputs": [
    {
     "data": {
      "text/html": [
       "<table>\n",
       "    <tr>\n",
       "        <td>\n",
       "            <table style=\"border-collapse: collapse;\">\n",
       "                <thead>\n",
       "                    <tr>\n",
       "                        <td> </td>\n",
       "                        <th> Array </th>\n",
       "                        <th> Chunk </th>\n",
       "                    </tr>\n",
       "                </thead>\n",
       "                <tbody>\n",
       "                    \n",
       "                    <tr>\n",
       "                        <th> Bytes </th>\n",
       "                        <td> 459.90 MiB </td>\n",
       "                        <td> 127.98 MiB </td>\n",
       "                    </tr>\n",
       "                    \n",
       "                    <tr>\n",
       "                        <th> Shape </th>\n",
       "                        <td> (2, 10980, 10980) </td>\n",
       "                        <td> (1, 6111, 10980) </td>\n",
       "                    </tr>\n",
       "                    <tr>\n",
       "                        <th> Dask graph </th>\n",
       "                        <td colspan=\"2\"> 4 chunks in 5 graph layers </td>\n",
       "                    </tr>\n",
       "                    <tr>\n",
       "                        <th> Data type </th>\n",
       "                        <td colspan=\"2\"> int16 numpy.ndarray </td>\n",
       "                    </tr>\n",
       "                </tbody>\n",
       "            </table>\n",
       "        </td>\n",
       "        <td>\n",
       "        <svg width=\"194\" height=\"184\" style=\"stroke:rgb(0,0,0);stroke-width:1\" >\n",
       "\n",
       "  <!-- Horizontal lines -->\n",
       "  <line x1=\"10\" y1=\"0\" x2=\"24\" y2=\"14\" style=\"stroke-width:2\" />\n",
       "  <line x1=\"10\" y1=\"66\" x2=\"24\" y2=\"81\" />\n",
       "  <line x1=\"10\" y1=\"120\" x2=\"24\" y2=\"134\" style=\"stroke-width:2\" />\n",
       "\n",
       "  <!-- Vertical lines -->\n",
       "  <line x1=\"10\" y1=\"0\" x2=\"10\" y2=\"120\" style=\"stroke-width:2\" />\n",
       "  <line x1=\"17\" y1=\"7\" x2=\"17\" y2=\"127\" />\n",
       "  <line x1=\"24\" y1=\"14\" x2=\"24\" y2=\"134\" style=\"stroke-width:2\" />\n",
       "\n",
       "  <!-- Colored Rectangle -->\n",
       "  <polygon points=\"10.0,0.0 24.9485979497544,14.948597949754403 24.9485979497544,134.9485979497544 10.0,120.0\" style=\"fill:#ECB172A0;stroke-width:0\"/>\n",
       "\n",
       "  <!-- Horizontal lines -->\n",
       "  <line x1=\"10\" y1=\"0\" x2=\"130\" y2=\"0\" style=\"stroke-width:2\" />\n",
       "  <line x1=\"17\" y1=\"7\" x2=\"137\" y2=\"7\" />\n",
       "  <line x1=\"24\" y1=\"14\" x2=\"144\" y2=\"14\" style=\"stroke-width:2\" />\n",
       "\n",
       "  <!-- Vertical lines -->\n",
       "  <line x1=\"10\" y1=\"0\" x2=\"24\" y2=\"14\" style=\"stroke-width:2\" />\n",
       "  <line x1=\"130\" y1=\"0\" x2=\"144\" y2=\"14\" style=\"stroke-width:2\" />\n",
       "\n",
       "  <!-- Colored Rectangle -->\n",
       "  <polygon points=\"10.0,0.0 130.0,0.0 144.9485979497544,14.948597949754403 24.9485979497544,14.948597949754403\" style=\"fill:#ECB172A0;stroke-width:0\"/>\n",
       "\n",
       "  <!-- Horizontal lines -->\n",
       "  <line x1=\"24\" y1=\"14\" x2=\"144\" y2=\"14\" style=\"stroke-width:2\" />\n",
       "  <line x1=\"24\" y1=\"81\" x2=\"144\" y2=\"81\" />\n",
       "  <line x1=\"24\" y1=\"134\" x2=\"144\" y2=\"134\" style=\"stroke-width:2\" />\n",
       "\n",
       "  <!-- Vertical lines -->\n",
       "  <line x1=\"24\" y1=\"14\" x2=\"24\" y2=\"134\" style=\"stroke-width:2\" />\n",
       "  <line x1=\"144\" y1=\"14\" x2=\"144\" y2=\"134\" style=\"stroke-width:2\" />\n",
       "\n",
       "  <!-- Colored Rectangle -->\n",
       "  <polygon points=\"24.9485979497544,14.948597949754403 144.9485979497544,14.948597949754403 144.9485979497544,134.9485979497544 24.9485979497544,134.9485979497544\" style=\"fill:#ECB172A0;stroke-width:0\"/>\n",
       "\n",
       "  <!-- Text -->\n",
       "  <text x=\"84.948598\" y=\"154.948598\" font-size=\"1.0rem\" font-weight=\"100\" text-anchor=\"middle\" >10980</text>\n",
       "  <text x=\"164.948598\" y=\"74.948598\" font-size=\"1.0rem\" font-weight=\"100\" text-anchor=\"middle\" transform=\"rotate(-90,164.948598,74.948598)\">10980</text>\n",
       "  <text x=\"7.474299\" y=\"147.474299\" font-size=\"1.0rem\" font-weight=\"100\" text-anchor=\"middle\" transform=\"rotate(45,7.474299,147.474299)\">2</text>\n",
       "</svg>\n",
       "        </td>\n",
       "    </tr>\n",
       "</table>"
      ],
      "text/plain": [
       "dask.array<concatenate, shape=(2, 10980, 10980), dtype=int16, chunksize=(1, 6111, 10980), chunktype=numpy.ndarray>"
      ]
     },
     "execution_count": 75,
     "metadata": {},
     "output_type": "execute_result"
    }
   ],
   "source": [
    "input_data_array"
   ]
  },
  {
   "cell_type": "code",
   "execution_count": 76,
   "id": "2dad7fe0-23bc-40b2-b27e-4c7cb0f8dc0e",
   "metadata": {
    "tags": []
   },
   "outputs": [
    {
     "name": "stdout",
     "output_type": "stream",
     "text": [
      "(2, 10980, 10980)\n"
     ]
    }
   ],
   "source": [
    "print(input_data_array.shape)\n",
    "ndvi_array = (input_data_array[1] - input_data_array[0]) / (input_data_array[1] + input_data_array[0])[None, :, :]"
   ]
  },
  {
   "cell_type": "code",
   "execution_count": 77,
   "id": "19fc2fce-4aca-4b7a-abd6-6baba3b5c464",
   "metadata": {
    "tags": []
   },
   "outputs": [
    {
     "name": "stdout",
     "output_type": "stream",
     "text": [
      "CPU times: user 469 ms, sys: 1.01 s, total: 1.48 s\n",
      "Wall time: 2.1 s\n"
     ]
    }
   ],
   "source": [
    "%%time\n",
    "\n",
    "mean_ndvi = ndvi_array.compute()"
   ]
  },
  {
   "cell_type": "code",
   "execution_count": 79,
   "id": "c4f6ae3e-4511-448f-97d8-ff85172dea6c",
   "metadata": {
    "tags": []
   },
   "outputs": [],
   "source": [
    "def create_raster(data: np.ndarray, output_file: Path, x_res, y_res, top_left_x, top_left_y, crs):\n",
    "    transform = Affine.translation(top_left_x, top_left_y) * Affine.scale(x_res, -y_res)\n",
    "    with rasterio.open(\n",
    "            output_file, \"w\",\n",
    "            driver=\"GTiff\",\n",
    "            height=data.shape[1],\n",
    "            width=data.shape[2],\n",
    "            count=data.shape[0],\n",
    "            dtype=data.dtype,\n",
    "            crs=crs,\n",
    "            transform=transform\n",
    "    ) as dst:\n",
    "        dst.write(data)\n",
    "\n",
    "crs=\"EPSG:4326\"\n",
    "output_file = Path(\"/home/tromain/Data/S2/ndvi_dask.tif\")\n",
    "create_raster(ndvi_array, output_file, x_res , y_res,\n",
    "                  top_left_x, top_left_y, crs)"
   ]
  },
  {
   "cell_type": "markdown",
   "id": "7f5d09f0-cf39-4e3b-afcb-6db0bccc877a",
   "metadata": {},
   "source": [
    "# Calculate NDVI With OTB in python"
   ]
  },
  {
   "cell_type": "code",
   "execution_count": 8,
   "id": "d83fde75-d936-4372-b7c6-412c9b2d5bf7",
   "metadata": {
    "tags": []
   },
   "outputs": [
    {
     "name": "stderr",
     "output_type": "stream",
     "text": [
      "Warning 1: Invalid value for NUM_THREADS: \n"
     ]
    },
    {
     "name": "stdout",
     "output_type": "stream",
     "text": [
      "Writing /work/scratch/data/romaint/img_ndvi_otb.tif...: 100% [**************************************************] (3s)\n"
     ]
    },
    {
     "data": {
      "text/plain": [
       "0"
      ]
     },
     "execution_count": 8,
     "metadata": {},
     "output_type": "execute_result"
    }
   ],
   "source": [
    "import otbApplication as otb\n",
    "\n",
    "sentinel_2_dir = \"/work/scratch/data/romaint\"\n",
    "s2_b4 = f\"{sentinel_2_dir}/SENTINEL2B_20240822-105857-973_L2A_T31TCJ_C_V3-1/SENTINEL2B_20240822-105857-973_L2A_T31TCJ_C_V3-1_FRE_B4.tif\"\n",
    "s2_b8 = f\"{sentinel_2_dir}/SENTINEL2B_20240822-105857-973_L2A_T31TCJ_C_V3-1/SENTINEL2B_20240822-105857-973_L2A_T31TCJ_C_V3-1_FRE_B8.tif\"\n",
    "out_ndvi_otb_py=\"/work/scratch/data/romaint/img_ndvi_otb.tif\"\n",
    "#Compute NDVI with OTB in python\n",
    "app_ndvi_otb = otb.Registry.CreateApplication(\"BandMath\")\n",
    "app_ndvi_otb.SetParameterStringList(\"il\",[s2_b4,s2_b8])\n",
    "app_ndvi_otb.SetParameterString(\"exp\",\"(im2b1-im1b1)/(im2b1+im1b1)\")\n",
    "app_ndvi_otb.SetParameterString(\"out\",out_ndvi_otb_py)\n",
    "app_ndvi_otb.ExecuteAndWriteOutput()\n"
   ]
  },
  {
   "cell_type": "markdown",
   "id": "c030e442-871e-4d59-8cb6-1310b5867df1",
   "metadata": {},
   "source": [
    "# Calculate NDVI with OTB in C++\n",
    "This part will call BandMath with the otb CLI to compare performances with the python swig interface"
   ]
  },
  {
   "cell_type": "code",
   "execution_count": 9,
   "id": "73a731cf-a534-4b49-9a6d-425b58d87e45",
   "metadata": {
    "tags": []
   },
   "outputs": [
    {
     "name": "stderr",
     "output_type": "stream",
     "text": [
      "Warning 1: Invalid value for NUM_THREADS: \n"
     ]
    },
    {
     "name": "stdout",
     "output_type": "stream",
     "text": [
      "Writing /work/scratch/data/romaint/img_ndvi_otb_cpp.tif...: 100% [**************************************************] (2s)\n"
     ]
    }
   ],
   "source": [
    "%%bash\n",
    "otbcli_BandMath -il \"/work/scratch/data/romaint/SENTINEL2B_20240822-105857-973_L2A_T31TCJ_C_V3-1/SENTINEL2B_20240822-105857-973_L2A_T31TCJ_C_V3-1_FRE_B4.tif\" \"/work/scratch/data/romaint/SENTINEL2B_20240822-105857-973_L2A_T31TCJ_C_V3-1/SENTINEL2B_20240822-105857-973_L2A_T31TCJ_C_V3-1_FRE_B8.tif\" -exp \"( im2b1 - im1b1 ) / ( im2b1 + im1b1 )\" -out \"/work/scratch/data/romaint/img_ndvi_otb_cpp.tif\" "
   ]
  },
  {
   "cell_type": "markdown",
   "id": "7966cdad-a3d7-467d-bd1a-d207bc85bde0",
   "metadata": {},
   "source": [
    "# Compute SuperImpose with OTB\n",
    "\n",
    "Superimpose does a resampling then a crop to have a new raster that has the same resolution as the reference input image. This app is using multithreading a lot, it is interesting to compare it with a solution like dask and full python / rasterio"
   ]
  },
  {
   "cell_type": "code",
   "execution_count": 10,
   "id": "71d9a855-86f3-48aa-a9eb-32a1dc853649",
   "metadata": {},
   "outputs": [
    {
     "name": "stdout",
     "output_type": "stream",
     "text": [
      "2024-11-07 09:04:44 (WARNING) Superimpose: Forcing PHR mode with PHR data. You need to add \"-mode default\" to force the default mode with PHR images.\n",
      "2024-11-07 09:04:44 (WARNING) Superimpose: Forcing PHR mode with PHR data. You need to add \"-mode default\" to force the default mode with PHR images.\n",
      "2024-11-07 09:04:44 (WARNING) Superimpose: Forcing PHR mode with PHR data. You need to add \"-mode default\" to force the default mode with PHR images.\n"
     ]
    },
    {
     "name": "stderr",
     "output_type": "stream",
     "text": [
      "Warning 1: Invalid value for NUM_THREADS: \n"
     ]
    },
    {
     "name": "stdout",
     "output_type": "stream",
     "text": [
      "Writing /work/scratch/data/romaint/SuperimposedXS_to_PAN.tif?&writerpctags=true...: 100% [**************************************************] (2m 59s)\n"
     ]
    },
    {
     "data": {
      "text/plain": [
       "0"
      ]
     },
     "execution_count": 10,
     "metadata": {},
     "output_type": "execute_result"
    }
   ],
   "source": [
    "import otbApplication as otb\n",
    "\n",
    "#product_dir = \"/work/scratch/data/romaint\"\n",
    "pan_raster_url = \"/work/scratch/data/tanguyy/public/PHR_OTB/IMG_PHR1B_P_001/IMG_PHR1B_P_202302281104151_SEN_6967639101-1_R1C1.JP2\"\n",
    "xs_raster_url = \"/work/scratch/data/tanguyy/public/PHR_OTB/IMG_PHR1B_MS_004/IMG_PHR1B_MS_202302281104151_SEN_6967639101-2_R1C1.JP2\"\n",
    "appSI = otb.Registry.CreateApplication(\"Superimpose\")\n",
    "\n",
    "appSI.SetParameterString(\"inr\", pan_raster_url)\n",
    "appSI.SetParameterString(\"inm\", xs_raster_url)\n",
    "appSI.SetParameterString(\"out\", \"/work/scratch/data/romaint/SuperimposedXS_to_PAN.tif\")\n",
    "\n",
    "appSI.ExecuteAndWriteOutput()"
   ]
  },
  {
   "cell_type": "markdown",
   "id": "49b7321e-1cfb-4994-83fc-93312252c84f",
   "metadata": {},
   "source": [
    "# Performance improvement with xarray.coarsen method ?"
   ]
  },
  {
   "cell_type": "code",
   "execution_count": 20,
   "id": "e7568371-4a69-426e-9247-c7e4abe7aef2",
   "metadata": {
    "tags": []
   },
   "outputs": [
    {
     "name": "stdout",
     "output_type": "stream",
     "text": [
      "<xarray.DataArray (band: 1, y: 23796, x: 31280)> Size: 3GB\n",
      "dask.array<open_rasterio-f5d1704f3630819f1bebdb57e7c103c4<this-array>, shape=(1, 23796, 31280), dtype=float32, chunksize=(1, 1072, 31280), chunktype=numpy.ndarray>\n",
      "Coordinates:\n",
      "  * band         (band) int64 8B 1\n",
      "  * x            (x) float64 250kB 0.5 1.5 2.5 ... 3.128e+04 3.128e+04 3.128e+04\n",
      "  * y            (y) float64 190kB 0.5 1.5 2.5 ... 2.379e+04 2.379e+04 2.38e+04\n",
      "    spatial_ref  int64 8B 0\n",
      "Attributes: (12/33)\n",
      "    METADATATYPE:         OTB\n",
      "    OTB_VERSION:          9.1.0\n",
      "    TimeRangeStart:       2023-02-28T11:04:15.2040000Z\n",
      "    ProductionDate:       2024-04-15T13:25:33.956Z\n",
      "    AcquisitionDate:      2023-02-28T11:04:15.1Z\n",
      "    SatAzimuth:           202.389\n",
      "    ...                   ...\n",
      "    PhysicalBias:         0\n",
      "    PhysicalGain:         11.71\n",
      "    EnhancedBandName:     PAN\n",
      "    BandName:             P\n",
      "    scale_factor:         1.0\n",
      "    add_offset:           0.0\n",
      "<xarray.DataArray (band: 1, y: 5949, x: 7820)> Size: 186MB\n",
      "dask.array<mean_agg-aggregate, shape=(1, 5949, 7820), dtype=float32, chunksize=(1, 268, 7820), chunktype=numpy.ndarray>\n",
      "Coordinates:\n",
      "  * band         (band) int64 8B 1\n",
      "  * x            (x) float64 63kB 2.0 6.0 10.0 ... 3.127e+04 3.127e+04 3.128e+04\n",
      "  * y            (y) float64 48kB 2.0 6.0 10.0 ... 2.379e+04 2.379e+04 2.379e+04\n",
      "    spatial_ref  int64 8B 0\n",
      "Attributes: (12/33)\n",
      "    METADATATYPE:         OTB\n",
      "    OTB_VERSION:          9.1.0\n",
      "    TimeRangeStart:       2023-02-28T11:04:15.2040000Z\n",
      "    ProductionDate:       2024-04-15T13:25:33.956Z\n",
      "    AcquisitionDate:      2023-02-28T11:04:15.1Z\n",
      "    SatAzimuth:           202.389\n",
      "    ...                   ...\n",
      "    PhysicalBias:         0\n",
      "    PhysicalGain:         11.71\n",
      "    EnhancedBandName:     PAN\n",
      "    BandName:             P\n",
      "    scale_factor:         1.0\n",
      "    add_offset:           0.0\n",
      "True\n",
      "CPU times: user 1.87 s, sys: 633 ms, total: 2.5 s\n",
      "Wall time: 4.95 s\n"
     ]
    }
   ],
   "source": [
    "%%time\n",
    "\n",
    "import xarray\n",
    "from rioxarray.merge import merge_arrays\n",
    "\n",
    "pan_raster_url = \"/home/tromain/Data/phr_pan.tif\"\n",
    "xs_raster_url = \"/home/tromain/Data/phr_xs.tif\"\n",
    "origin_raster = rxr.open_rasterio(pan_raster_url,chunks=True)\n",
    "#.squeeze('band', drop=True)\n",
    "print(origin_raster)\n",
    "#origin_raster = origin_raster.load()\n",
    "pxs_raster = origin_raster.coarsen(x=4, y=4, boundary='pad').mean()\n",
    "xs_raster = rxr.open_rasterio(xs_raster_url,chunks=True)\n",
    "print(pxs_raster)\n",
    "#print(\"X == X? {} Y==Y? {}\".format((origin_raster.x == xs_raster.x),(origin_raster.y == xs_raster.y)))\n",
    "print(all(list(origin_raster.x == xs_raster.x)))\n",
    "#ppxs_raster = xarray.concat([pxs_raster,xs_raster],dim=\"band\",coords=\"all\")\n",
    "#ppxs_raster = merge_arrays([pxs_raster,xs_raster])\n",
    "crs=\"EPSG:4326\"\n",
    "output_file = Path(\"/home/tromain/Data/superimpose_coarsen.tif\")\n",
    "pxs_raster.rio.to_raster(output_file)"
   ]
  },
  {
   "cell_type": "markdown",
   "id": "b2571ad8-9af5-43c2-8c5a-4c8a73a6c885",
   "metadata": {},
   "source": [
    "# SuperImpose using rasterio reproject_match"
   ]
  },
  {
   "cell_type": "code",
   "execution_count": null,
   "id": "4407913c-a383-451a-9967-8a7908e9664c",
   "metadata": {
    "tags": []
   },
   "outputs": [
    {
     "name": "stderr",
     "output_type": "stream",
     "text": [
      "/home/tromain/Apps/miniconda3/envs/env_greenit_2/lib/python3.11/site-packages/xarray/backends/api.py:365: UserWarning: The specified chunks separate the stored chunks along dimension \"y\" starting at index 1. This could degrade performance. Instead, consider rechunking after loading.\n",
      "  var_chunks = _get_chunk(var, chunks, chunkmanager)\n",
      "/home/tromain/Apps/miniconda3/envs/env_greenit_2/lib/python3.11/site-packages/xarray/backends/api.py:365: UserWarning: The specified chunks separate the stored chunks along dimension \"x\" starting at index 1. This could degrade performance. Instead, consider rechunking after loading.\n",
      "  var_chunks = _get_chunk(var, chunks, chunkmanager)\n",
      "ERROR 1: PROJ: internal_proj_create_from_database: /home/tromain/Apps/miniconda3/envs/env_greenit/otb9/share/proj/proj.db contains DATABASE.LAYOUT.VERSION.MINOR = 2 whereas a number >= 3 is expected. It comes from another PROJ installation.\n",
      "/home/tromain/Apps/miniconda3/envs/env_greenit_2/lib/python3.11/site-packages/xarray/backends/api.py:365: UserWarning: The specified chunks separate the stored chunks along dimension \"y\" starting at index 1. This could degrade performance. Instead, consider rechunking after loading.\n",
      "  var_chunks = _get_chunk(var, chunks, chunkmanager)\n",
      "/home/tromain/Apps/miniconda3/envs/env_greenit_2/lib/python3.11/site-packages/xarray/backends/api.py:365: UserWarning: The specified chunks separate the stored chunks along dimension \"x\" starting at index 1. This could degrade performance. Instead, consider rechunking after loading.\n",
      "  var_chunks = _get_chunk(var, chunks, chunkmanager)\n",
      "ERROR 1: PROJ: internal_proj_create_from_database: /home/tromain/Apps/miniconda3/envs/env_greenit/otb9/share/proj/proj.db contains DATABASE.LAYOUT.VERSION.MINOR = 2 whereas a number >= 3 is expected. It comes from another PROJ installation.\n"
     ]
    },
    {
     "name": "stdout",
     "output_type": "stream",
     "text": [
      "(1, 23796, 31283)\n",
      "float32\n",
      "(4, 5949, 7822)\n"
     ]
    }
   ],
   "source": [
    "%%time\n",
    "\n",
    "import xarray\n",
    "from pathlib import Path\n",
    "\n",
    "pan_raster_url = \"/home/tromain/Data/PHR_OTB/IMG_PHR1B_P_001/IMG_PHR1B_P_202302281104151_SEN_6967639101-1_R1C1.JP2\"\n",
    "xs_raster_url = \"/home/tromain/Data/PHR_OTB/IMG_PHR1B_MS_004/IMG_PHR1B_MS_202302281104151_SEN_6967639101-2_R1C1.JP2\"\n",
    "\n",
    "xds = xarray.open_dataarray(pan_raster_url,chunks=True)\n",
    "xds.rio.write_crs(\"epsg:4326\", inplace=True)\n",
    "xds.rio.write_nodata(0, inplace=True)\n",
    "xds_match = xarray.open_dataarray(xs_raster_url,chunks=True)\n",
    "print(xds.shape)\n",
    "print(xds.dtype)\n",
    "print(xds_match.shape)\n",
    "xds_match.rio.write_crs(\"epsg:4326\", inplace=True)\n",
    "xds_match.rio.write_nodata(0, inplace=True)\n",
    "xds_repr_match = xds.rio.reproject_match(xds_match)\n",
    "crs=\"EPSG:4326\"\n",
    "output_file = Path(\"/home/tromain/Data/superimpose_reproject_match.tif\")\n",
    "xds_repr_match.rio.to_raster(output_file)"
   ]
  },
  {
   "cell_type": "markdown",
   "id": "e7c62deb-08a1-4a39-8c5d-ebe0d0e28386",
   "metadata": {},
   "source": [
    "# Using numba for NDVI ?\n",
    "Here we will try to use numba for ndvi computation"
   ]
  },
  {
   "cell_type": "code",
   "execution_count": 81,
   "id": "bd7a3e53-87f6-4dca-9d9e-550956f02a50",
   "metadata": {},
   "outputs": [
    {
     "name": "stdout",
     "output_type": "stream",
     "text": [
      "Elapsed with Raster IO = 1.1344427589974657s\n",
      "Elapsed with RIOXarray + dask = 0.027490641001350014s\n",
      "Elapsed with list comprehension = 0.0035700430016731843s\n",
      "Elapsed with normal compute = 0.0015671629989810754s\n"
     ]
    },
    {
     "ename": "AttributeError",
     "evalue": "'list' object has no attribute 'shape'",
     "output_type": "error",
     "traceback": [
      "\u001b[0;31m---------------------------------------------------------------------------\u001b[0m",
      "\u001b[0;31mAttributeError\u001b[0m                            Traceback (most recent call last)",
      "File \u001b[0;32m<timed exec>:61\u001b[0m\n",
      "Cell \u001b[0;32mIn[79], line 6\u001b[0m, in \u001b[0;36mcreate_raster\u001b[0;34m(data, output_file, x_res, y_res, top_left_x, top_left_y, crs)\u001b[0m\n\u001b[1;32m      1\u001b[0m \u001b[38;5;28;01mdef\u001b[39;00m \u001b[38;5;21mcreate_raster\u001b[39m(data: np\u001b[38;5;241m.\u001b[39mndarray, output_file: Path, x_res, y_res, top_left_x, top_left_y, crs):\n\u001b[1;32m      2\u001b[0m     transform \u001b[38;5;241m=\u001b[39m Affine\u001b[38;5;241m.\u001b[39mtranslation(top_left_x, top_left_y) \u001b[38;5;241m*\u001b[39m Affine\u001b[38;5;241m.\u001b[39mscale(x_res, \u001b[38;5;241m-\u001b[39my_res)\n\u001b[1;32m      3\u001b[0m     \u001b[38;5;28;01mwith\u001b[39;00m rasterio\u001b[38;5;241m.\u001b[39mopen(\n\u001b[1;32m      4\u001b[0m             output_file, \u001b[38;5;124m\"\u001b[39m\u001b[38;5;124mw\u001b[39m\u001b[38;5;124m\"\u001b[39m,\n\u001b[1;32m      5\u001b[0m             driver\u001b[38;5;241m=\u001b[39m\u001b[38;5;124m\"\u001b[39m\u001b[38;5;124mGTiff\u001b[39m\u001b[38;5;124m\"\u001b[39m,\n\u001b[0;32m----> 6\u001b[0m             height\u001b[38;5;241m=\u001b[39m\u001b[43mdata\u001b[49m\u001b[38;5;241;43m.\u001b[39;49m\u001b[43mshape\u001b[49m[\u001b[38;5;241m1\u001b[39m],\n\u001b[1;32m      7\u001b[0m             width\u001b[38;5;241m=\u001b[39mdata\u001b[38;5;241m.\u001b[39mshape[\u001b[38;5;241m2\u001b[39m],\n\u001b[1;32m      8\u001b[0m             count\u001b[38;5;241m=\u001b[39mdata\u001b[38;5;241m.\u001b[39mshape[\u001b[38;5;241m0\u001b[39m],\n\u001b[1;32m      9\u001b[0m             dtype\u001b[38;5;241m=\u001b[39mdata\u001b[38;5;241m.\u001b[39mdtype,\n\u001b[1;32m     10\u001b[0m             crs\u001b[38;5;241m=\u001b[39mcrs,\n\u001b[1;32m     11\u001b[0m             transform\u001b[38;5;241m=\u001b[39mtransform\n\u001b[1;32m     12\u001b[0m     ) \u001b[38;5;28;01mas\u001b[39;00m dst:\n\u001b[1;32m     13\u001b[0m         dst\u001b[38;5;241m.\u001b[39mwrite(data)\n",
      "\u001b[0;31mAttributeError\u001b[0m: 'list' object has no attribute 'shape'"
     ]
    }
   ],
   "source": [
    "%%time\n",
    "\n",
    "#from numba import jit,njit\n",
    "from xarray import DataArray \n",
    "from typing import List, Tuple, Union, Dict\n",
    "import rioxarray as rxr\n",
    "import numpy as np\n",
    "import time\n",
    "import rasterio\n",
    "\n",
    "@njit\n",
    "def one_pixel_ndvi(p1,p2):\n",
    "    return (p2-p1) / (p2+p1) \n",
    "\n",
    "@njit\n",
    "def compute_ndvi(input_data_1: np.ndarray,input_data_2: np.ndarray):\n",
    "    ndvi_array = [[one_pixel_ndvi(i,j) for i in input_data_1] for j in input_data_2]\n",
    "    return ndvi_array\n",
    "\n",
    "def compute_ndvi_dask(input_data_1: DataArray,input_data_2: DataArray):\n",
    "    ndvi_array = [[(j-i)/(i+j) for i in input_data_1] for j in input_data_2]\n",
    "    return ndvi_array\n",
    "\n",
    "sentinel_2_dir = \"/home/tromain/Data/S2\"\n",
    "s2_b4 = f\"{sentinel_2_dir}/SENTINEL2B_20240822-105857-973_L2A_T31TCJ_C_V3-1/SENTINEL2B_20240822-105857-973_L2A_T31TCJ_C_V3-1_FRE_B4.tif\"\n",
    "s2_b8 = f\"{sentinel_2_dir}/SENTINEL2B_20240822-105857-973_L2A_T31TCJ_C_V3-1/SENTINEL2B_20240822-105857-973_L2A_T31TCJ_C_V3-1_FRE_B8.tif\"\n",
    "\n",
    "with rasterio.open(s2_b4, 'r') as ds:\n",
    "    input_data_b4 = ds.read() \n",
    "\n",
    "with rasterio.open(s2_b8, 'r') as ds:\n",
    "    input_data_b8 = ds.read()\n",
    "\n",
    "start = time.perf_counter()\n",
    "ndvi_computed = compute_ndvi(input_data_b4,input_data_b8)\n",
    "end = time.perf_counter()\n",
    "print(\"Elapsed with Raster IO = {}s\".format((end - start)))\n",
    "# Example with xarray\n",
    "#input_data_b4 =  xarray.open_dataarray(s2_b4,chunks=False)\n",
    "#input_data_b8 =  xarray.open_dataarray(s2_b8,chunks=False)\n",
    "#ndvi_computed = compute_ndvi(input_data_b4.to_numpy(),input_data_b8.to_numpy())\n",
    "\n",
    "# Example with rioxarray \n",
    "input_data_b4 = rxr.open_rasterio(s2_b4,chunks=True)\n",
    "input_data_b8 = rxr.open_rasterio(s2_b8,chunks=True)\n",
    "start = time.perf_counter()\n",
    "ndvi_computed = compute_ndvi_dask(input_data_b4,input_data_b8)\n",
    "end = time.perf_counter()\n",
    "\n",
    "print(\"Elapsed with RIOXarray + dask = {}s\".format((end - start)))\n",
    "\n",
    "start = time.perf_counter()\n",
    "ndvi_array = [[(j-i)/(i+j) for i in input_data_b4] for j in input_data_b8]\n",
    "end = time.perf_counter()\n",
    "print(\"Elapsed with list comprehension = {}s\".format((end - start)))\n",
    "start = time.perf_counter()\n",
    "ndvi_array = (input_data_array[1] - input_data_array[0]) / (input_data_array[1] + input_data_array[0])[None, :, :]\n",
    "end = time.perf_counter()\n",
    "print(\"Elapsed with normal compute = {}s\".format((end - start)))\n",
    "\n",
    "crs=\"EPSG:4326\"\n",
    "output_file = Path(\"/home/tromain/Data/S2/ndvi_dask_optimized.tif\")\n",
    "create_raster(ndvi_computed, output_file, x_res , y_res,\n",
    "                  top_left_x, top_left_y, crs)"
   ]
  },
  {
   "cell_type": "markdown",
   "id": "6ffcc752-1d32-42f0-86f6-de25ce216688",
   "metadata": {},
   "source": [
    "# Performances multiprocessing vs multithreading\n",
    "\n",
    "Depending on the processing applied to an image it is interesting to use the multiprocessing approach instead of the multithreading which is not really a multithreading in python as every thread is executed one after the other. (in Python 3.13, the GIL has been reworked to improve the situation)"
   ]
  },
  {
   "cell_type": "code",
   "execution_count": null,
   "id": "5bd9b9de-33df-48d7-b643-9e767bbc9d2a",
   "metadata": {},
   "outputs": [],
   "source": [
    "import multiprocessing\n"
   ]
  },
  {
   "cell_type": "markdown",
   "id": "807ff285-435b-4d82-aa67-bf9c32fd0f43",
   "metadata": {},
   "source": [
    "# Optimizing the size of your data"
   ]
  },
  {
   "cell_type": "code",
   "execution_count": null,
   "id": "69b8bd27-926e-4373-86d1-4dafe7fdbeed",
   "metadata": {},
   "outputs": [],
   "source": [
    "using COG ?"
   ]
  },
  {
   "cell_type": "code",
   "execution_count": null,
   "id": "b4cbef49-ee8d-4948-b5c9-1a958edcc8d4",
   "metadata": {},
   "outputs": [],
   "source": []
  }
 ],
 "metadata": {
  "kernelspec": {
   "display_name": "Python 3 (ipykernel)",
   "language": "python",
   "name": "python3"
  },
  "language_info": {
   "codemirror_mode": {
    "name": "ipython",
    "version": 3
   },
   "file_extension": ".py",
   "mimetype": "text/x-python",
   "name": "python",
   "nbconvert_exporter": "python",
   "pygments_lexer": "ipython3",
   "version": "3.11.10"
  }
 },
 "nbformat": 4,
 "nbformat_minor": 5
}
