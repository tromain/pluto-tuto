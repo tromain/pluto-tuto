{
 "cells": [
  {
   "cell_type": "markdown",
   "id": "1d86416d-9940-4b33-a82f-a93a7a6e138f",
   "metadata": {},
   "source": [
    "# Best practices for Green IT coding in python\n",
    "\n",
    "In this tutorial, we will show good pratices for a green IT approach to code an image processing chain with efficiency in mind"
   ]
  },
  {
   "cell_type": "markdown",
   "id": "3c6a05a0-c506-43e1-a352-c5e8e0d6f36e",
   "metadata": {
    "tags": []
   },
   "source": [
    "# Good pratices for general python coding\n",
    "\n",
    "## for loop optimisations : benefits of using numpy\n",
    "\n",
    "using a for loop vs numpy for basic loop coding shows that you must avoid for loops in your code, here is a code snippet that shows the big performance difference to apply a square on 250 000 elements"
   ]
  },
  {
   "cell_type": "code",
   "execution_count": 19,
   "id": "cecef79a-2ada-4df8-bde5-abb60db8a037",
   "metadata": {
    "tags": []
   },
   "outputs": [
    {
     "name": "stdout",
     "output_type": "stream",
     "text": [
      "Time with for loop : 83.00238009542227 ms\n",
      "Time with for list comprehension : 63.063559122383595 ms\n",
      "Time with numpy : 0.2981601282954216 ms\n"
     ]
    }
   ],
   "source": [
    "import time\n",
    "import numpy as np\n",
    "\n",
    "start = time.perf_counter()\n",
    "# Calculate square with for loop\n",
    "array_forloop = []\n",
    "for i in range(0,500):\n",
    "    for j in range(0,500):\n",
    "        array_forloop.append((i * j) ** 2)\n",
    "    \n",
    "end = time.perf_counter()\n",
    "print(\"Time with for loop : {} ms\".format((end-start)*1000))\n",
    "\n",
    "# Using list comprehension instead of a for loop is a nice optimisation if your use case needs a for loop anyway\n",
    "start = time.perf_counter()\n",
    "array_forloop = [i**2 for i in range(0,250000)]\n",
    "end = time.perf_counter()\n",
    "print(\"Time with for list comprehension : {} ms\".format((end-start)*1000))\n",
    "      \n",
    "# Using numpy\n",
    "start = time.perf_counter()\n",
    "arr = np.arange(250000)\n",
    "squared_arr = np.square(arr)\n",
    "end = time.perf_counter()\n",
    "print(\"Time with numpy : {} ms\".format((end-start)*1000))"
   ]
  },
  {
   "cell_type": "markdown",
   "id": "1b0b3e1a-d31c-43c3-a662-720b0e603f14",
   "metadata": {},
   "source": [
    "## Searching informations in your data\n",
    "\n",
    "If your code needs to search elements in an image for example looking at NoData pixels, it is highly recommended to do that search in a set instead of a list of pixels :"
   ]
  },
  {
   "cell_type": "code",
   "execution_count": 29,
   "id": "35d9ffa0-a498-4ab5-ae73-47cb3fb70eb1",
   "metadata": {
    "tags": []
   },
   "outputs": [
    {
     "name": "stdout",
     "output_type": "stream",
     "text": [
      "List search time: 42.939479635097086 s\n",
      "Set search time: 0.006291795987635851 s\n",
      "Numpy search time: 4.1151342540979385 s\n"
     ]
    }
   ],
   "source": [
    "from timeit import timeit\n",
    "import numpy as np\n",
    "\n",
    "nd_list = [i for i in range(0,100000)]\n",
    "nd_set = set([i for i in range(0,100000)])\n",
    "nd_array = np.arange(0,100000)\n",
    "\n",
    "#Look at an element\n",
    "def search_list():\n",
    "    if 98950 in nd_list:\n",
    "        pass\n",
    "    \n",
    "#Look at the same element in the set\n",
    "def search_set():\n",
    "    if 98950 in nd_set:\n",
    "        pass\n",
    "\n",
    "def search_numpy():\n",
    "    if np.where(nd_array==98950):\n",
    "        pass\n",
    "\n",
    "#lets say nodata value is 98950 in that case\n",
    "t1 = timeit(search_list, number=100000)\n",
    "t2 = timeit(search_set, number=100000)\n",
    "t3 = timeit(search_numpy, number=100000)\n",
    "print(\"List search time: {} s\".format(t1))\n",
    "print(\"Set search time: {} s\".format(t2))\n",
    "print(\"Numpy search time: {} s\".format(t3))"
   ]
  },
  {
   "cell_type": "markdown",
   "id": "0d276261-97a0-4123-8b69-b28aca357328",
   "metadata": {
    "tags": []
   },
   "source": [
    "## Conclusion\n",
    "\n",
    "* Don't try to reinvent the wheel, use standard and well performing python libraries like numpy\n",
    "* Avoid using for loops to apply a computing on a bunch of pixels, use numpy instead\n",
    "* If you need a for loop for another processing, use list comprehension as much as possible, it is very well documented \n",
    "* Use sets when you need to lookup for values in your image but beware that the set is not intended to be modified. You can alternatively use numpy.where but it is not as efficient as the set because it returns a boolean array for each element of the array, nevertheless it is 10 times more efficient than a list.\n",
    "\n",
    "For an in-depth comparison of how much numpy is faster than for and while loops, this link provides a complete performance comparison : https://www.blog.duomly.com/loops-in-python-comparison-and-performance/"
   ]
  },
  {
   "cell_type": "markdown",
   "id": "85b9e4b2-7621-48ac-8fa7-14789d40a34a",
   "metadata": {
    "tags": []
   },
   "source": [
    "# Profiling your processing chain with TREX monitoring\n",
    "\n",
    "In order to optimize your chain, you have to check where are the bottleneck of your program. The TREX cluster provides all the tools you need for that, with the monitoring module.\n",
    "\n",
    "In this tutorial, we use this script to execute as a slurm job, which creates the graphs for CPU, RAM, DISK in png format\n",
    "\n",
    "The in depth documentation is available [here](https://hpc.pages.cnes.fr/wiki-hpc-sphinx/module-monitoring-2.html)"
   ]
  },
  {
   "cell_type": "code",
   "execution_count": null,
   "id": "ccc05e8b-cfba-4671-8995-8c6a146ebca7",
   "metadata": {},
   "outputs": [],
   "source": [
    "greenit_slurm_script_monitored = \"\"\"#!/bin/bash\n",
    "#\n",
    "# Load monitoring module\n",
    "module load monitoring/2.2\n",
    "#\n",
    "# Use of SLURM $TMPDIR  of the interactive job\n",
    "WORKDIR=$TMPDIR\n",
    "SLURM_SUBMIT_DIR=/work/scratch/env/romaint/greenit/perfos_greenit\n",
    "#\n",
    "cd \"$WORKDIR\"\n",
    "#\n",
    "# Give model name\n",
    "#\n",
    "MODEL_NAME=test_perfo_greenit\n",
    "#\n",
    "# launch start_monitoring.sh to start monitoring of the job ( --name option mandatory)\n",
    "#\n",
    "start_monitoring.sh --name $MODEL_NAME --io local\n",
    "#\n",
    "# lauch program\n",
    "#\n",
    "source /work/scratch/env/romaint/greenit/env_greenit_py312/bin/activate\n",
    "python3 /work/scratch/env/romaint/greenit/test_parallelisation.py\n",
    "#\n",
    "# Stop monitoring -it will generate output_monitoring directory\n",
    "#\n",
    "stop_monitoring.sh --name $MODEL_NAME\n",
    "\n",
    "\"\"\""
   ]
  },
  {
   "cell_type": "markdown",
   "id": "371254df-a3b4-4f3e-b34f-3c3db06828ba",
   "metadata": {
    "tags": []
   },
   "source": [
    "# A Green IT approach for coding image processing chains"
   ]
  },
  {
   "cell_type": "markdown",
   "id": "fb2fcaf9-5b7b-4f37-b457-6e01e5035fbf",
   "metadata": {},
   "source": [
    "In this notebook we will look at a green IT approach of coding, via good pratices in Python. We will have a look at Dask, RioXarray, rasterio, numpy... all these libraries that are widely used in the satellite image processing chains. "
   ]
  },
  {
   "cell_type": "markdown",
   "id": "9a7fe0ae-0549-47cb-af0c-04a83d27324e",
   "metadata": {},
   "source": [
    "## Necessary imports for the notebook"
   ]
  },
  {
   "cell_type": "code",
   "execution_count": 5,
   "id": "8966e0c9-d03f-4edf-b1b0-abbb4c4c2c34",
   "metadata": {
    "tags": []
   },
   "outputs": [],
   "source": [
    "import numpy as np\n",
    "import rasterio\n",
    "import xarray\n",
    "import rioxarray as rxr\n",
    "from numba import jit,njit\n",
    "from xarray import DataArray \n",
    "from pathlib import Path\n",
    "from typing import List, Tuple, Union, Dict\n",
    "from dask import delayed\n",
    "from dask.distributed import Client, LocalCluster, Lock\n",
    "import dask.array as da\n",
    "from rasterio.transform import Affine\n",
    "import time"
   ]
  },
  {
   "cell_type": "markdown",
   "id": "200d60a9-7747-439c-a4fb-e82516575c6b",
   "metadata": {},
   "source": [
    "## Work directories for the notebook"
   ]
  },
  {
   "cell_type": "code",
   "execution_count": 6,
   "id": "5d7f7644-d20f-4b63-8fa9-76cb1a5c5e4a",
   "metadata": {
    "tags": []
   },
   "outputs": [],
   "source": [
    "data_dir = \"/work/scratch/data/romaint\"\n",
    "s2_b4 = f\"{data_dir}/input_greenit/SENTINEL2B_20240822-105857-973_L2A_T31TCJ_C_V3-1/SENTINEL2B_20240822-105857-973_L2A_T31TCJ_C_V3-1_FRE_B4.tif\"\n",
    "s2_b8 = f\"{data_dir}/input_greenit/SENTINEL2B_20240822-105857-973_L2A_T31TCJ_C_V3-1/SENTINEL2B_20240822-105857-973_L2A_T31TCJ_C_V3-1_FRE_B8.tif\"\n",
    "phr_product_cog = f\"{data_dir}/input_greenit/phr_cog.tif\"\n",
    "phr_product_lzw = f\"{data_dir}/input_greenit/phr_lzw.tif\""
   ]
  },
  {
   "cell_type": "markdown",
   "id": "19ad8906-30ee-4511-aed4-a0a32abd3458",
   "metadata": {
    "tags": []
   },
   "source": [
    "## Defining usefull functions for our notebook"
   ]
  },
  {
   "cell_type": "code",
   "execution_count": 3,
   "id": "219cc690-5c64-4c56-8ba5-ce8333bc6c62",
   "metadata": {
    "tags": []
   },
   "outputs": [],
   "source": [
    "def open_raster_and_get_metadata(raster_paths: List[str], chunks: Union[int, Tuple, Dict, None], lock: Union[int,None]):\n",
    "    \"\"\"\n",
    "    Opens multiple raster files, extracts shared geospatial metadata, \n",
    "    and returns the concatenated data along with resolution and CRS info.\n",
    "\n",
    "    Parameters:\n",
    "    -----------\n",
    "    raster_paths : List[str]\n",
    "        Paths to the raster files.\n",
    "    chunks : Union[int, Tuple, Dict, bool, None]\n",
    "        Chunk sizes for Dask (bands, height, width).\n",
    "\n",
    "    Returns:\n",
    "    --------\n",
    "    Tuple[dask.array.Array, float, float, float, float, Union[str, CRS]]\n",
    "        Concatenated raster data, x and y resolution, top-left coordinates, and CRS.\n",
    "    \"\"\"\n",
    "    results = []\n",
    "    for raster_path in raster_paths:\n",
    "        with rxr.open_rasterio(raster_path, chunks=chunks, lock=lock) as tif:\n",
    "            reprojection = tif\n",
    "            transform = reprojection.rio.transform()\n",
    "            crs = reprojection.rio.crs\n",
    "            x_res = transform[0]\n",
    "            y_res = -transform[4]\n",
    "            top_left_x = transform[2]\n",
    "            top_left_y = transform[5]\n",
    "            results.append(reprojection)\n",
    "\n",
    "    return da.concatenate(results), x_res, y_res, top_left_x, top_left_y, crs\n",
    "\n",
    "def create_raster(data: np.ndarray, output_file: Path, x_res, y_res, top_left_x, top_left_y, crs):\n",
    "    transform = Affine.translation(top_left_x, top_left_y) * Affine.scale(x_res, -y_res)\n",
    "    with rasterio.open(\n",
    "            output_file, \"w\",\n",
    "            driver=\"GTiff\",\n",
    "            height=data.shape[1],\n",
    "            width=data.shape[2],\n",
    "            count=data.shape[0],\n",
    "            dtype=data.dtype,\n",
    "            crs=crs,\n",
    "            transform=transform\n",
    "    ) as dst:\n",
    "        dst.write(data)"
   ]
  },
  {
   "cell_type": "markdown",
   "id": "94bd1ed8-f2e6-47b9-9b82-94fd0d40ec59",
   "metadata": {},
   "source": [
    "## Creating the Dask Cluster\n",
    "\n",
    "In order to use dask we first need to create a [LocalCluster](https://docs.dask.org/en/stable/deploying-python.html#localcluster) which allow us to create workers and use [dask's dashboard](https://docs.dask.org/en/latest/dashboard.html).\n"
   ]
  },
  {
   "cell_type": "code",
   "execution_count": 2,
   "id": "f89bb471-bf40-404a-82e1-ce4e77b14e21",
   "metadata": {
    "scrolled": true,
    "tags": []
   },
   "outputs": [
    {
     "name": "stdout",
     "output_type": "stream",
     "text": [
      "Dask Dashboard:  http://127.0.0.1:8787/status\n"
     ]
    },
    {
     "data": {
      "text/html": [
       "<div>\n",
       "    <div style=\"width: 24px; height: 24px; background-color: #e1e1e1; border: 3px solid #9D9D9D; border-radius: 5px; position: absolute;\"> </div>\n",
       "    <div style=\"margin-left: 48px;\">\n",
       "        <h3 style=\"margin-bottom: 0px;\">Client</h3>\n",
       "        <p style=\"color: #9D9D9D; margin-bottom: 0px;\">Client-e89e21b5-e20d-11ef-84df-00620ba482fc</p>\n",
       "        <table style=\"width: 100%; text-align: left;\">\n",
       "\n",
       "        <tr>\n",
       "        \n",
       "            <td style=\"text-align: left;\"><strong>Connection method:</strong> Cluster object</td>\n",
       "            <td style=\"text-align: left;\"><strong>Cluster type:</strong> distributed.LocalCluster</td>\n",
       "        \n",
       "        </tr>\n",
       "\n",
       "        \n",
       "            <tr>\n",
       "                <td style=\"text-align: left;\">\n",
       "                    <strong>Dashboard: </strong> <a href=\"http://127.0.0.1:8787/status\" target=\"_blank\">http://127.0.0.1:8787/status</a>\n",
       "                </td>\n",
       "                <td style=\"text-align: left;\"></td>\n",
       "            </tr>\n",
       "        \n",
       "\n",
       "        </table>\n",
       "\n",
       "        \n",
       "            <button style=\"margin-bottom: 12px;\" data-commandlinker-command=\"dask:populate-and-launch-layout\" data-commandlinker-args='{\"url\": \"http://127.0.0.1:8787/status\" }'>\n",
       "                Launch dashboard in JupyterLab\n",
       "            </button>\n",
       "        \n",
       "\n",
       "        \n",
       "            <details>\n",
       "            <summary style=\"margin-bottom: 20px;\"><h3 style=\"display: inline;\">Cluster Info</h3></summary>\n",
       "            <div class=\"jp-RenderedHTMLCommon jp-RenderedHTML jp-mod-trusted jp-OutputArea-output\">\n",
       "    <div style=\"width: 24px; height: 24px; background-color: #e1e1e1; border: 3px solid #9D9D9D; border-radius: 5px; position: absolute;\">\n",
       "    </div>\n",
       "    <div style=\"margin-left: 48px;\">\n",
       "        <h3 style=\"margin-bottom: 0px; margin-top: 0px;\">LocalCluster</h3>\n",
       "        <p style=\"color: #9D9D9D; margin-bottom: 0px;\">427581f7</p>\n",
       "        <table style=\"width: 100%; text-align: left;\">\n",
       "            <tr>\n",
       "                <td style=\"text-align: left;\">\n",
       "                    <strong>Dashboard:</strong> <a href=\"http://127.0.0.1:8787/status\" target=\"_blank\">http://127.0.0.1:8787/status</a>\n",
       "                </td>\n",
       "                <td style=\"text-align: left;\">\n",
       "                    <strong>Workers:</strong> 4\n",
       "                </td>\n",
       "            </tr>\n",
       "            <tr>\n",
       "                <td style=\"text-align: left;\">\n",
       "                    <strong>Total threads:</strong> 4\n",
       "                </td>\n",
       "                <td style=\"text-align: left;\">\n",
       "                    <strong>Total memory:</strong> 28.00 GiB\n",
       "                </td>\n",
       "            </tr>\n",
       "            \n",
       "            <tr>\n",
       "    <td style=\"text-align: left;\"><strong>Status:</strong> running</td>\n",
       "    <td style=\"text-align: left;\"><strong>Using processes:</strong> True</td>\n",
       "</tr>\n",
       "\n",
       "            \n",
       "        </table>\n",
       "\n",
       "        <details>\n",
       "            <summary style=\"margin-bottom: 20px;\">\n",
       "                <h3 style=\"display: inline;\">Scheduler Info</h3>\n",
       "            </summary>\n",
       "\n",
       "            <div style=\"\">\n",
       "    <div>\n",
       "        <div style=\"width: 24px; height: 24px; background-color: #FFF7E5; border: 3px solid #FF6132; border-radius: 5px; position: absolute;\"> </div>\n",
       "        <div style=\"margin-left: 48px;\">\n",
       "            <h3 style=\"margin-bottom: 0px;\">Scheduler</h3>\n",
       "            <p style=\"color: #9D9D9D; margin-bottom: 0px;\">Scheduler-3ef03144-bde0-4857-9ed2-3b85e5982644</p>\n",
       "            <table style=\"width: 100%; text-align: left;\">\n",
       "                <tr>\n",
       "                    <td style=\"text-align: left;\">\n",
       "                        <strong>Comm:</strong> tcp://127.0.0.1:40559\n",
       "                    </td>\n",
       "                    <td style=\"text-align: left;\">\n",
       "                        <strong>Workers:</strong> 4\n",
       "                    </td>\n",
       "                </tr>\n",
       "                <tr>\n",
       "                    <td style=\"text-align: left;\">\n",
       "                        <strong>Dashboard:</strong> <a href=\"http://127.0.0.1:8787/status\" target=\"_blank\">http://127.0.0.1:8787/status</a>\n",
       "                    </td>\n",
       "                    <td style=\"text-align: left;\">\n",
       "                        <strong>Total threads:</strong> 4\n",
       "                    </td>\n",
       "                </tr>\n",
       "                <tr>\n",
       "                    <td style=\"text-align: left;\">\n",
       "                        <strong>Started:</strong> Just now\n",
       "                    </td>\n",
       "                    <td style=\"text-align: left;\">\n",
       "                        <strong>Total memory:</strong> 28.00 GiB\n",
       "                    </td>\n",
       "                </tr>\n",
       "            </table>\n",
       "        </div>\n",
       "    </div>\n",
       "\n",
       "    <details style=\"margin-left: 48px;\">\n",
       "        <summary style=\"margin-bottom: 20px;\">\n",
       "            <h3 style=\"display: inline;\">Workers</h3>\n",
       "        </summary>\n",
       "\n",
       "        \n",
       "        <div style=\"margin-bottom: 20px;\">\n",
       "            <div style=\"width: 24px; height: 24px; background-color: #DBF5FF; border: 3px solid #4CC9FF; border-radius: 5px; position: absolute;\"> </div>\n",
       "            <div style=\"margin-left: 48px;\">\n",
       "            <details>\n",
       "                <summary>\n",
       "                    <h4 style=\"margin-bottom: 0px; display: inline;\">Worker: 0</h4>\n",
       "                </summary>\n",
       "                <table style=\"width: 100%; text-align: left;\">\n",
       "                    <tr>\n",
       "                        <td style=\"text-align: left;\">\n",
       "                            <strong>Comm: </strong> tcp://127.0.0.1:43405\n",
       "                        </td>\n",
       "                        <td style=\"text-align: left;\">\n",
       "                            <strong>Total threads: </strong> 1\n",
       "                        </td>\n",
       "                    </tr>\n",
       "                    <tr>\n",
       "                        <td style=\"text-align: left;\">\n",
       "                            <strong>Dashboard: </strong> <a href=\"http://127.0.0.1:38755/status\" target=\"_blank\">http://127.0.0.1:38755/status</a>\n",
       "                        </td>\n",
       "                        <td style=\"text-align: left;\">\n",
       "                            <strong>Memory: </strong> 7.00 GiB\n",
       "                        </td>\n",
       "                    </tr>\n",
       "                    <tr>\n",
       "                        <td style=\"text-align: left;\">\n",
       "                            <strong>Nanny: </strong> tcp://127.0.0.1:39751\n",
       "                        </td>\n",
       "                        <td style=\"text-align: left;\"></td>\n",
       "                    </tr>\n",
       "                    <tr>\n",
       "                        <td colspan=\"2\" style=\"text-align: left;\">\n",
       "                            <strong>Local directory: </strong> /tmp/slurm-32111092/dask-scratch-space/worker-8wzm9nm6\n",
       "                        </td>\n",
       "                    </tr>\n",
       "\n",
       "                    \n",
       "\n",
       "                    \n",
       "\n",
       "                </table>\n",
       "            </details>\n",
       "            </div>\n",
       "        </div>\n",
       "        \n",
       "        <div style=\"margin-bottom: 20px;\">\n",
       "            <div style=\"width: 24px; height: 24px; background-color: #DBF5FF; border: 3px solid #4CC9FF; border-radius: 5px; position: absolute;\"> </div>\n",
       "            <div style=\"margin-left: 48px;\">\n",
       "            <details>\n",
       "                <summary>\n",
       "                    <h4 style=\"margin-bottom: 0px; display: inline;\">Worker: 1</h4>\n",
       "                </summary>\n",
       "                <table style=\"width: 100%; text-align: left;\">\n",
       "                    <tr>\n",
       "                        <td style=\"text-align: left;\">\n",
       "                            <strong>Comm: </strong> tcp://127.0.0.1:43803\n",
       "                        </td>\n",
       "                        <td style=\"text-align: left;\">\n",
       "                            <strong>Total threads: </strong> 1\n",
       "                        </td>\n",
       "                    </tr>\n",
       "                    <tr>\n",
       "                        <td style=\"text-align: left;\">\n",
       "                            <strong>Dashboard: </strong> <a href=\"http://127.0.0.1:33143/status\" target=\"_blank\">http://127.0.0.1:33143/status</a>\n",
       "                        </td>\n",
       "                        <td style=\"text-align: left;\">\n",
       "                            <strong>Memory: </strong> 7.00 GiB\n",
       "                        </td>\n",
       "                    </tr>\n",
       "                    <tr>\n",
       "                        <td style=\"text-align: left;\">\n",
       "                            <strong>Nanny: </strong> tcp://127.0.0.1:34299\n",
       "                        </td>\n",
       "                        <td style=\"text-align: left;\"></td>\n",
       "                    </tr>\n",
       "                    <tr>\n",
       "                        <td colspan=\"2\" style=\"text-align: left;\">\n",
       "                            <strong>Local directory: </strong> /tmp/slurm-32111092/dask-scratch-space/worker-ls1alhze\n",
       "                        </td>\n",
       "                    </tr>\n",
       "\n",
       "                    \n",
       "\n",
       "                    \n",
       "\n",
       "                </table>\n",
       "            </details>\n",
       "            </div>\n",
       "        </div>\n",
       "        \n",
       "        <div style=\"margin-bottom: 20px;\">\n",
       "            <div style=\"width: 24px; height: 24px; background-color: #DBF5FF; border: 3px solid #4CC9FF; border-radius: 5px; position: absolute;\"> </div>\n",
       "            <div style=\"margin-left: 48px;\">\n",
       "            <details>\n",
       "                <summary>\n",
       "                    <h4 style=\"margin-bottom: 0px; display: inline;\">Worker: 2</h4>\n",
       "                </summary>\n",
       "                <table style=\"width: 100%; text-align: left;\">\n",
       "                    <tr>\n",
       "                        <td style=\"text-align: left;\">\n",
       "                            <strong>Comm: </strong> tcp://127.0.0.1:38291\n",
       "                        </td>\n",
       "                        <td style=\"text-align: left;\">\n",
       "                            <strong>Total threads: </strong> 1\n",
       "                        </td>\n",
       "                    </tr>\n",
       "                    <tr>\n",
       "                        <td style=\"text-align: left;\">\n",
       "                            <strong>Dashboard: </strong> <a href=\"http://127.0.0.1:44757/status\" target=\"_blank\">http://127.0.0.1:44757/status</a>\n",
       "                        </td>\n",
       "                        <td style=\"text-align: left;\">\n",
       "                            <strong>Memory: </strong> 7.00 GiB\n",
       "                        </td>\n",
       "                    </tr>\n",
       "                    <tr>\n",
       "                        <td style=\"text-align: left;\">\n",
       "                            <strong>Nanny: </strong> tcp://127.0.0.1:39203\n",
       "                        </td>\n",
       "                        <td style=\"text-align: left;\"></td>\n",
       "                    </tr>\n",
       "                    <tr>\n",
       "                        <td colspan=\"2\" style=\"text-align: left;\">\n",
       "                            <strong>Local directory: </strong> /tmp/slurm-32111092/dask-scratch-space/worker-utct9_is\n",
       "                        </td>\n",
       "                    </tr>\n",
       "\n",
       "                    \n",
       "\n",
       "                    \n",
       "\n",
       "                </table>\n",
       "            </details>\n",
       "            </div>\n",
       "        </div>\n",
       "        \n",
       "        <div style=\"margin-bottom: 20px;\">\n",
       "            <div style=\"width: 24px; height: 24px; background-color: #DBF5FF; border: 3px solid #4CC9FF; border-radius: 5px; position: absolute;\"> </div>\n",
       "            <div style=\"margin-left: 48px;\">\n",
       "            <details>\n",
       "                <summary>\n",
       "                    <h4 style=\"margin-bottom: 0px; display: inline;\">Worker: 3</h4>\n",
       "                </summary>\n",
       "                <table style=\"width: 100%; text-align: left;\">\n",
       "                    <tr>\n",
       "                        <td style=\"text-align: left;\">\n",
       "                            <strong>Comm: </strong> tcp://127.0.0.1:32857\n",
       "                        </td>\n",
       "                        <td style=\"text-align: left;\">\n",
       "                            <strong>Total threads: </strong> 1\n",
       "                        </td>\n",
       "                    </tr>\n",
       "                    <tr>\n",
       "                        <td style=\"text-align: left;\">\n",
       "                            <strong>Dashboard: </strong> <a href=\"http://127.0.0.1:36677/status\" target=\"_blank\">http://127.0.0.1:36677/status</a>\n",
       "                        </td>\n",
       "                        <td style=\"text-align: left;\">\n",
       "                            <strong>Memory: </strong> 7.00 GiB\n",
       "                        </td>\n",
       "                    </tr>\n",
       "                    <tr>\n",
       "                        <td style=\"text-align: left;\">\n",
       "                            <strong>Nanny: </strong> tcp://127.0.0.1:33445\n",
       "                        </td>\n",
       "                        <td style=\"text-align: left;\"></td>\n",
       "                    </tr>\n",
       "                    <tr>\n",
       "                        <td colspan=\"2\" style=\"text-align: left;\">\n",
       "                            <strong>Local directory: </strong> /tmp/slurm-32111092/dask-scratch-space/worker-he9e73nn\n",
       "                        </td>\n",
       "                    </tr>\n",
       "\n",
       "                    \n",
       "\n",
       "                    \n",
       "\n",
       "                </table>\n",
       "            </details>\n",
       "            </div>\n",
       "        </div>\n",
       "        \n",
       "\n",
       "    </details>\n",
       "</div>\n",
       "\n",
       "        </details>\n",
       "    </div>\n",
       "</div>\n",
       "            </details>\n",
       "        \n",
       "\n",
       "    </div>\n",
       "</div>"
      ],
      "text/plain": [
       "<Client: 'tcp://127.0.0.1:40559' processes=4 threads=4, memory=28.00 GiB>"
      ]
     },
     "execution_count": 2,
     "metadata": {},
     "output_type": "execute_result"
    }
   ],
   "source": [
    "cluster = LocalCluster()\n",
    "client = Client(cluster)\n",
    "\n",
    "print(\"Dask Dashboard: \", client.dashboard_link)\n",
    "client"
   ]
  },
  {
   "cell_type": "markdown",
   "id": "2a86c2ad-975b-4ed5-a8b0-8add6c8714d4",
   "metadata": {},
   "source": [
    "Dask return an url where the dashboard is availaible (usually http://127.0.0.1:8787/status). This is not a tutorial on how to use this dashboard, but we recommend using it in a separate window while using this notebook."
   ]
  },
  {
   "cell_type": "markdown",
   "id": "0e86755c-f505-4d6b-830e-396485e12054",
   "metadata": {},
   "source": [
    "# Use Case : Calculation of the Average NDVI on a Sentinel 2 image\n",
    "\n",
    "In this example, we will use standard python libraries to: \n",
    "\n",
    "1. Read the data from the disk and stack them.\n",
    "2. Calculate the associated NDVI, which combines multi-band information into a single band.\n",
    "4. Write the resulting image to the disk.\n",
    "\n",
    "First, let's read the data we need to perform the NDVI with RIOXarray."
   ]
  },
  {
   "cell_type": "markdown",
   "id": "fc56a7e0-edb5-4635-b5a2-0b274d08ce38",
   "metadata": {},
   "source": [
    "### Open raster thanks to rioxarray\n",
    "\n",
    "Here we are going to open the raster data required for this tutorial, the RGB bands from a Sentinel-2 acquisition. To do this, we're going to use rioxarray and, more specifically, the [open_rasterio](https://corteva.github.io/rioxarray/html/rioxarray.html#rioxarray-open-rasterio) method, which opens the images lazily (without loading data into memory) and returns a `dask.array` object. \n",
    "From this method we will use the ``chunks`` and ``lock`` arguments, which respectively set a chunk size and limit access to the data to one thread at a time to avoid read problems. Here ``chunks`` is set to ``True`` to allow dask to automatically size chunks.\n",
    "\n",
    "When the data is read, we can express the NDVI calculation as if it were a numpy array. We add ``[None, :, :]`` to keep the shape as ``(bands, rows, cols)``. Then we can apply reduction on the dask.array and use ``compute()`` on it to triger the computation."
   ]
  },
  {
   "cell_type": "code",
   "execution_count": 7,
   "id": "71481af7-7b8b-4f09-8a02-fd3bc2ec3f8f",
   "metadata": {
    "tags": []
   },
   "outputs": [
    {
     "data": {
      "text/html": [
       "<table>\n",
       "    <tr>\n",
       "        <td>\n",
       "            <table style=\"border-collapse: collapse;\">\n",
       "                <thead>\n",
       "                    <tr>\n",
       "                        <td> </td>\n",
       "                        <th> Array </th>\n",
       "                        <th> Chunk </th>\n",
       "                    </tr>\n",
       "                </thead>\n",
       "                <tbody>\n",
       "                    \n",
       "                    <tr>\n",
       "                        <th> Bytes </th>\n",
       "                        <td> 459.90 MiB </td>\n",
       "                        <td> 9.23 MiB </td>\n",
       "                    </tr>\n",
       "                    \n",
       "                    <tr>\n",
       "                        <th> Shape </th>\n",
       "                        <td> (2, 10980, 10980) </td>\n",
       "                        <td> (1, 2200, 2200) </td>\n",
       "                    </tr>\n",
       "                    <tr>\n",
       "                        <th> Dask graph </th>\n",
       "                        <td colspan=\"2\"> 50 chunks in 5 graph layers </td>\n",
       "                    </tr>\n",
       "                    <tr>\n",
       "                        <th> Data type </th>\n",
       "                        <td colspan=\"2\"> int16 numpy.ndarray </td>\n",
       "                    </tr>\n",
       "                </tbody>\n",
       "            </table>\n",
       "        </td>\n",
       "        <td>\n",
       "        <svg width=\"194\" height=\"184\" style=\"stroke:rgb(0,0,0);stroke-width:1\" >\n",
       "\n",
       "  <!-- Horizontal lines -->\n",
       "  <line x1=\"10\" y1=\"0\" x2=\"24\" y2=\"14\" style=\"stroke-width:2\" />\n",
       "  <line x1=\"10\" y1=\"24\" x2=\"24\" y2=\"38\" />\n",
       "  <line x1=\"10\" y1=\"48\" x2=\"24\" y2=\"63\" />\n",
       "  <line x1=\"10\" y1=\"72\" x2=\"24\" y2=\"87\" />\n",
       "  <line x1=\"10\" y1=\"96\" x2=\"24\" y2=\"111\" />\n",
       "  <line x1=\"10\" y1=\"120\" x2=\"24\" y2=\"134\" style=\"stroke-width:2\" />\n",
       "\n",
       "  <!-- Vertical lines -->\n",
       "  <line x1=\"10\" y1=\"0\" x2=\"10\" y2=\"120\" style=\"stroke-width:2\" />\n",
       "  <line x1=\"17\" y1=\"7\" x2=\"17\" y2=\"127\" />\n",
       "  <line x1=\"24\" y1=\"14\" x2=\"24\" y2=\"134\" style=\"stroke-width:2\" />\n",
       "\n",
       "  <!-- Colored Rectangle -->\n",
       "  <polygon points=\"10.0,0.0 24.9485979497544,14.948597949754403 24.9485979497544,134.9485979497544 10.0,120.0\" style=\"fill:#ECB172A0;stroke-width:0\"/>\n",
       "\n",
       "  <!-- Horizontal lines -->\n",
       "  <line x1=\"10\" y1=\"0\" x2=\"130\" y2=\"0\" style=\"stroke-width:2\" />\n",
       "  <line x1=\"17\" y1=\"7\" x2=\"137\" y2=\"7\" />\n",
       "  <line x1=\"24\" y1=\"14\" x2=\"144\" y2=\"14\" style=\"stroke-width:2\" />\n",
       "\n",
       "  <!-- Vertical lines -->\n",
       "  <line x1=\"10\" y1=\"0\" x2=\"24\" y2=\"14\" style=\"stroke-width:2\" />\n",
       "  <line x1=\"34\" y1=\"0\" x2=\"48\" y2=\"14\" />\n",
       "  <line x1=\"58\" y1=\"0\" x2=\"73\" y2=\"14\" />\n",
       "  <line x1=\"82\" y1=\"0\" x2=\"97\" y2=\"14\" />\n",
       "  <line x1=\"106\" y1=\"0\" x2=\"121\" y2=\"14\" />\n",
       "  <line x1=\"130\" y1=\"0\" x2=\"144\" y2=\"14\" style=\"stroke-width:2\" />\n",
       "\n",
       "  <!-- Colored Rectangle -->\n",
       "  <polygon points=\"10.0,0.0 130.0,0.0 144.9485979497544,14.948597949754403 24.9485979497544,14.948597949754403\" style=\"fill:#ECB172A0;stroke-width:0\"/>\n",
       "\n",
       "  <!-- Horizontal lines -->\n",
       "  <line x1=\"24\" y1=\"14\" x2=\"144\" y2=\"14\" style=\"stroke-width:2\" />\n",
       "  <line x1=\"24\" y1=\"38\" x2=\"144\" y2=\"38\" />\n",
       "  <line x1=\"24\" y1=\"63\" x2=\"144\" y2=\"63\" />\n",
       "  <line x1=\"24\" y1=\"87\" x2=\"144\" y2=\"87\" />\n",
       "  <line x1=\"24\" y1=\"111\" x2=\"144\" y2=\"111\" />\n",
       "  <line x1=\"24\" y1=\"134\" x2=\"144\" y2=\"134\" style=\"stroke-width:2\" />\n",
       "\n",
       "  <!-- Vertical lines -->\n",
       "  <line x1=\"24\" y1=\"14\" x2=\"24\" y2=\"134\" style=\"stroke-width:2\" />\n",
       "  <line x1=\"48\" y1=\"14\" x2=\"48\" y2=\"134\" />\n",
       "  <line x1=\"73\" y1=\"14\" x2=\"73\" y2=\"134\" />\n",
       "  <line x1=\"97\" y1=\"14\" x2=\"97\" y2=\"134\" />\n",
       "  <line x1=\"121\" y1=\"14\" x2=\"121\" y2=\"134\" />\n",
       "  <line x1=\"144\" y1=\"14\" x2=\"144\" y2=\"134\" style=\"stroke-width:2\" />\n",
       "\n",
       "  <!-- Colored Rectangle -->\n",
       "  <polygon points=\"24.9485979497544,14.948597949754403 144.9485979497544,14.948597949754403 144.9485979497544,134.9485979497544 24.9485979497544,134.9485979497544\" style=\"fill:#ECB172A0;stroke-width:0\"/>\n",
       "\n",
       "  <!-- Text -->\n",
       "  <text x=\"84.948598\" y=\"154.948598\" font-size=\"1.0rem\" font-weight=\"100\" text-anchor=\"middle\" >10980</text>\n",
       "  <text x=\"164.948598\" y=\"74.948598\" font-size=\"1.0rem\" font-weight=\"100\" text-anchor=\"middle\" transform=\"rotate(-90,164.948598,74.948598)\">10980</text>\n",
       "  <text x=\"7.474299\" y=\"147.474299\" font-size=\"1.0rem\" font-weight=\"100\" text-anchor=\"middle\" transform=\"rotate(45,7.474299,147.474299)\">2</text>\n",
       "</svg>\n",
       "        </td>\n",
       "    </tr>\n",
       "</table>"
      ],
      "text/plain": [
       "dask.array<concatenate, shape=(2, 10980, 10980), dtype=int16, chunksize=(1, 2200, 2200), chunktype=numpy.ndarray>"
      ]
     },
     "execution_count": 7,
     "metadata": {},
     "output_type": "execute_result"
    }
   ],
   "source": [
    "# Open the raster\n",
    "reading_chunks = (-1,2200,2200)\n",
    "input_data_array, x_res, y_res, top_left_x, top_left_y, crs = open_raster_and_get_metadata([s2_b4,s2_b8], reading_chunks, False)\n",
    "input_data_array"
   ]
  },
  {
   "cell_type": "code",
   "execution_count": 8,
   "id": "2dad7fe0-23bc-40b2-b27e-4c7cb0f8dc0e",
   "metadata": {
    "tags": []
   },
   "outputs": [
    {
     "name": "stdout",
     "output_type": "stream",
     "text": [
      "CPU times: user 454 ms, sys: 1.26 s, total: 1.72 s\n",
      "Wall time: 3.9 s\n"
     ]
    }
   ],
   "source": [
    "%%time\n",
    "\n",
    "ndvi_array = (input_data_array[1] - input_data_array[0]) / (input_data_array[1] + input_data_array[0])[None, :, :]\n",
    "# Launch the computing with dask with the compute call\n",
    "mean_ndvi = ndvi_array.compute() \n",
    "crs=\"EPSG:4326\"\n",
    "output_file = Path(f\"{data_dir}/output_greenit/ndvi_dask.tif\")\n",
    "create_raster(mean_ndvi, output_file, x_res , y_res,\n",
    "                  top_left_x, top_left_y, crs)"
   ]
  },
  {
   "cell_type": "markdown",
   "id": "7f5d09f0-cf39-4e3b-afcb-6db0bccc877a",
   "metadata": {},
   "source": [
    "## Calculate NDVI With OTB in python"
   ]
  },
  {
   "cell_type": "code",
   "execution_count": 1,
   "id": "d83fde75-d936-4372-b7c6-412c9b2d5bf7",
   "metadata": {
    "tags": []
   },
   "outputs": [
    {
     "ename": "ModuleNotFoundError",
     "evalue": "No module named 'otbApplication'",
     "output_type": "error",
     "traceback": [
      "\u001b[0;31m---------------------------------------------------------------------------\u001b[0m",
      "\u001b[0;31mModuleNotFoundError\u001b[0m                       Traceback (most recent call last)",
      "Cell \u001b[0;32mIn[1], line 1\u001b[0m\n\u001b[0;32m----> 1\u001b[0m \u001b[38;5;28;01mimport\u001b[39;00m \u001b[38;5;21;01motbApplication\u001b[39;00m \u001b[38;5;28;01mas\u001b[39;00m \u001b[38;5;21;01motb\u001b[39;00m\n\u001b[1;32m      3\u001b[0m out_ndvi_otb_py\u001b[38;5;241m=\u001b[39m\u001b[38;5;124m\"\u001b[39m\u001b[38;5;124m/work/scratch/data/romaint/output_greenit/img_ndvi_otb_py.tif\u001b[39m\u001b[38;5;124m\"\u001b[39m\n\u001b[1;32m      4\u001b[0m \u001b[38;5;66;03m#Compute NDVI with OTB in python\u001b[39;00m\n",
      "\u001b[0;31mModuleNotFoundError\u001b[0m: No module named 'otbApplication'"
     ]
    }
   ],
   "source": [
    "import otbApplication as otb\n",
    "\n",
    "out_ndvi_otb_py=\"/work/scratch/data/romaint/output_greenit/img_ndvi_otb_py.tif\"\n",
    "#Compute NDVI with OTB in python\n",
    "app_ndvi_otb = otb.Registry.CreateApplication(\"BandMath\")\n",
    "app_ndvi_otb.SetParameterStringList(\"il\",[s2_b4,s2_b8])\n",
    "app_ndvi_otb.SetParameterString(\"exp\",\"(im2b1-im1b1)/(im2b1+im1b1)\")\n",
    "#app_ndvi_otb.SetParameterStringList(\"il\",[phr_product_cog])\n",
    "#app_ndvi_otb.SetParameterString(\"exp\",\"(im1b4-im1b1)/(im1b4+im1b1)\")\n",
    "app_ndvi_otb.SetParameterString(\"out\",out_ndvi_otb_py)\n",
    "app_ndvi_otb.SetParameterInt(\"ram\",2048)\n",
    "app_ndvi_otb.ExecuteAndWriteOutput()"
   ]
  },
  {
   "cell_type": "markdown",
   "id": "c030e442-871e-4d59-8cb6-1310b5867df1",
   "metadata": {},
   "source": [
    "## Calculate NDVI with OTB in C++\n",
    "This part will call BandMath with the otb CLI to compare performances with the python swig interface"
   ]
  },
  {
   "cell_type": "code",
   "execution_count": 7,
   "id": "73a731cf-a534-4b49-9a6d-425b58d87e45",
   "metadata": {
    "tags": []
   },
   "outputs": [
    {
     "name": "stderr",
     "output_type": "stream",
     "text": [
      "Warning 1: Invalid value for NUM_THREADS: \n"
     ]
    },
    {
     "name": "stdout",
     "output_type": "stream",
     "text": [
      "Writing /work/scratch/data/romaint/output_greenit/img_ndvi_otb_cpp.tif...: 100% [**************************************************] (2s)\n"
     ]
    }
   ],
   "source": [
    "%%bash\n",
    "\n",
    "WORK_DIR=\"/work/scratch/data/romaint\"\n",
    "otbcli_BandMath -il \"${WORK_DIR}/input_greenit/SENTINEL2B_20240822-105857-973_L2A_T31TCJ_C_V3-1/SENTINEL2B_20240822-105857-973_L2A_T31TCJ_C_V3-1_FRE_B4.tif\" \"${WORK_DIR}/input_greenit/SENTINEL2B_20240822-105857-973_L2A_T31TCJ_C_V3-1/SENTINEL2B_20240822-105857-973_L2A_T31TCJ_C_V3-1_FRE_B8.tif\" -exp \"( im2b1 - im1b1 ) / ( im2b1 + im1b1 )\" -out \"${WORK_DIR}/output_greenit/img_ndvi_otb_cpp.tif\" "
   ]
  },
  {
   "cell_type": "markdown",
   "id": "c1b01381-b598-4e69-9389-255da7cc72cf",
   "metadata": {},
   "source": [
    "## Conclusion\n",
    "\n",
    "The compute time with OTB for a simple NDVI computing is lower than standard python computing, this is mainly due to the overkill usage of dask with single band files.\n",
    "Now let's see how to optimize our initial code, to determine when it using dask becomes important"
   ]
  },
  {
   "cell_type": "markdown",
   "id": "e7c62deb-08a1-4a39-8c5d-ebe0d0e28386",
   "metadata": {},
   "source": [
    "# Compute time optimisation methods for NDVI\n",
    "\n",
    "Let's see if we can improve the computing time with well known python libraries, with a Sentinel 2 product (size of about 2 Go if you include the bands you need only), every file is single band"
   ]
  },
  {
   "cell_type": "code",
   "execution_count": 41,
   "id": "bd7a3e53-87f6-4dca-9d9e-550956f02a50",
   "metadata": {
    "scrolled": true,
    "tags": []
   },
   "outputs": [
    {
     "name": "stderr",
     "output_type": "stream",
     "text": [
      "/usr/local/lib/python3.10/dist-packages/rasterio/__init__.py:366: NotGeoreferencedWarning: The given matrix is equal to Affine.identity or its flipped counterpart. GDAL may ignore this matrix and save no geotransform without raising an error. This behavior is somewhat driver-specific.\n",
      "  dataset = writer(\n"
     ]
    },
    {
     "name": "stdout",
     "output_type": "stream",
     "text": [
      "Elapsed with Raster IO + numba = 1.6279641180299222s\n",
      "Elapsed with Raster IO + without numba = 1.7432440733537078s\n",
      "Elapsed with Xarray + apply ufunc = 3.0273265461437404s\n",
      "Elapsed with RIOXarray + dask = 4.102793791797012s\n",
      "CPU times: user 2.25 s, sys: 5.03 s, total: 7.28 s\n",
      "Wall time: 10.5 s\n"
     ]
    }
   ],
   "source": [
    "%%time\n",
    "\n",
    "@njit\n",
    "def one_pixel_ndvi(p1,p2):\n",
    "    return (p2-p1) / (p2+p1) \n",
    "\n",
    "@njit\n",
    "def compute_ndvi_numba(input_data_1: np.ndarray,input_data_2: np.ndarray):\n",
    "    #ndvi_array = [one_pixel_ndvi(i,j) for i in input_data_1 for j in input_data_2]\n",
    "    ndvi_array = (input_data_2 - input_data_1) / (input_data_2 + input_data_1)\n",
    "    return ndvi_array\n",
    "\n",
    "def compute_ndvi_dask(input_data_1: DataArray,input_data_2: DataArray):\n",
    "    ndvi_array = ((input_data_2 - input_data_1) / (input_data_2 + input_data_1))[None,:,:]\n",
    "    ndvi_array.compute()\n",
    "    return ndvi_array\n",
    "\n",
    "def compute_ndvi_std(input_data_1: np.ndarray,input_data_2: np.ndarray):\n",
    "    #ndvi_array = [one_pixel_ndvi(i,j) for i in input_data_1 for j in input_data_2]\n",
    "    ndvi_array = (input_data_2 - input_data_1) / (input_data_2 + input_data_1)\n",
    "    return ndvi_array\n",
    "\n",
    "start = time.perf_counter()\n",
    "with rasterio.open(s2_b4, 'r') as ds:\n",
    "    input_data_b4 = ds.read() \n",
    "\n",
    "with rasterio.open(s2_b8, 'r') as ds:\n",
    "    input_data_b8 = ds.read()\n",
    "   \n",
    "ndvi_computed = compute_ndvi_numba(input_data_b4,input_data_b8)\n",
    "crs=\"EPSG:4326\"\n",
    "output_file = Path(f\"{data_dir}/output_greenit/ndvi_numba.tif\")\n",
    "create_raster(ndvi_computed, output_file, x_res , y_res, top_left_x, top_left_y, crs)\n",
    "end = time.perf_counter()\n",
    "print(\"Elapsed with Raster IO + numba = {}s\".format((end - start)))\n",
    "\n",
    "start = time.perf_counter()\n",
    "with rasterio.open(s2_b4, 'r') as ds:\n",
    "    input_data_b4 = ds.read() \n",
    "\n",
    "with rasterio.open(s2_b8, 'r') as ds:\n",
    "    input_data_b8 = ds.read()\n",
    "\n",
    "ndvi_computed = compute_ndvi_std(input_data_b4,input_data_b8)\n",
    "crs=\"EPSG:4326\"\n",
    "output_file = Path(f\"{data_dir}/output_greenit/ndvi_without_numba.tif\")\n",
    "create_raster(ndvi_computed, output_file, x_res , y_res,top_left_x, top_left_y, crs)\n",
    "end = time.perf_counter()\n",
    "print(\"Elapsed with Raster IO + without numba = {}s\".format((end - start)))\n",
    "# Example with xarray\n",
    "start = time.perf_counter()\n",
    "input_data_b4 =  xarray.open_dataarray(s2_b4)\n",
    "input_data_b8 =  xarray.open_dataarray(s2_b8)\n",
    "ndvi_computed = xarray.apply_ufunc(compute_ndvi_std,input_data_b4,input_data_b8)\n",
    "output_file = Path(f\"{data_dir}/output_greenit/ndvi_ufunc.tif\")\n",
    "ndvi_computed.rio.to_raster(output_file)\n",
    "end = time.perf_counter()\n",
    "print(\"Elapsed with Xarray + apply ufunc = {}s\".format((end - start)))\n",
    "\n",
    "start = time.perf_counter()\n",
    "input_data, x_res, y_res, top_left_x, top_left_y, crs = open_raster_and_get_metadata([s2_b4,s2_b8], (-1,2200,2200), False)\n",
    "ndvi_array = compute_ndvi_dask(input_data[0],input_data[1])\n",
    "output_file = Path(f\"{data_dir}/output_greenit/ndvi_dask.tif\")\n",
    "create_raster(ndvi_array, output_file, x_res , y_res, top_left_x, top_left_y, crs)\n",
    "end = time.perf_counter()\n",
    "print(\"Elapsed with RIOXarray + dask = {}s\".format((end - start)))\n"
   ]
  },
  {
   "cell_type": "markdown",
   "id": "c9229d23-c553-4c30-8ae0-b21cee07879e",
   "metadata": {},
   "source": [
    "## Conclusion for a Sentinel 2 product with single band files (~3Go for the full product)\n",
    "\n",
    "* Using **RIOXarray + dask on single band product is counter productive**.\n",
    "* Xarray + applyufunc also leads to low performance compared to opening the whole product with rasterio.\n",
    "* Using numba do enhances the performance but with less than 10%, it is more suitable for numpy vectorize [optimisation]( https://numba.readthedocs.io/en/stable/user/vectorize.html#the-vectorize-decorator)\n"
   ]
  },
  {
   "cell_type": "markdown",
   "id": "807ff285-435b-4d82-aa67-bf9c32fd0f43",
   "metadata": {},
   "source": [
    "# The importance of reducing the size of your data\n",
    "\n",
    "Let's see how the size of your data can have an impact on your compute time"
   ]
  },
  {
   "cell_type": "markdown",
   "id": "7a95208c-4974-4c85-a09d-e7cd99fd09cd",
   "metadata": {},
   "source": [
    "## Simple LZW Compression with RasterIO"
   ]
  },
  {
   "cell_type": "code",
   "execution_count": null,
   "id": "69b8bd27-926e-4373-86d1-4dafe7fdbeed",
   "metadata": {},
   "outputs": [],
   "source": [
    "# Register GDAL format drivers and configuration options with a\n",
    "# context manager.\n",
    "with rasterio.Env():\n",
    "\n",
    "    # Write an array as a raster band to a new 8-bit file. For\n",
    "    # the new file's profile, we start with the profile of the source\n",
    "    profile = raster.profile\n",
    "\n",
    "    # And then change the band count to 1, set the\n",
    "    # dtype to uint8, and specify LZW compression.\n",
    "    profile.update(compress='lzw')\n",
    "\n",
    "    with rasterio.open(os.environ['TMPDIR'] + '/lzw.tif', 'w', **profile) as dst:\n",
    "        dst.write(raster.read(1), 1)"
   ]
  },
  {
   "cell_type": "markdown",
   "id": "9f77319c-80a1-4060-92ff-32a5040f834f",
   "metadata": {},
   "source": [
    "## Create a CoG without overview"
   ]
  },
  {
   "cell_type": "code",
   "execution_count": null,
   "id": "906973ba-32f1-473c-93dd-302296177950",
   "metadata": {},
   "outputs": [],
   "source": [
    "with rasterio.Env():\n",
    "    profile = raster.profile\n",
    "    profile.update(tiled=True, compress='lzw', blockxsize=512, blockysize=512)\n",
    "    with rasterio.open(os.environ['TMPDIR'] + '/cog.tif', 'w', **profile) as dst:\n",
    "        dst.write(raster.read(1), 1)"
   ]
  },
  {
   "cell_type": "code",
   "execution_count": 2,
   "id": "1071ba31-2e9b-4da5-9d94-9e6ea9a5b1db",
   "metadata": {
    "tags": []
   },
   "outputs": [
    {
     "name": "stdout",
     "output_type": "stream",
     "text": [
      "^C\n"
     ]
    }
   ],
   "source": [
    "!du -sh $TMPDIR/*"
   ]
  },
  {
   "cell_type": "markdown",
   "id": "9c0589ff-d318-4b93-8b74-bf8caaee8037",
   "metadata": {},
   "source": [
    "### Size gain after compression\n",
    "\n",
    "Initial PLEIADES product size : 13 Go\n",
    "\n",
    "#### LZW\n",
    "Product size : 10 Go\n",
    "\n",
    "#### CoG\n",
    "Product size : 7 Go"
   ]
  },
  {
   "cell_type": "markdown",
   "id": "58483551-a29e-4435-bfe5-8737bf9ba7bb",
   "metadata": {},
   "source": [
    "### Compute time with compressed files"
   ]
  },
  {
   "cell_type": "code",
   "execution_count": null,
   "id": "8e7a9fdb-3844-432a-bc43-fbcc2c5169cd",
   "metadata": {},
   "outputs": [],
   "source": [
    "reading_chunks = (-1,2048,2048)\n",
    "start=time.perf_counter()\n",
    "data_array = rxr.open_rasterio(phr_product_lzw, chunks=reading_chunks, lock=False)\n",
    "ndvi_array = (data_array[3] - data_array[0]) / (data_array[3] + data_array[0])\n",
    "output_file = Path(f\"{data_dir}/output_greenit/ndvi_lzw.tif\")\n",
    "ndvi_array.rio.to_raster(output_file)\n",
    "end=time.perf_counter()\n",
    "print(\"Elapsed with LZW compressed file = {}s\".format((end - start)))\n",
    "\n",
    "start=time.perf_counter()\n",
    "data_array = rxr.open_rasterio(phr_product_cog, chunks=reading_chunks, lock=False)\n",
    "ndvi_array = (data_array[3] - data_array[0]) / (data_array[3] + data_array[0])\n",
    "output_file = Path(f\"{data_dir}/output_greenit/ndvi_cog.tif\")\n",
    "ndvi_array.rio.to_raster(output_file)\n",
    "end=time.perf_counter()\n",
    "print(\"Elapsed with CoG compressed file = {}s\".format((end - start)))"
   ]
  },
  {
   "cell_type": "markdown",
   "id": "d695aecb-9e65-4111-a7c4-845cb5c6914e",
   "metadata": {},
   "source": [
    "## Conclusion\n",
    "\n",
    "* Using LZW or CoG does reduce the size of your data on disk and reduce the computing time, but **beware than in memory the product size will still be the original product's size**\n",
    "\n",
    "* Using CoG is more efficient in disk size and computational time (see the next chapter)\n"
   ]
  },
  {
   "cell_type": "markdown",
   "id": "eace634b-3c4c-4db8-8c4f-92ffea2bf1e6",
   "metadata": {},
   "source": [
    "## The size of your image should lead you to use the right library\n",
    "\n",
    "**If your product is single band or its size is less than your RAM size divided by the number of CPUs (not threads), it is not recommended to use parallelisation libraries such as dask**\n",
    "\n",
    "Let's say you have an average computer that has 16 or 32Go RAM : with this amount of ram we recommend using dask if your **product size is > 3 Go**\n",
    "\n",
    "**If your product is multi-band, use RIOXarray or Dask, we will see in the next chapter that you can tune the parameters to improve the read/write performances**\n",
    "\n",
    "Let's see a use case where parralellisation methods are worth it"
   ]
  },
  {
   "cell_type": "markdown",
   "id": "56e25516-3d90-4ee6-8c4b-085b94d3d096",
   "metadata": {
    "tags": []
   },
   "source": [
    "# Use case : I have to use multiple products which average size is > 10Go\n",
    "\n",
    "In this example we will use a PLEIADES product (which original size is 13Go) in CoG format which size is 7 Go\n",
    "\n",
    "This is the typical use case where dask or rioxarray with parallel read and write support is necessary to speedup your processing. Let's see what are the recommended parameters to optimize your processing with big data\n",
    "\n",
    "## Optimize dask parameters"
   ]
  },
  {
   "cell_type": "markdown",
   "id": "d3ab5833-1672-478a-8b26-0ed2bc4d6ee1",
   "metadata": {},
   "source": [
    "### Find the right chunk size for dask\n",
    "\n",
    "Chunk size is becoming very important when your data size grows. You can let chunks=True to dask which will automatically determine a chunk size\n",
    "Most of the time this chunk size is coherent but users can tweak it to be more efficient.\n",
    "\n",
    "Also be careful about the compute() method, which is not recommended when your data size => 10Go, the memory consumption increases a lot"
   ]
  },
  {
   "cell_type": "code",
   "execution_count": 5,
   "id": "57ae950e-2ea3-48a9-87ba-3b8a91de7c93",
   "metadata": {
    "tags": []
   },
   "outputs": [
    {
     "data": {
      "text/html": [
       "<div><svg style=\"position: absolute; width: 0; height: 0; overflow: hidden\">\n",
       "<defs>\n",
       "<symbol id=\"icon-database\" viewBox=\"0 0 32 32\">\n",
       "<path d=\"M16 0c-8.837 0-16 2.239-16 5v4c0 2.761 7.163 5 16 5s16-2.239 16-5v-4c0-2.761-7.163-5-16-5z\"></path>\n",
       "<path d=\"M16 17c-8.837 0-16-2.239-16-5v6c0 2.761 7.163 5 16 5s16-2.239 16-5v-6c0 2.761-7.163 5-16 5z\"></path>\n",
       "<path d=\"M16 26c-8.837 0-16-2.239-16-5v6c0 2.761 7.163 5 16 5s16-2.239 16-5v-6c0 2.761-7.163 5-16 5z\"></path>\n",
       "</symbol>\n",
       "<symbol id=\"icon-file-text2\" viewBox=\"0 0 32 32\">\n",
       "<path d=\"M28.681 7.159c-0.694-0.947-1.662-2.053-2.724-3.116s-2.169-2.030-3.116-2.724c-1.612-1.182-2.393-1.319-2.841-1.319h-15.5c-1.378 0-2.5 1.121-2.5 2.5v27c0 1.378 1.122 2.5 2.5 2.5h23c1.378 0 2.5-1.122 2.5-2.5v-19.5c0-0.448-0.137-1.23-1.319-2.841zM24.543 5.457c0.959 0.959 1.712 1.825 2.268 2.543h-4.811v-4.811c0.718 0.556 1.584 1.309 2.543 2.268zM28 29.5c0 0.271-0.229 0.5-0.5 0.5h-23c-0.271 0-0.5-0.229-0.5-0.5v-27c0-0.271 0.229-0.5 0.5-0.5 0 0 15.499-0 15.5 0v7c0 0.552 0.448 1 1 1h7v19.5z\"></path>\n",
       "<path d=\"M23 26h-14c-0.552 0-1-0.448-1-1s0.448-1 1-1h14c0.552 0 1 0.448 1 1s-0.448 1-1 1z\"></path>\n",
       "<path d=\"M23 22h-14c-0.552 0-1-0.448-1-1s0.448-1 1-1h14c0.552 0 1 0.448 1 1s-0.448 1-1 1z\"></path>\n",
       "<path d=\"M23 18h-14c-0.552 0-1-0.448-1-1s0.448-1 1-1h14c0.552 0 1 0.448 1 1s-0.448 1-1 1z\"></path>\n",
       "</symbol>\n",
       "</defs>\n",
       "</svg>\n",
       "<style>/* CSS stylesheet for displaying xarray objects in jupyterlab.\n",
       " *\n",
       " */\n",
       "\n",
       ":root {\n",
       "  --xr-font-color0: var(--jp-content-font-color0, rgba(0, 0, 0, 1));\n",
       "  --xr-font-color2: var(--jp-content-font-color2, rgba(0, 0, 0, 0.54));\n",
       "  --xr-font-color3: var(--jp-content-font-color3, rgba(0, 0, 0, 0.38));\n",
       "  --xr-border-color: var(--jp-border-color2, #e0e0e0);\n",
       "  --xr-disabled-color: var(--jp-layout-color3, #bdbdbd);\n",
       "  --xr-background-color: var(--jp-layout-color0, white);\n",
       "  --xr-background-color-row-even: var(--jp-layout-color1, white);\n",
       "  --xr-background-color-row-odd: var(--jp-layout-color2, #eeeeee);\n",
       "}\n",
       "\n",
       "html[theme=\"dark\"],\n",
       "html[data-theme=\"dark\"],\n",
       "body[data-theme=\"dark\"],\n",
       "body.vscode-dark {\n",
       "  --xr-font-color0: rgba(255, 255, 255, 1);\n",
       "  --xr-font-color2: rgba(255, 255, 255, 0.54);\n",
       "  --xr-font-color3: rgba(255, 255, 255, 0.38);\n",
       "  --xr-border-color: #1f1f1f;\n",
       "  --xr-disabled-color: #515151;\n",
       "  --xr-background-color: #111111;\n",
       "  --xr-background-color-row-even: #111111;\n",
       "  --xr-background-color-row-odd: #313131;\n",
       "}\n",
       "\n",
       ".xr-wrap {\n",
       "  display: block !important;\n",
       "  min-width: 300px;\n",
       "  max-width: 700px;\n",
       "}\n",
       "\n",
       ".xr-text-repr-fallback {\n",
       "  /* fallback to plain text repr when CSS is not injected (untrusted notebook) */\n",
       "  display: none;\n",
       "}\n",
       "\n",
       ".xr-header {\n",
       "  padding-top: 6px;\n",
       "  padding-bottom: 6px;\n",
       "  margin-bottom: 4px;\n",
       "  border-bottom: solid 1px var(--xr-border-color);\n",
       "}\n",
       "\n",
       ".xr-header > div,\n",
       ".xr-header > ul {\n",
       "  display: inline;\n",
       "  margin-top: 0;\n",
       "  margin-bottom: 0;\n",
       "}\n",
       "\n",
       ".xr-obj-type,\n",
       ".xr-array-name {\n",
       "  margin-left: 2px;\n",
       "  margin-right: 10px;\n",
       "}\n",
       "\n",
       ".xr-obj-type {\n",
       "  color: var(--xr-font-color2);\n",
       "}\n",
       "\n",
       ".xr-sections {\n",
       "  padding-left: 0 !important;\n",
       "  display: grid;\n",
       "  grid-template-columns: 150px auto auto 1fr 0 20px 0 20px;\n",
       "}\n",
       "\n",
       ".xr-section-item {\n",
       "  display: contents;\n",
       "}\n",
       "\n",
       ".xr-section-item input {\n",
       "  display: inline-block;\n",
       "  opacity: 0;\n",
       "  height: 0;\n",
       "}\n",
       "\n",
       ".xr-section-item input + label {\n",
       "  color: var(--xr-disabled-color);\n",
       "}\n",
       "\n",
       ".xr-section-item input:enabled + label {\n",
       "  cursor: pointer;\n",
       "  color: var(--xr-font-color2);\n",
       "}\n",
       "\n",
       ".xr-section-item input:focus + label {\n",
       "  border: 2px solid var(--xr-font-color0);\n",
       "}\n",
       "\n",
       ".xr-section-item input:enabled + label:hover {\n",
       "  color: var(--xr-font-color0);\n",
       "}\n",
       "\n",
       ".xr-section-summary {\n",
       "  grid-column: 1;\n",
       "  color: var(--xr-font-color2);\n",
       "  font-weight: 500;\n",
       "}\n",
       "\n",
       ".xr-section-summary > span {\n",
       "  display: inline-block;\n",
       "  padding-left: 0.5em;\n",
       "}\n",
       "\n",
       ".xr-section-summary-in:disabled + label {\n",
       "  color: var(--xr-font-color2);\n",
       "}\n",
       "\n",
       ".xr-section-summary-in + label:before {\n",
       "  display: inline-block;\n",
       "  content: \"►\";\n",
       "  font-size: 11px;\n",
       "  width: 15px;\n",
       "  text-align: center;\n",
       "}\n",
       "\n",
       ".xr-section-summary-in:disabled + label:before {\n",
       "  color: var(--xr-disabled-color);\n",
       "}\n",
       "\n",
       ".xr-section-summary-in:checked + label:before {\n",
       "  content: \"▼\";\n",
       "}\n",
       "\n",
       ".xr-section-summary-in:checked + label > span {\n",
       "  display: none;\n",
       "}\n",
       "\n",
       ".xr-section-summary,\n",
       ".xr-section-inline-details {\n",
       "  padding-top: 4px;\n",
       "  padding-bottom: 4px;\n",
       "}\n",
       "\n",
       ".xr-section-inline-details {\n",
       "  grid-column: 2 / -1;\n",
       "}\n",
       "\n",
       ".xr-section-details {\n",
       "  display: none;\n",
       "  grid-column: 1 / -1;\n",
       "  margin-bottom: 5px;\n",
       "}\n",
       "\n",
       ".xr-section-summary-in:checked ~ .xr-section-details {\n",
       "  display: contents;\n",
       "}\n",
       "\n",
       ".xr-array-wrap {\n",
       "  grid-column: 1 / -1;\n",
       "  display: grid;\n",
       "  grid-template-columns: 20px auto;\n",
       "}\n",
       "\n",
       ".xr-array-wrap > label {\n",
       "  grid-column: 1;\n",
       "  vertical-align: top;\n",
       "}\n",
       "\n",
       ".xr-preview {\n",
       "  color: var(--xr-font-color3);\n",
       "}\n",
       "\n",
       ".xr-array-preview,\n",
       ".xr-array-data {\n",
       "  padding: 0 5px !important;\n",
       "  grid-column: 2;\n",
       "}\n",
       "\n",
       ".xr-array-data,\n",
       ".xr-array-in:checked ~ .xr-array-preview {\n",
       "  display: none;\n",
       "}\n",
       "\n",
       ".xr-array-in:checked ~ .xr-array-data,\n",
       ".xr-array-preview {\n",
       "  display: inline-block;\n",
       "}\n",
       "\n",
       ".xr-dim-list {\n",
       "  display: inline-block !important;\n",
       "  list-style: none;\n",
       "  padding: 0 !important;\n",
       "  margin: 0;\n",
       "}\n",
       "\n",
       ".xr-dim-list li {\n",
       "  display: inline-block;\n",
       "  padding: 0;\n",
       "  margin: 0;\n",
       "}\n",
       "\n",
       ".xr-dim-list:before {\n",
       "  content: \"(\";\n",
       "}\n",
       "\n",
       ".xr-dim-list:after {\n",
       "  content: \")\";\n",
       "}\n",
       "\n",
       ".xr-dim-list li:not(:last-child):after {\n",
       "  content: \",\";\n",
       "  padding-right: 5px;\n",
       "}\n",
       "\n",
       ".xr-has-index {\n",
       "  font-weight: bold;\n",
       "}\n",
       "\n",
       ".xr-var-list,\n",
       ".xr-var-item {\n",
       "  display: contents;\n",
       "}\n",
       "\n",
       ".xr-var-item > div,\n",
       ".xr-var-item label,\n",
       ".xr-var-item > .xr-var-name span {\n",
       "  background-color: var(--xr-background-color-row-even);\n",
       "  margin-bottom: 0;\n",
       "}\n",
       "\n",
       ".xr-var-item > .xr-var-name:hover span {\n",
       "  padding-right: 5px;\n",
       "}\n",
       "\n",
       ".xr-var-list > li:nth-child(odd) > div,\n",
       ".xr-var-list > li:nth-child(odd) > label,\n",
       ".xr-var-list > li:nth-child(odd) > .xr-var-name span {\n",
       "  background-color: var(--xr-background-color-row-odd);\n",
       "}\n",
       "\n",
       ".xr-var-name {\n",
       "  grid-column: 1;\n",
       "}\n",
       "\n",
       ".xr-var-dims {\n",
       "  grid-column: 2;\n",
       "}\n",
       "\n",
       ".xr-var-dtype {\n",
       "  grid-column: 3;\n",
       "  text-align: right;\n",
       "  color: var(--xr-font-color2);\n",
       "}\n",
       "\n",
       ".xr-var-preview {\n",
       "  grid-column: 4;\n",
       "}\n",
       "\n",
       ".xr-index-preview {\n",
       "  grid-column: 2 / 5;\n",
       "  color: var(--xr-font-color2);\n",
       "}\n",
       "\n",
       ".xr-var-name,\n",
       ".xr-var-dims,\n",
       ".xr-var-dtype,\n",
       ".xr-preview,\n",
       ".xr-attrs dt {\n",
       "  white-space: nowrap;\n",
       "  overflow: hidden;\n",
       "  text-overflow: ellipsis;\n",
       "  padding-right: 10px;\n",
       "}\n",
       "\n",
       ".xr-var-name:hover,\n",
       ".xr-var-dims:hover,\n",
       ".xr-var-dtype:hover,\n",
       ".xr-attrs dt:hover {\n",
       "  overflow: visible;\n",
       "  width: auto;\n",
       "  z-index: 1;\n",
       "}\n",
       "\n",
       ".xr-var-attrs,\n",
       ".xr-var-data,\n",
       ".xr-index-data {\n",
       "  display: none;\n",
       "  background-color: var(--xr-background-color) !important;\n",
       "  padding-bottom: 5px !important;\n",
       "}\n",
       "\n",
       ".xr-var-attrs-in:checked ~ .xr-var-attrs,\n",
       ".xr-var-data-in:checked ~ .xr-var-data,\n",
       ".xr-index-data-in:checked ~ .xr-index-data {\n",
       "  display: block;\n",
       "}\n",
       "\n",
       ".xr-var-data > table {\n",
       "  float: right;\n",
       "}\n",
       "\n",
       ".xr-var-name span,\n",
       ".xr-var-data,\n",
       ".xr-index-name div,\n",
       ".xr-index-data,\n",
       ".xr-attrs {\n",
       "  padding-left: 25px !important;\n",
       "}\n",
       "\n",
       ".xr-attrs,\n",
       ".xr-var-attrs,\n",
       ".xr-var-data,\n",
       ".xr-index-data {\n",
       "  grid-column: 1 / -1;\n",
       "}\n",
       "\n",
       "dl.xr-attrs {\n",
       "  padding: 0;\n",
       "  margin: 0;\n",
       "  display: grid;\n",
       "  grid-template-columns: 125px auto;\n",
       "}\n",
       "\n",
       ".xr-attrs dt,\n",
       ".xr-attrs dd {\n",
       "  padding: 0;\n",
       "  margin: 0;\n",
       "  float: left;\n",
       "  padding-right: 10px;\n",
       "  width: auto;\n",
       "}\n",
       "\n",
       ".xr-attrs dt {\n",
       "  font-weight: normal;\n",
       "  grid-column: 1;\n",
       "}\n",
       "\n",
       ".xr-attrs dt:hover span {\n",
       "  display: inline-block;\n",
       "  background: var(--xr-background-color);\n",
       "  padding-right: 10px;\n",
       "}\n",
       "\n",
       ".xr-attrs dd {\n",
       "  grid-column: 2;\n",
       "  white-space: pre-wrap;\n",
       "  word-break: break-all;\n",
       "}\n",
       "\n",
       ".xr-icon-database,\n",
       ".xr-icon-file-text2,\n",
       ".xr-no-icon {\n",
       "  display: inline-block;\n",
       "  vertical-align: middle;\n",
       "  width: 1em;\n",
       "  height: 1.5em !important;\n",
       "  stroke-width: 0;\n",
       "  stroke: currentColor;\n",
       "  fill: currentColor;\n",
       "}\n",
       "</style><pre class='xr-text-repr-fallback'>&lt;xarray.DataArray (band: 4, y: 41663, x: 39844)&gt; Size: 13GB\n",
       "dask.array&lt;open_rasterio-fc2e18048eec7fd8788f8fc93c7ebea6&lt;this-array&gt;, shape=(4, 41663, 39844), dtype=uint16, chunksize=(1, 8192, 8192), chunktype=numpy.ndarray&gt;\n",
       "Coordinates:\n",
       "  * band         (band) int64 32B 1 2 3 4\n",
       "  * x            (x) float64 319kB 0.5 1.5 2.5 ... 3.984e+04 3.984e+04 3.984e+04\n",
       "  * y            (y) float64 333kB 0.5 1.5 2.5 ... 4.166e+04 4.166e+04 4.166e+04\n",
       "    spatial_ref  int64 8B 0\n",
       "Attributes: (12/29)\n",
       "    AcquisitionDate:      2023-04-15T11:00:24.3Z\n",
       "    BlueDisplayChannel:   0\n",
       "    DataType:             3\n",
       "    GeometricLevel:       SENSOR\n",
       "    GreenDisplayChannel:  0\n",
       "    ImageID:              6967638101-1\n",
       "    ...                   ...\n",
       "    TimeRangeEnd:         2023-04-15T11:00:27.3815980Z\n",
       "    TimeRangeStart:       2023-04-15T11:00:24.3193675Z\n",
       "    NoData:               0\n",
       "    _FillValue:           0\n",
       "    scale_factor:         1.0\n",
       "    add_offset:           0.0</pre><div class='xr-wrap' style='display:none'><div class='xr-header'><div class='xr-obj-type'>xarray.DataArray</div><div class='xr-array-name'></div><ul class='xr-dim-list'><li><span class='xr-has-index'>band</span>: 4</li><li><span class='xr-has-index'>y</span>: 41663</li><li><span class='xr-has-index'>x</span>: 39844</li></ul></div><ul class='xr-sections'><li class='xr-section-item'><div class='xr-array-wrap'><input id='section-8806a36f-6dbd-4fff-9d5c-e173983a6f8d' class='xr-array-in' type='checkbox' checked><label for='section-8806a36f-6dbd-4fff-9d5c-e173983a6f8d' title='Show/hide data repr'><svg class='icon xr-icon-database'><use xlink:href='#icon-database'></use></svg></label><div class='xr-array-preview xr-preview'><span>dask.array&lt;chunksize=(1, 8192, 8192), meta=np.ndarray&gt;</span></div><div class='xr-array-data'><table>\n",
       "    <tr>\n",
       "        <td>\n",
       "            <table style=\"border-collapse: collapse;\">\n",
       "                <thead>\n",
       "                    <tr>\n",
       "                        <td> </td>\n",
       "                        <th> Array </th>\n",
       "                        <th> Chunk </th>\n",
       "                    </tr>\n",
       "                </thead>\n",
       "                <tbody>\n",
       "                    \n",
       "                    <tr>\n",
       "                        <th> Bytes </th>\n",
       "                        <td> 12.37 GiB </td>\n",
       "                        <td> 128.00 MiB </td>\n",
       "                    </tr>\n",
       "                    \n",
       "                    <tr>\n",
       "                        <th> Shape </th>\n",
       "                        <td> (4, 41663, 39844) </td>\n",
       "                        <td> (1, 8192, 8192) </td>\n",
       "                    </tr>\n",
       "                    <tr>\n",
       "                        <th> Dask graph </th>\n",
       "                        <td colspan=\"2\"> 120 chunks in 2 graph layers </td>\n",
       "                    </tr>\n",
       "                    <tr>\n",
       "                        <th> Data type </th>\n",
       "                        <td colspan=\"2\"> uint16 numpy.ndarray </td>\n",
       "                    </tr>\n",
       "                </tbody>\n",
       "            </table>\n",
       "        </td>\n",
       "        <td>\n",
       "        <svg width=\"189\" height=\"184\" style=\"stroke:rgb(0,0,0);stroke-width:1\" >\n",
       "\n",
       "  <!-- Horizontal lines -->\n",
       "  <line x1=\"10\" y1=\"0\" x2=\"24\" y2=\"14\" style=\"stroke-width:2\" />\n",
       "  <line x1=\"10\" y1=\"23\" x2=\"24\" y2=\"38\" />\n",
       "  <line x1=\"10\" y1=\"47\" x2=\"24\" y2=\"62\" />\n",
       "  <line x1=\"10\" y1=\"70\" x2=\"24\" y2=\"85\" />\n",
       "  <line x1=\"10\" y1=\"94\" x2=\"24\" y2=\"109\" />\n",
       "  <line x1=\"10\" y1=\"117\" x2=\"24\" y2=\"132\" />\n",
       "  <line x1=\"10\" y1=\"120\" x2=\"24\" y2=\"134\" style=\"stroke-width:2\" />\n",
       "\n",
       "  <!-- Vertical lines -->\n",
       "  <line x1=\"10\" y1=\"0\" x2=\"10\" y2=\"120\" style=\"stroke-width:2\" />\n",
       "  <line x1=\"13\" y1=\"3\" x2=\"13\" y2=\"123\" />\n",
       "  <line x1=\"17\" y1=\"7\" x2=\"17\" y2=\"127\" />\n",
       "  <line x1=\"21\" y1=\"11\" x2=\"21\" y2=\"131\" />\n",
       "  <line x1=\"24\" y1=\"14\" x2=\"24\" y2=\"134\" style=\"stroke-width:2\" />\n",
       "\n",
       "  <!-- Colored Rectangle -->\n",
       "  <polygon points=\"10.0,0.0 24.9485979497544,14.948597949754403 24.9485979497544,134.9485979497544 10.0,120.0\" style=\"fill:#ECB172A0;stroke-width:0\"/>\n",
       "\n",
       "  <!-- Horizontal lines -->\n",
       "  <line x1=\"10\" y1=\"0\" x2=\"124\" y2=\"0\" style=\"stroke-width:2\" />\n",
       "  <line x1=\"13\" y1=\"3\" x2=\"128\" y2=\"3\" />\n",
       "  <line x1=\"17\" y1=\"7\" x2=\"132\" y2=\"7\" />\n",
       "  <line x1=\"21\" y1=\"11\" x2=\"135\" y2=\"11\" />\n",
       "  <line x1=\"24\" y1=\"14\" x2=\"139\" y2=\"14\" style=\"stroke-width:2\" />\n",
       "\n",
       "  <!-- Vertical lines -->\n",
       "  <line x1=\"10\" y1=\"0\" x2=\"24\" y2=\"14\" style=\"stroke-width:2\" />\n",
       "  <line x1=\"33\" y1=\"0\" x2=\"48\" y2=\"14\" />\n",
       "  <line x1=\"57\" y1=\"0\" x2=\"72\" y2=\"14\" />\n",
       "  <line x1=\"80\" y1=\"0\" x2=\"95\" y2=\"14\" />\n",
       "  <line x1=\"104\" y1=\"0\" x2=\"119\" y2=\"14\" />\n",
       "  <line x1=\"124\" y1=\"0\" x2=\"139\" y2=\"14\" style=\"stroke-width:2\" />\n",
       "\n",
       "  <!-- Colored Rectangle -->\n",
       "  <polygon points=\"10.0,0.0 124.76081895206778,0.0 139.70941690182218,14.948597949754403 24.9485979497544,14.948597949754403\" style=\"fill:#ECB172A0;stroke-width:0\"/>\n",
       "\n",
       "  <!-- Horizontal lines -->\n",
       "  <line x1=\"24\" y1=\"14\" x2=\"139\" y2=\"14\" style=\"stroke-width:2\" />\n",
       "  <line x1=\"24\" y1=\"38\" x2=\"139\" y2=\"38\" />\n",
       "  <line x1=\"24\" y1=\"62\" x2=\"139\" y2=\"62\" />\n",
       "  <line x1=\"24\" y1=\"85\" x2=\"139\" y2=\"85\" />\n",
       "  <line x1=\"24\" y1=\"109\" x2=\"139\" y2=\"109\" />\n",
       "  <line x1=\"24\" y1=\"132\" x2=\"139\" y2=\"132\" />\n",
       "  <line x1=\"24\" y1=\"134\" x2=\"139\" y2=\"134\" style=\"stroke-width:2\" />\n",
       "\n",
       "  <!-- Vertical lines -->\n",
       "  <line x1=\"24\" y1=\"14\" x2=\"24\" y2=\"134\" style=\"stroke-width:2\" />\n",
       "  <line x1=\"48\" y1=\"14\" x2=\"48\" y2=\"134\" />\n",
       "  <line x1=\"72\" y1=\"14\" x2=\"72\" y2=\"134\" />\n",
       "  <line x1=\"95\" y1=\"14\" x2=\"95\" y2=\"134\" />\n",
       "  <line x1=\"119\" y1=\"14\" x2=\"119\" y2=\"134\" />\n",
       "  <line x1=\"139\" y1=\"14\" x2=\"139\" y2=\"134\" style=\"stroke-width:2\" />\n",
       "\n",
       "  <!-- Colored Rectangle -->\n",
       "  <polygon points=\"24.9485979497544,14.948597949754403 139.70941690182218,14.948597949754403 139.70941690182218,134.9485979497544 24.9485979497544,134.9485979497544\" style=\"fill:#ECB172A0;stroke-width:0\"/>\n",
       "\n",
       "  <!-- Text -->\n",
       "  <text x=\"82.329007\" y=\"154.948598\" font-size=\"1.0rem\" font-weight=\"100\" text-anchor=\"middle\" >39844</text>\n",
       "  <text x=\"159.709417\" y=\"74.948598\" font-size=\"1.0rem\" font-weight=\"100\" text-anchor=\"middle\" transform=\"rotate(-90,159.709417,74.948598)\">41663</text>\n",
       "  <text x=\"7.474299\" y=\"147.474299\" font-size=\"1.0rem\" font-weight=\"100\" text-anchor=\"middle\" transform=\"rotate(45,7.474299,147.474299)\">4</text>\n",
       "</svg>\n",
       "        </td>\n",
       "    </tr>\n",
       "</table></div></div></li><li class='xr-section-item'><input id='section-45e64f34-c5d2-429a-8444-4fafd02cce79' class='xr-section-summary-in' type='checkbox'  checked><label for='section-45e64f34-c5d2-429a-8444-4fafd02cce79' class='xr-section-summary' >Coordinates: <span>(4)</span></label><div class='xr-section-inline-details'></div><div class='xr-section-details'><ul class='xr-var-list'><li class='xr-var-item'><div class='xr-var-name'><span class='xr-has-index'>band</span></div><div class='xr-var-dims'>(band)</div><div class='xr-var-dtype'>int64</div><div class='xr-var-preview xr-preview'>1 2 3 4</div><input id='attrs-51c9a3ec-3cbd-4187-9950-665397a4a920' class='xr-var-attrs-in' type='checkbox' disabled><label for='attrs-51c9a3ec-3cbd-4187-9950-665397a4a920' title='Show/Hide attributes'><svg class='icon xr-icon-file-text2'><use xlink:href='#icon-file-text2'></use></svg></label><input id='data-79a689d9-10fd-40db-8444-c9a98b1f3d50' class='xr-var-data-in' type='checkbox'><label for='data-79a689d9-10fd-40db-8444-c9a98b1f3d50' title='Show/Hide data repr'><svg class='icon xr-icon-database'><use xlink:href='#icon-database'></use></svg></label><div class='xr-var-attrs'><dl class='xr-attrs'></dl></div><div class='xr-var-data'><pre>array([1, 2, 3, 4])</pre></div></li><li class='xr-var-item'><div class='xr-var-name'><span class='xr-has-index'>x</span></div><div class='xr-var-dims'>(x)</div><div class='xr-var-dtype'>float64</div><div class='xr-var-preview xr-preview'>0.5 1.5 2.5 ... 3.984e+04 3.984e+04</div><input id='attrs-42241a7c-ff09-468a-ba09-4619809f0df4' class='xr-var-attrs-in' type='checkbox' disabled><label for='attrs-42241a7c-ff09-468a-ba09-4619809f0df4' title='Show/Hide attributes'><svg class='icon xr-icon-file-text2'><use xlink:href='#icon-file-text2'></use></svg></label><input id='data-af1f0a33-fe1c-4c13-afce-d5631b7d9464' class='xr-var-data-in' type='checkbox'><label for='data-af1f0a33-fe1c-4c13-afce-d5631b7d9464' title='Show/Hide data repr'><svg class='icon xr-icon-database'><use xlink:href='#icon-database'></use></svg></label><div class='xr-var-attrs'><dl class='xr-attrs'></dl></div><div class='xr-var-data'><pre>array([5.00000e-01, 1.50000e+00, 2.50000e+00, ..., 3.98415e+04, 3.98425e+04,\n",
       "       3.98435e+04])</pre></div></li><li class='xr-var-item'><div class='xr-var-name'><span class='xr-has-index'>y</span></div><div class='xr-var-dims'>(y)</div><div class='xr-var-dtype'>float64</div><div class='xr-var-preview xr-preview'>0.5 1.5 2.5 ... 4.166e+04 4.166e+04</div><input id='attrs-d2aeeb56-af3e-406a-a8f7-cf6cb8b168ff' class='xr-var-attrs-in' type='checkbox' disabled><label for='attrs-d2aeeb56-af3e-406a-a8f7-cf6cb8b168ff' title='Show/Hide attributes'><svg class='icon xr-icon-file-text2'><use xlink:href='#icon-file-text2'></use></svg></label><input id='data-02e547ed-31cb-429e-a518-9da33ba9853f' class='xr-var-data-in' type='checkbox'><label for='data-02e547ed-31cb-429e-a518-9da33ba9853f' title='Show/Hide data repr'><svg class='icon xr-icon-database'><use xlink:href='#icon-database'></use></svg></label><div class='xr-var-attrs'><dl class='xr-attrs'></dl></div><div class='xr-var-data'><pre>array([5.00000e-01, 1.50000e+00, 2.50000e+00, ..., 4.16605e+04, 4.16615e+04,\n",
       "       4.16625e+04])</pre></div></li><li class='xr-var-item'><div class='xr-var-name'><span>spatial_ref</span></div><div class='xr-var-dims'>()</div><div class='xr-var-dtype'>int64</div><div class='xr-var-preview xr-preview'>0</div><input id='attrs-78713890-fdfc-44ab-a537-1cd0bae8aa69' class='xr-var-attrs-in' type='checkbox' ><label for='attrs-78713890-fdfc-44ab-a537-1cd0bae8aa69' title='Show/Hide attributes'><svg class='icon xr-icon-file-text2'><use xlink:href='#icon-file-text2'></use></svg></label><input id='data-40e3b1e4-8c5f-4913-8093-b3eebaf1706b' class='xr-var-data-in' type='checkbox'><label for='data-40e3b1e4-8c5f-4913-8093-b3eebaf1706b' title='Show/Hide data repr'><svg class='icon xr-icon-database'><use xlink:href='#icon-database'></use></svg></label><div class='xr-var-attrs'><dl class='xr-attrs'><dt><span>GeoTransform :</span></dt><dd>0.0 1.0 0.0 0.0 0.0 1.0</dd></dl></div><div class='xr-var-data'><pre>array(0)</pre></div></li></ul></div></li><li class='xr-section-item'><input id='section-0e4797e6-789b-43a5-9ea8-d880bf6fc859' class='xr-section-summary-in' type='checkbox'  ><label for='section-0e4797e6-789b-43a5-9ea8-d880bf6fc859' class='xr-section-summary' >Indexes: <span>(3)</span></label><div class='xr-section-inline-details'></div><div class='xr-section-details'><ul class='xr-var-list'><li class='xr-var-item'><div class='xr-index-name'><div>band</div></div><div class='xr-index-preview'>PandasIndex</div><input type='checkbox' disabled/><label></label><input id='index-91d691ed-e191-4d98-b5f0-00440123c4a7' class='xr-index-data-in' type='checkbox'/><label for='index-91d691ed-e191-4d98-b5f0-00440123c4a7' title='Show/Hide index repr'><svg class='icon xr-icon-database'><use xlink:href='#icon-database'></use></svg></label><div class='xr-index-data'><pre>PandasIndex(Index([1, 2, 3, 4], dtype=&#x27;int64&#x27;, name=&#x27;band&#x27;))</pre></div></li><li class='xr-var-item'><div class='xr-index-name'><div>x</div></div><div class='xr-index-preview'>PandasIndex</div><input type='checkbox' disabled/><label></label><input id='index-f3529d12-e328-4913-b45c-793c911b4113' class='xr-index-data-in' type='checkbox'/><label for='index-f3529d12-e328-4913-b45c-793c911b4113' title='Show/Hide index repr'><svg class='icon xr-icon-database'><use xlink:href='#icon-database'></use></svg></label><div class='xr-index-data'><pre>PandasIndex(Index([    0.5,     1.5,     2.5,     3.5,     4.5,     5.5,     6.5,     7.5,\n",
       "           8.5,     9.5,\n",
       "       ...\n",
       "       39834.5, 39835.5, 39836.5, 39837.5, 39838.5, 39839.5, 39840.5, 39841.5,\n",
       "       39842.5, 39843.5],\n",
       "      dtype=&#x27;float64&#x27;, name=&#x27;x&#x27;, length=39844))</pre></div></li><li class='xr-var-item'><div class='xr-index-name'><div>y</div></div><div class='xr-index-preview'>PandasIndex</div><input type='checkbox' disabled/><label></label><input id='index-2cc6fe58-2e24-44c3-b5f3-ec8d7408a808' class='xr-index-data-in' type='checkbox'/><label for='index-2cc6fe58-2e24-44c3-b5f3-ec8d7408a808' title='Show/Hide index repr'><svg class='icon xr-icon-database'><use xlink:href='#icon-database'></use></svg></label><div class='xr-index-data'><pre>PandasIndex(Index([    0.5,     1.5,     2.5,     3.5,     4.5,     5.5,     6.5,     7.5,\n",
       "           8.5,     9.5,\n",
       "       ...\n",
       "       41653.5, 41654.5, 41655.5, 41656.5, 41657.5, 41658.5, 41659.5, 41660.5,\n",
       "       41661.5, 41662.5],\n",
       "      dtype=&#x27;float64&#x27;, name=&#x27;y&#x27;, length=41663))</pre></div></li></ul></div></li><li class='xr-section-item'><input id='section-7d34c330-7f91-4967-b829-82541e53c767' class='xr-section-summary-in' type='checkbox'  ><label for='section-7d34c330-7f91-4967-b829-82541e53c767' class='xr-section-summary' >Attributes: <span>(29)</span></label><div class='xr-section-inline-details'></div><div class='xr-section-details'><dl class='xr-attrs'><dt><span>AcquisitionDate :</span></dt><dd>2023-04-15T11:00:24.3Z</dd><dt><span>BlueDisplayChannel :</span></dt><dd>0</dd><dt><span>DataType :</span></dt><dd>3</dd><dt><span>GeometricLevel :</span></dt><dd>SENSOR</dd><dt><span>GreenDisplayChannel :</span></dt><dd>0</dd><dt><span>ImageID :</span></dt><dd>6967638101-1</dd><dt><span>Instrument :</span></dt><dd>PHR</dd><dt><span>InstrumentIndex :</span></dt><dd>1A</dd><dt><span>LinePeriod :</span></dt><dd>0.0735</dd><dt><span>METADATATYPE :</span></dt><dd>OTB</dd><dt><span>Mission :</span></dt><dd>Pléiades</dd><dt><span>OTB_VERSION :</span></dt><dd>9.0.0</dd><dt><span>ProductionDate :</span></dt><dd>2024-04-15T13:27:06.762Z</dd><dt><span>RedDisplayChannel :</span></dt><dd>0</dd><dt><span>SatAzimuth :</span></dt><dd>35.1156</dd><dt><span>SatElevation :</span></dt><dd>80.4005</dd><dt><span>SensorID :</span></dt><dd>PHR 1A</dd><dt><span>SunAzimuth :</span></dt><dd>155.095</dd><dt><span>SunElevation :</span></dt><dd>53.1755</dd><dt><span>SwathFirstCol :</span></dt><dd>1</dd><dt><span>SwathLastCol :</span></dt><dd>39845</dd><dt><span>TileHintX :</span></dt><dd>2048</dd><dt><span>TileHintY :</span></dt><dd>2048</dd><dt><span>TimeRangeEnd :</span></dt><dd>2023-04-15T11:00:27.3815980Z</dd><dt><span>TimeRangeStart :</span></dt><dd>2023-04-15T11:00:24.3193675Z</dd><dt><span>NoData :</span></dt><dd>0</dd><dt><span>_FillValue :</span></dt><dd>0</dd><dt><span>scale_factor :</span></dt><dd>1.0</dd><dt><span>add_offset :</span></dt><dd>0.0</dd></dl></div></li></ul></div></div>"
      ],
      "text/plain": [
       "<xarray.DataArray (band: 4, y: 41663, x: 39844)> Size: 13GB\n",
       "dask.array<open_rasterio-fc2e18048eec7fd8788f8fc93c7ebea6<this-array>, shape=(4, 41663, 39844), dtype=uint16, chunksize=(1, 8192, 8192), chunktype=numpy.ndarray>\n",
       "Coordinates:\n",
       "  * band         (band) int64 32B 1 2 3 4\n",
       "  * x            (x) float64 319kB 0.5 1.5 2.5 ... 3.984e+04 3.984e+04 3.984e+04\n",
       "  * y            (y) float64 333kB 0.5 1.5 2.5 ... 4.166e+04 4.166e+04 4.166e+04\n",
       "    spatial_ref  int64 8B 0\n",
       "Attributes: (12/29)\n",
       "    AcquisitionDate:      2023-04-15T11:00:24.3Z\n",
       "    BlueDisplayChannel:   0\n",
       "    DataType:             3\n",
       "    GeometricLevel:       SENSOR\n",
       "    GreenDisplayChannel:  0\n",
       "    ImageID:              6967638101-1\n",
       "    ...                   ...\n",
       "    TimeRangeEnd:         2023-04-15T11:00:27.3815980Z\n",
       "    TimeRangeStart:       2023-04-15T11:00:24.3193675Z\n",
       "    NoData:               0\n",
       "    _FillValue:           0\n",
       "    scale_factor:         1.0\n",
       "    add_offset:           0.0"
      ]
     },
     "execution_count": 5,
     "metadata": {},
     "output_type": "execute_result"
    }
   ],
   "source": [
    "# First example letting dask compute the chunks\n",
    "reading_chunks = True\n",
    "data_array_autochunks = rxr.open_rasterio(phr_product_cog, chunks=reading_chunks,lock=False)\n",
    "data_array_autochunks"
   ]
  },
  {
   "cell_type": "code",
   "execution_count": 6,
   "id": "b8fb6e29-0a84-4ae0-882b-b973af22b054",
   "metadata": {
    "tags": []
   },
   "outputs": [
    {
     "name": "stderr",
     "output_type": "stream",
     "text": [
      "/usr/local/lib/python3.10/dist-packages/rasterio/__init__.py:366: NotGeoreferencedWarning: The given matrix is equal to Affine.identity or its flipped counterpart. GDAL may ignore this matrix and save no geotransform without raising an error. This behavior is somewhat driver-specific.\n",
      "  dataset = writer(\n",
      "/usr/local/lib/python3.10/dist-packages/dask/_task_spec.py:651: RuntimeWarning: invalid value encountered in divide\n",
      "  return self.func(*new_argspec)\n",
      "/usr/local/lib/python3.10/dist-packages/dask/_task_spec.py:651: RuntimeWarning: invalid value encountered in divide\n",
      "  return self.func(*new_argspec)\n",
      "/usr/local/lib/python3.10/dist-packages/dask/_task_spec.py:651: RuntimeWarning: invalid value encountered in divide\n",
      "  return self.func(*new_argspec)\n",
      "/usr/local/lib/python3.10/dist-packages/dask/_task_spec.py:651: RuntimeWarning: invalid value encountered in divide\n",
      "  return self.func(*new_argspec)\n"
     ]
    },
    {
     "name": "stdout",
     "output_type": "stream",
     "text": [
      "Elapsed with automatic chunk size = 75.2928059049882s\n"
     ]
    }
   ],
   "source": [
    "start=time.perf_counter()\n",
    "ndvi_array = (data_array_autochunks[3] - data_array_autochunks[0]) / (data_array_autochunks[3] + data_array_autochunks[0])\n",
    "output_file = Path(f\"{data_dir}/output_greenit/ndvi_autochunks.tif\")\n",
    "ndvi_array.rio.to_raster(output_file)\n",
    "end=time.perf_counter()\n",
    "print(\"Elapsed with automatic chunk size = {}s\".format((end - start)))"
   ]
  },
  {
   "cell_type": "code",
   "execution_count": 3,
   "id": "615be991-f60c-4353-8c18-fb4853c660eb",
   "metadata": {
    "tags": []
   },
   "outputs": [
    {
     "ename": "NameError",
     "evalue": "name 'ndvi_array' is not defined",
     "output_type": "error",
     "traceback": [
      "\u001b[0;31m---------------------------------------------------------------------------\u001b[0m",
      "\u001b[0;31mNameError\u001b[0m                                 Traceback (most recent call last)",
      "Cell \u001b[0;32mIn[3], line 1\u001b[0m\n\u001b[0;32m----> 1\u001b[0m \u001b[43mndvi_array\u001b[49m\n",
      "\u001b[0;31mNameError\u001b[0m: name 'ndvi_array' is not defined"
     ]
    }
   ],
   "source": [
    "ndvi_array"
   ]
  },
  {
   "cell_type": "code",
   "execution_count": 7,
   "id": "58bad330-9498-48ac-b3a0-cad211aaf998",
   "metadata": {},
   "outputs": [
    {
     "name": "stderr",
     "output_type": "stream",
     "text": [
      "/usr/local/lib/python3.10/dist-packages/rasterio/__init__.py:366: NotGeoreferencedWarning: The given matrix is equal to Affine.identity or its flipped counterpart. GDAL may ignore this matrix and save no geotransform without raising an error. This behavior is somewhat driver-specific.\n",
      "  dataset = writer(\n"
     ]
    },
    {
     "name": "stdout",
     "output_type": "stream",
     "text": [
      "Elapsed with manual chunk size = 100.88597717694938s\n"
     ]
    }
   ],
   "source": [
    "start=time.perf_counter()\n",
    "reading_chunks = (-1,2048,2048)\n",
    "data_array_manualchunks = rxr.open_rasterio(phr_product_cog, chunks=reading_chunks, lock=False)\n",
    "ndvi_array = (data_array_manualchunks[3] - data_array_manualchunks[0]) / (data_array_manualchunks[3] + data_array_manualchunks[0])\n",
    "output_file = Path(f\"{data_dir}/output_greenit/ndvi_manualchunks.tif\")\n",
    "ndvi_array.rio.to_raster(output_file)\n",
    "end=time.perf_counter()\n",
    "print(\"Elapsed with manual chunk size = {}s\".format((end - start)))"
   ]
  },
  {
   "cell_type": "code",
   "execution_count": 3,
   "id": "32e153c5-1ccc-47b2-a5c2-1270ab9d75b1",
   "metadata": {
    "tags": []
   },
   "outputs": [
    {
     "ename": "NameError",
     "evalue": "name 'ndvi_array' is not defined",
     "output_type": "error",
     "traceback": [
      "\u001b[0;31m---------------------------------------------------------------------------\u001b[0m",
      "\u001b[0;31mNameError\u001b[0m                                 Traceback (most recent call last)",
      "Cell \u001b[0;32mIn[3], line 1\u001b[0m\n\u001b[0;32m----> 1\u001b[0m \u001b[43mndvi_array\u001b[49m\n",
      "\u001b[0;31mNameError\u001b[0m: name 'ndvi_array' is not defined"
     ]
    }
   ],
   "source": [
    "ndvi_array"
   ]
  },
  {
   "cell_type": "markdown",
   "id": "8622d62f-a986-4893-a932-a44bc2e5c496",
   "metadata": {},
   "source": [
    "### Conclusion\n",
    "\n",
    "Prefer using rxr.to_raster() instead of dask.compute() when your product size is getting bigger as the later seems to be more CPU consuming\n",
    "\n",
    "#### Chunk size recommandation for multi band products\n",
    "\n",
    "When using multiple band products, dask will take chunks per band, which slows done the processing in case of a processing using more than one band. We recommand in that case defining chunks using \"(-1,sizex,sizey)\" which creates chunks with concatenated bands. The time gain can be up to 20% !\n",
    "\n",
    "#### Don't hesitate to test different chunk sizes before making a conclusion\n",
    "\n",
    "In our case we used chunks of 32Mo, it is a best practice to use chunks size multiple of 8 for read/write efficiency in RAM.\n",
    "\n",
    "#### Adjust the number of workers for dask\n",
    "\n",
    "If you have a lot of CPU, you can also gain time by adjusting the number of workers for dask, here for 8 CPU we used 4 workers, which gives 2 threads per CPU which is the perfect scenario for modern CPUs with hyperthreading (8 Core => 16 Threads)"
   ]
  },
  {
   "cell_type": "markdown",
   "id": "f7746770-c831-4598-96ff-f13e1d372e1d",
   "metadata": {},
   "source": [
    "## Improve disk write speed with rio.to_raster \n",
    "\n",
    "In the previous computing, we didn't use the tiled write capability of rio.to_raster, which speeds up the image writing on disk.\n",
    "Let's see how to use it"
   ]
  },
  {
   "cell_type": "code",
   "execution_count": 20,
   "id": "bfa94789-8576-4b26-a962-226db7d37f01",
   "metadata": {
    "tags": []
   },
   "outputs": [
    {
     "name": "stdout",
     "output_type": "stream",
     "text": [
      "(4, 41663, 39844)\n"
     ]
    },
    {
     "name": "stderr",
     "output_type": "stream",
     "text": [
      "/usr/local/lib/python3.10/dist-packages/rasterio/__init__.py:366: NotGeoreferencedWarning: The given matrix is equal to Affine.identity or its flipped counterpart. GDAL may ignore this matrix and save no geotransform without raising an error. This behavior is somewhat driver-specific.\n",
      "  dataset = writer(\n"
     ]
    },
    {
     "name": "stdout",
     "output_type": "stream",
     "text": [
      "Elapsed with RasterIO + dask + product > 5Go = 71.1713912091218s\n",
      "CPU times: user 10.2 s, sys: 40.5 s, total: 50.7 s\n",
      "Wall time: 1min 11s\n"
     ]
    }
   ],
   "source": [
    "%%time\n",
    "\n",
    "start = time.perf_counter()\n",
    "reading_chunks = (-1,2048,2048)\n",
    "input_data_array = rxr.open_rasterio(phr_product_cog,chunks=reading_chunks,lock=False)\n",
    "ndvi_phr = (input_data_array[3] - input_data_array[0]) / (input_data_array[3] + input_data_array[0])\n",
    "ndvi_phr.compute()\n",
    "output_file = Path(f\"{data_dir}/output_greenit/ndvi_phr.tif\")\n",
    "ndvi_phr.rio.to_raster(output_file)\n",
    "end = time.perf_counter()\n",
    "print(\"Elapsed with RIOXarray + dask compute + product > 5Go = {}s\".format((end - start)))"
   ]
  },
  {
   "cell_type": "code",
   "execution_count": 16,
   "id": "f4346248-866b-4b31-a54c-2a25b61c431d",
   "metadata": {
    "tags": []
   },
   "outputs": [
    {
     "data": {
      "text/html": [
       "<table>\n",
       "    <tr>\n",
       "        <td>\n",
       "            <table style=\"border-collapse: collapse;\">\n",
       "                <thead>\n",
       "                    <tr>\n",
       "                        <td> </td>\n",
       "                        <th> Array </th>\n",
       "                        <th> Chunk </th>\n",
       "                    </tr>\n",
       "                </thead>\n",
       "                <tbody>\n",
       "                    \n",
       "                    <tr>\n",
       "                        <th> Bytes </th>\n",
       "                        <td> 12.37 GiB </td>\n",
       "                        <td> 128.00 MiB </td>\n",
       "                    </tr>\n",
       "                    \n",
       "                    <tr>\n",
       "                        <th> Shape </th>\n",
       "                        <td> (4, 41663, 39844) </td>\n",
       "                        <td> (4, 4096, 4096) </td>\n",
       "                    </tr>\n",
       "                    <tr>\n",
       "                        <th> Dask graph </th>\n",
       "                        <td colspan=\"2\"> 110 chunks in 2 graph layers </td>\n",
       "                    </tr>\n",
       "                    <tr>\n",
       "                        <th> Data type </th>\n",
       "                        <td colspan=\"2\"> uint16 numpy.ndarray </td>\n",
       "                    </tr>\n",
       "                </tbody>\n",
       "            </table>\n",
       "        </td>\n",
       "        <td>\n",
       "        <svg width=\"189\" height=\"184\" style=\"stroke:rgb(0,0,0);stroke-width:1\" >\n",
       "\n",
       "  <!-- Horizontal lines -->\n",
       "  <line x1=\"10\" y1=\"0\" x2=\"24\" y2=\"14\" style=\"stroke-width:2\" />\n",
       "  <line x1=\"10\" y1=\"11\" x2=\"24\" y2=\"26\" />\n",
       "  <line x1=\"10\" y1=\"23\" x2=\"24\" y2=\"38\" />\n",
       "  <line x1=\"10\" y1=\"35\" x2=\"24\" y2=\"50\" />\n",
       "  <line x1=\"10\" y1=\"47\" x2=\"24\" y2=\"62\" />\n",
       "  <line x1=\"10\" y1=\"58\" x2=\"24\" y2=\"73\" />\n",
       "  <line x1=\"10\" y1=\"70\" x2=\"24\" y2=\"85\" />\n",
       "  <line x1=\"10\" y1=\"82\" x2=\"24\" y2=\"97\" />\n",
       "  <line x1=\"10\" y1=\"94\" x2=\"24\" y2=\"109\" />\n",
       "  <line x1=\"10\" y1=\"106\" x2=\"24\" y2=\"121\" />\n",
       "  <line x1=\"10\" y1=\"117\" x2=\"24\" y2=\"132\" />\n",
       "  <line x1=\"10\" y1=\"120\" x2=\"24\" y2=\"134\" style=\"stroke-width:2\" />\n",
       "\n",
       "  <!-- Vertical lines -->\n",
       "  <line x1=\"10\" y1=\"0\" x2=\"10\" y2=\"120\" style=\"stroke-width:2\" />\n",
       "  <line x1=\"24\" y1=\"14\" x2=\"24\" y2=\"134\" style=\"stroke-width:2\" />\n",
       "\n",
       "  <!-- Colored Rectangle -->\n",
       "  <polygon points=\"10.0,0.0 24.9485979497544,14.948597949754403 24.9485979497544,134.9485979497544 10.0,120.0\" style=\"fill:#ECB172A0;stroke-width:0\"/>\n",
       "\n",
       "  <!-- Horizontal lines -->\n",
       "  <line x1=\"10\" y1=\"0\" x2=\"124\" y2=\"0\" style=\"stroke-width:2\" />\n",
       "  <line x1=\"24\" y1=\"14\" x2=\"139\" y2=\"14\" style=\"stroke-width:2\" />\n",
       "\n",
       "  <!-- Vertical lines -->\n",
       "  <line x1=\"10\" y1=\"0\" x2=\"24\" y2=\"14\" style=\"stroke-width:2\" />\n",
       "  <line x1=\"21\" y1=\"0\" x2=\"36\" y2=\"14\" />\n",
       "  <line x1=\"33\" y1=\"0\" x2=\"48\" y2=\"14\" />\n",
       "  <line x1=\"45\" y1=\"0\" x2=\"60\" y2=\"14\" />\n",
       "  <line x1=\"57\" y1=\"0\" x2=\"72\" y2=\"14\" />\n",
       "  <line x1=\"68\" y1=\"0\" x2=\"83\" y2=\"14\" />\n",
       "  <line x1=\"80\" y1=\"0\" x2=\"95\" y2=\"14\" />\n",
       "  <line x1=\"92\" y1=\"0\" x2=\"107\" y2=\"14\" />\n",
       "  <line x1=\"104\" y1=\"0\" x2=\"119\" y2=\"14\" />\n",
       "  <line x1=\"116\" y1=\"0\" x2=\"131\" y2=\"14\" />\n",
       "  <line x1=\"124\" y1=\"0\" x2=\"139\" y2=\"14\" style=\"stroke-width:2\" />\n",
       "\n",
       "  <!-- Colored Rectangle -->\n",
       "  <polygon points=\"10.0,0.0 124.76081895206778,0.0 139.70941690182218,14.948597949754403 24.9485979497544,14.948597949754403\" style=\"fill:#ECB172A0;stroke-width:0\"/>\n",
       "\n",
       "  <!-- Horizontal lines -->\n",
       "  <line x1=\"24\" y1=\"14\" x2=\"139\" y2=\"14\" style=\"stroke-width:2\" />\n",
       "  <line x1=\"24\" y1=\"26\" x2=\"139\" y2=\"26\" />\n",
       "  <line x1=\"24\" y1=\"38\" x2=\"139\" y2=\"38\" />\n",
       "  <line x1=\"24\" y1=\"50\" x2=\"139\" y2=\"50\" />\n",
       "  <line x1=\"24\" y1=\"62\" x2=\"139\" y2=\"62\" />\n",
       "  <line x1=\"24\" y1=\"73\" x2=\"139\" y2=\"73\" />\n",
       "  <line x1=\"24\" y1=\"85\" x2=\"139\" y2=\"85\" />\n",
       "  <line x1=\"24\" y1=\"97\" x2=\"139\" y2=\"97\" />\n",
       "  <line x1=\"24\" y1=\"109\" x2=\"139\" y2=\"109\" />\n",
       "  <line x1=\"24\" y1=\"121\" x2=\"139\" y2=\"121\" />\n",
       "  <line x1=\"24\" y1=\"132\" x2=\"139\" y2=\"132\" />\n",
       "  <line x1=\"24\" y1=\"134\" x2=\"139\" y2=\"134\" style=\"stroke-width:2\" />\n",
       "\n",
       "  <!-- Vertical lines -->\n",
       "  <line x1=\"24\" y1=\"14\" x2=\"24\" y2=\"134\" style=\"stroke-width:2\" />\n",
       "  <line x1=\"36\" y1=\"14\" x2=\"36\" y2=\"134\" />\n",
       "  <line x1=\"48\" y1=\"14\" x2=\"48\" y2=\"134\" />\n",
       "  <line x1=\"60\" y1=\"14\" x2=\"60\" y2=\"134\" />\n",
       "  <line x1=\"72\" y1=\"14\" x2=\"72\" y2=\"134\" />\n",
       "  <line x1=\"83\" y1=\"14\" x2=\"83\" y2=\"134\" />\n",
       "  <line x1=\"95\" y1=\"14\" x2=\"95\" y2=\"134\" />\n",
       "  <line x1=\"107\" y1=\"14\" x2=\"107\" y2=\"134\" />\n",
       "  <line x1=\"119\" y1=\"14\" x2=\"119\" y2=\"134\" />\n",
       "  <line x1=\"131\" y1=\"14\" x2=\"131\" y2=\"134\" />\n",
       "  <line x1=\"139\" y1=\"14\" x2=\"139\" y2=\"134\" style=\"stroke-width:2\" />\n",
       "\n",
       "  <!-- Colored Rectangle -->\n",
       "  <polygon points=\"24.9485979497544,14.948597949754403 139.70941690182218,14.948597949754403 139.70941690182218,134.9485979497544 24.9485979497544,134.9485979497544\" style=\"fill:#ECB172A0;stroke-width:0\"/>\n",
       "\n",
       "  <!-- Text -->\n",
       "  <text x=\"82.329007\" y=\"154.948598\" font-size=\"1.0rem\" font-weight=\"100\" text-anchor=\"middle\" >39844</text>\n",
       "  <text x=\"159.709417\" y=\"74.948598\" font-size=\"1.0rem\" font-weight=\"100\" text-anchor=\"middle\" transform=\"rotate(-90,159.709417,74.948598)\">41663</text>\n",
       "  <text x=\"7.474299\" y=\"147.474299\" font-size=\"1.0rem\" font-weight=\"100\" text-anchor=\"middle\" transform=\"rotate(45,7.474299,147.474299)\">4</text>\n",
       "</svg>\n",
       "        </td>\n",
       "    </tr>\n",
       "</table>"
      ],
      "text/plain": [
       "dask.array<open_rasterio-2360261cc022e5ea8bec9b0779f3e494<this-array>, shape=(4, 41663, 39844), dtype=uint16, chunksize=(4, 4096, 4096), chunktype=numpy.ndarray>"
      ]
     },
     "execution_count": 16,
     "metadata": {},
     "output_type": "execute_result"
    }
   ],
   "source": [
    "input_data_array"
   ]
  },
  {
   "cell_type": "code",
   "execution_count": 18,
   "id": "909e5746-eee9-4f0c-a840-d3e8850dee83",
   "metadata": {
    "tags": []
   },
   "outputs": [
    {
     "name": "stderr",
     "output_type": "stream",
     "text": [
      "/usr/local/lib/python3.10/dist-packages/rasterio/__init__.py:366: NotGeoreferencedWarning: The given matrix is equal to Affine.identity or its flipped counterpart. GDAL may ignore this matrix and save no geotransform without raising an error. This behavior is somewhat driver-specific.\n",
      "  dataset = writer(\n"
     ]
    },
    {
     "name": "stdout",
     "output_type": "stream",
     "text": [
      "Elapsed with RIOXarray + dask + product > 5Go with tiled write = 46.12782822502777s\n"
     ]
    }
   ],
   "source": [
    "start = time.perf_counter()\n",
    "reading_chunks = (-1,2048,2048)\n",
    "input_data_array = rxr.open_rasterio(phr_product_cog,chunks=reading_chunks,lock=False)\n",
    "ndvi_phr = (input_data_array[3] - input_data_array[0]) / (input_data_array[3] + input_data_array[0])\n",
    "output_file = Path(f\"{data_dir}/output_greenit/ndvi_phr_rxr.tif\")\n",
    "# Add the Tiled parameter to rxr to speed up the disk write\n",
    "ndvi_phr.rio.to_raster(output_file,tiled=True)\n",
    "end = time.perf_counter()\n",
    "print(\"Elapsed with RIOXarray + tiled write + product > 5Go = {}s\".format((end - start)))"
   ]
  },
  {
   "cell_type": "markdown",
   "id": "f55307be-456b-4a54-9415-9f46b61837fa",
   "metadata": {
    "tags": []
   },
   "source": [
    "## Performance graphs dask compute vs rio.to_raster with tiled write\n",
    "\n",
    "**The first computing stops at 53s in these graphs that were generated using a slurm script with the exact same code as above**"
   ]
  },
  {
   "attachments": {
    "77035e47-e99e-4a83-a3c2-cee41de28d29.png": {
     "image/png": "[encoded data removed]"
    },
    "8b8360f6-274e-47ae-b601-dfb2fb33e812.png": {
     "image/png": "[encoded data removed]"
    },
    "d1a3d796-81df-4a8f-90d5-9324e9d1781d.png": {
     "image/png": "[encoded data removed]"
    }
   },
   "cell_type": "markdown",
   "id": "13fa7a12-eca7-436f-91da-f3feaac19118",
   "metadata": {},
   "source": [
    "![CPU_GB_Mem_requested-on-used_per_sec.png](attachment:d1a3d796-81df-4a8f-90d5-9324e9d1781d.png)\n",
    "\n",
    "In this memory usage graph we can conclude that the memory usage for both methods is the same (due to rioxarray way to handle the memory)\n",
    "\n",
    "![CPU_Local_IOps_in_MB.png](attachment:8b8360f6-274e-47ae-b601-dfb2fb33e812.png)\n",
    "\n",
    "The local IO per second graph shows that the tiled write indeed produces a higher level of IOps to make the file write faster, but it is restricted by the speed of your SSD.\n",
    "\n",
    "![CPU_SUM_-percent-CPU_-on-s.png](attachment:77035e47-e99e-4a83-a3c2-cee41de28d29.png)\n",
    "\n",
    "The CPU usage shows 2 peaks for the computing with dask, only 1 peak with the tiled write scenario\n",
    "\n",
    "**Conclusion for Memory usage**\n",
    "\n",
    "* Both method consumes the same amount of memory\n",
    "* Cpu usage is higher with dask\n",
    "* You must use the tiled write in order to gain time"
   ]
  },
  {
   "cell_type": "markdown",
   "id": "ffd1783b-a0e3-43f2-861d-13d043653dc6",
   "metadata": {},
   "source": [
    "## Conclusions and recommandations about parallel write\n",
    "\n",
    "* Huge time gain without precision loss\n",
    "* You have to carefully choose your chunk size using a multiple of the cog size"
   ]
  },
  {
   "cell_type": "markdown",
   "id": "97205c02-6fc9-42f3-83ed-c8fd4af704af",
   "metadata": {},
   "source": [
    "# Estimate the carbon impact of your code\n",
    "Using code carbon you can have an estimate of your code footprint"
   ]
  },
  {
   "cell_type": "code",
   "execution_count": 6,
   "id": "ee231cc6-e45c-4209-9135-8c80e1a4eaf4",
   "metadata": {
    "tags": []
   },
   "outputs": [
    {
     "ename": "ModuleNotFoundError",
     "evalue": "No module named 'codecarbon'",
     "output_type": "error",
     "traceback": [
      "\u001b[0;31m---------------------------------------------------------------------------\u001b[0m",
      "\u001b[0;31mModuleNotFoundError\u001b[0m                       Traceback (most recent call last)",
      "Cell \u001b[0;32mIn[6], line 1\u001b[0m\n\u001b[0;32m----> 1\u001b[0m \u001b[38;5;28;01mfrom\u001b[39;00m \u001b[38;5;21;01mcodecarbon\u001b[39;00m \u001b[38;5;28;01mimport\u001b[39;00m track_emissions\n",
      "\u001b[0;31mModuleNotFoundError\u001b[0m: No module named 'codecarbon'"
     ]
    }
   ],
   "source": [
    "from codecarbon import track_emissions\n"
   ]
  }
 ],
 "metadata": {
  "kernelspec": {
   "display_name": "Python 3 (ipykernel)",
   "language": "python",
   "name": "python3"
  },
  "language_info": {
   "codemirror_mode": {
    "name": "ipython",
    "version": 3
   },
   "file_extension": ".py",
   "mimetype": "text/x-python",
   "name": "python",
   "nbconvert_exporter": "python",
   "pygments_lexer": "ipython3",
   "version": "3.11.10"
  }
 },
 "nbformat": 4,
 "nbformat_minor": 5
}
